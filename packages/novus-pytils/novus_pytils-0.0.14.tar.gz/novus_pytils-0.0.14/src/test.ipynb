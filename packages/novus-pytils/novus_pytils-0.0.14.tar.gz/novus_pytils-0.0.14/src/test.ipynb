{
 "cells": [
  {
   "cell_type": "code",
   "execution_count": 1,
   "metadata": {},
   "outputs": [
    {
     "name": "stdout",
     "output_type": "stream",
     "text": [
      "['1044 ford', '1045 ford', '1041 FORD', '1047 FORD', '1043 chrysler', '1042 subru', '1046 mazda', '/1044 ford/Pictures', '/1045 ford/Pictures', '/1041 FORD/Pictures', '/1047 FORD/Pictures', '/1043 chrysler/Pictures', '/1042 subru/Pictures', '/1046 mazda/Pictures']\n"
     ]
    }
   ],
   "source": [
    "from novus_pytils.files import *\n",
    "\n",
    "#file_list = get_files_by_extension(directory='/home/john/Desktop/test_annotate', extensions=['.jpg', '.ipynb'], relative=True)\n",
    "dir_list = get_dir_list(directory='/home/john/Desktop/test_annotate', relative=True)\n",
    "\n",
    "print(dir_list)"
   ]
  }
 ],
 "metadata": {
  "kernelspec": {
   "display_name": ".venv",
   "language": "python",
   "name": "python3"
  },
  "language_info": {
   "codemirror_mode": {
    "name": "ipython",
    "version": 3
   },
   "file_extension": ".py",
   "mimetype": "text/x-python",
   "name": "python",
   "nbconvert_exporter": "python",
   "pygments_lexer": "ipython3",
   "version": "3.11.9"
  }
 },
 "nbformat": 4,
 "nbformat_minor": 2
}
