{
 "cells": [
  {
   "cell_type": "markdown",
   "id": "83ea408a",
   "metadata": {},
   "source": [
    "<h1><center>Annotations</center></h1>\n",
    "<center>Group annotations into biologically relevant groups</center>"
   ]
  },
  {
   "cell_type": "code",
   "execution_count": 40,
   "id": "94c522d5",
   "metadata": {},
   "outputs": [],
   "source": [
    "import json\n",
    "import pandas as pd\n",
    "import numpy as np\n",
    "wd = \"/project/def-eroussea/projects/phage-protein-function-prediction/\""
   ]
  },
  {
   "cell_type": "code",
   "execution_count": 41,
   "id": "8fdd156f",
   "metadata": {},
   "outputs": [],
   "source": [
    "phrogs = pd.read_csv(\"./phrog_index.csv\")\n",
    "annotations = phrogs.Annotation.unique().astype(str)\n",
    "categories = phrogs.loc[:, [\"Annotation\", \"Category\"]].drop_duplicates()"
   ]
  },
  {
   "cell_type": "markdown",
   "id": "5f6f2007",
   "metadata": {},
   "source": [
    "# Using Phrogs categories"
   ]
  },
  {
   "cell_type": "code",
   "execution_count": 42,
   "id": "cff3fa1f",
   "metadata": {},
   "outputs": [
    {
     "name": "stdout",
     "output_type": "stream",
     "text": [
      "We can try using the phrogs categories to associate a first very general label to the proteins.\n",
      "\n",
      "\u001b[1mmoron, auxiliary metabolic gene and host takeover : \u001b[0m ['Zot-like toxin', 'Ulx-like anti-restriction', 'type I-F anti-CRISPR protein', 'type I-E anti-CRISPR protein', 'toxin-antitoxin system HicB-like', 'toxin of TA system', 'toxin', 'tellurite resistance', 'TciB-like inhibition of cell division or resistance to colicin', 'taurine catabolism dioxygenase', 'T3SS secreted effector Ibe', 'T3SS effector protein EspN', 'superoxide dismutase precursor', 'superinfection exclusion; inhibits SieB', 'superinfection exclusion SieA-like', 'superinfection exclusion Sie-like', 'superinfection exclusion', 'stringent starvation protein Sspb-like', 'Srd anti-sigma factor', 'sporulation stage III protein D', 'sporulation protein', 'SieB superinfection exclusion', 'Shiga toxin subunit B', 'Shiga toxin subunit A', 'RstB sensor of two protein system', 'ribulose-1;5-bisphosphate carboxylase/oxygenase small subunit', 'ribosome associated inhibitor A; zinc finger domain', 'ribosomal protein S6 glutaminyl transferase', 'ribosomal protein S21', 'ribonuclease toxin of AT system', 'RexB-like exclusion protein', 'RexA-like exclusion protein', 'Ren-like exclusion protein', 'RelE-like toxin', 'quinone oxidoreductase TQO', 'queuine tRNA-ribosyltransferase', 'QueE-like  radical SAM domain', 'QueD-like  6-pyruvoyl-tetrahydropterin synthase', 'QueC-like queuosine biosynthesis', 'quaternary ammonium compound-resistance protein QacE', 'PufC cytochrome', 'PufB cytochrome subunit', 'PufA cytochrome subunit', 'porphyrin biosynthesis', 'polysaccharide deacetylase', 'polysaccharide chain length determinant protein', 'PnuC-like nicotinamide mononucleotide transport', 'plastoquinol terminal oxidase', 'plasmid antitoxin with HTH domain', 'pilin', 'photosystem II D2', 'photosystem II D1', 'photosystem I psaA/psaB protein', 'phosphoribosylaminoimidazole-succinocarboxamide synthase', 'phosphoribosylaminoimidazole synthetase', 'phosphoheptose isomerase', 'phosphoadenosine phosphosulfate reductase', 'phospho-2-dehydro-3-deoxyheptonate aldolase', 'phosphate transporter subunit', 'Phd-like antitoxin', 'pectin lyase activity', 'pectate lyase', 'PAGK virulence factor', 'PAAR motif of membran proteins', 'ocr-like anti-restriction', 'O-antigen acetylase', 'NrdD-like anaerobic ribonucleotide reductase large subunit', 'NrdC-like thioredoxin', 'NrdA-like aerobic NDP reductase large subunit', 'Nol-like carbamoyltransferase', 'NifU-like Fe-S cluster assembly protein', 'nicotinamide-nucleotide adenylyltransferase', 'MokW-like host killing', 'mobile element MPME', 'MIT family metal ion transporter', 'membrane-flanked domain', 'membrane protein', 'membrane DNA delivery', 'membrane associated protein', 'MazF-like growth inhibitor', 'lipase', 'levanase', 'Lar-like restriction alleviation protein', 'involved in bacteriocin production or immunity', 'inhibitor of MrcBC restriction', 'immunity to superinfection', 'host RecBCD nuclease inhibitor', 'host range and adsorption protein', 'host nuclease inhibitor', 'HicB-like antitoxin', 'Hdf-like antirestriction', 'GtrC-like O-antigen conversion translocase', 'GtrB-like O-antigen conversion', 'GtrB glycosyltransferase for O-antigen conversion', 'GtrA-like O-antigen conversion', 'Gp5.9-like inihibitor of recBCD nuclease', 'Gp5.5-like host HNS inhibition', 'glycosyltransferase', 'glutathionylspermidine synthase', 'glutamine amidotransferase', 'glucosyltransferase', 'gamma-glutamyl cyclotransferase', 'gam-like host nuclease inhibitor', 'galactosyl transferase', 'Galactose-3-O-sulfotransferase', 'FtsK/SpoIIIE-like protein', 'flavodoxin', 'flagellar protein', 'ferrochelatase', 'ferredoxin oxidoreductase', 'ferredoxin', 'FabG-like 3-oxoacyl-(acyl-carrier-protein) reductase', 'enterotoxin type A / speL', 'enterotoxin CtxB', 'enterotoxin CtxA', 'enoyl-CoA hydratase/carnithine racemase-like', 'endonuclease nicking abasic sites generated by host uracil glycosylase Ung', 'dTDP-4-dehydrorhamnose 3,5-epimerase', 'Doc-like toxin', 'dimethyl sulfoxide reductase DmsA', 'decoy of host sigma70', 'decoy of host sigma32', 'DdrA-like anti-restriction protein', 'DarB-like antirestriction', 'cytolethal distending toxin C subunit', 'cytolethal distending toxin B subunit', 'cytolethal distending toxin A subunit', 'cyanobacterial phosphoribosylglycinamide formyltransferase', 'CTXphi Zot-like toxin', 'CpeT-like antenna protein', 'core encoded pilin', 'Cor superinfection exclusion protein', 'colanic acid degradation', 'cobalamin biosynthesis protein', 'chitinase', 'chemotaxis inhibition protein', 'cell division inhibitor', 'cef modifier of supressor tRNAs', 'cation efflux protein', 'Bxa ADP-ribosyl transferase', 'BstA abortive infection system, replication inhibitor', 'beta-lactamase-inhibitor protein BLIP', 'beta-glucosyltransferase', 'beta-1,4-glycosyltransferase', 'arabinose 5-phosphate isomerase', 'antitoxin with HTH domain', 'antitoxin mazE-like', 'antitoxin from a toxin-antitoxin system', 'antimicrobial peptide resistance and lipid A acylation protein PagP', 'anti-sigma factor', 'anti-restriction protein', 'Alt-like RNA polymerase ADP-ribosyltransferase', 'aerobic cobaltochelatase CobT subunit', 'ADP-ribosyltransferase exoenzyme toxin', 'ADP-ribosyltransferase', 'acyl-CoA N-acyltransferase', 'acyl carrier protein', 'activator of host PrrC lysyl-tRNA endonuclease', 'abortive infection resistance protein', 'Abi alpha-like abortive infection mechanism', 'abc2 anti-RecBCD', 'ABC transporter ATP-binding subunit', 'ABC transporter', '5-phosphoribosylformylglycinamide amidotransferase', \"5'-3' deoxyribonucleotidase\", '2OG-Fe(II) oxygenase']\n",
      "\u001b[1m\n",
      "transcription regulation : \u001b[0m ['WhiB transcriptional factor', 'transcriptional repressor', 'transcriptional regulator, D5-like', 'transcriptional regulator WhiB-like', 'transcriptional regulator', 'transcriptional activator', 'transcription factor', 'transcription antiterminator', 'starvation-inducible transcriptional regulator', 'sigma-K factor', 'sigma factor for late transcription', 'sigma factor', 'RNA polymerase sigma factor', 'RinB-like transcriptional activator', 'Rha-like transcriptional regulator', 'Nun-like transcription termination factor', 'Mrh transcription modulator under heat shock', 'MotB-like transcriptional regulator', 'MotA-like activator of middle period transcription', 'MerR-like transcriptional regulator', 'MarR family transcrition regulator', 'Lpa-like transcriptional activator', 'late transcriptional activator', 'late sigma transcription factor', 'late promoter transcriptional regulator', 'inhibitor of transcription initiation and antiterminator', 'inhibitor of host transcription', 'FmdB-like transcriptional regulator', 'CsrA-like regulator', 'cro-like repressor', 'CopG-like transcriptional repressor', 'CIII anti-termination', 'CII-like transcriptional activator', 'CII-like regulator', 'CI-like repressor', 'Arc-like transcriptional regulator', 'Arc-like repressor', 'Arc-like DNA binding domain', 'anti-termination protein Q-like', 'anti-termination protein N-like', 'anti-repressor Ant', 'anti-repressor', 'Alt-like transcription activator']\n",
      "\u001b[1m\n",
      "head and packaging : \u001b[0m ['virion structural protein', 'terminase small subunit', 'terminase large subunit', 'terminase', 'tail tip protein Tal', 'structural protein with Ig domain', 'structural protein', 'spore coat protein', 'scaffolding protein', 'pyramid forming protein', 'prohead protease inhibitor', 'prohead', 'portal protein', 'PmgS-like head morphogenesis', 'PmgG-like head morphogenesis', 'PmgC-like head morphogenesis', 'PmgB-like head morphogenesis', 'morphogenesis (protein I of M13)', 'minor head protein; receptor binding', 'minor head protein inhibitor of protease', 'minor head protein and DNA pilot', 'minor head protein Ace-like', 'minor head protein', 'minor coat protein', 'major spike protein', 'major head protein', 'major head and protease protein', 'major coat protein', 'major capsid protein', 'internal virion protein with endolysin domain', 'internal virion protein', 'internal virion lysozyme motif', 'internal head protein', 'Hoc-like head decoration', 'head vertex assembly chaperone', 'head scaffolding protein', 'head protein', 'head morphogenesis', 'head maturation protease', 'head fiber protein', 'head decoration protein', 'head decoration', 'head assembly', 'endolysin', 'DNA packaging chaperone FI', 'attachment protein', 'assembly (protein IV of M13)']\n",
      "\u001b[1m\n",
      "DNA, RNA and nucleotide metabolism : \u001b[0m ['virion RNA polymerase', 'valyl tRNA synthetase modifier', 'UvsY-like recombination mediator', 'uracil-DNA glycosylase', 'UmuD-like protein', 'tyrosyl-tRNA synthetase', 'tubulin PhuZ', 'tRNA-His guanylyltransferase', 'tRNA synthetase', 'tRNA splicing ligase RtcB', 'tRNA splicing ligase', 'tRNA nucleotidyltransferase', 'tRNA amidotransferase', 'thymidylate synthase complementing protein', 'thymidylate synthase', 'thioredoxin domain', 'Sir2 (NAD-dependent deacetylase)', 'single strand DNA binding protein', 'single strand annealing protein', 'segregation and condensation complex subunit ScpB', 'SbcD-like subunit of palindrome specific endonuclease', 'SbcC-like subunit of palindrome specific endonuclease', 'Sak4-like ssDNA annealing protein', 'Sak-like ssDNA annealing protein', 'RuvC-like Holliday junction resolvase', 'RusA-like Holliday junction resolvase', 'RpbA RNA polymerase binding protein', 'rolling circle DNA replication initiation', 'Rnase H', 'Rnase E', 'RNA-dependent RNA polymerase', 'RNA-binding protein', 'RNA replicase beta subunit', 'RNA polymerase inhibitor', 'RNA polymerase binding', 'RNA polymerase beta subunit', 'RNA polymerase ADP-ribosylase', 'RNA polymerase', 'RNA ligase', \"RNA 2'-phosphotransferase\", 'ribonucleotide reductase NrdA-like', 'ribonucleotide reductase large subunit', 'ribonucleotide reductase class Ia beta subunit', 'ribonucleotide reductase alpha subunit', 'ribonucleotide reductase', 'ribonucleoside-diphosphate reductase large subunit', 'ribonucleoside-diphosphate reductase beta subunit', 'ribonucleoside reductase class II', 'ribonucleoside diphosphate reductase small subunit', 'ribonuclease', 'Reverse transcriptase', 'restriction enzyme III', 'restriction enzyme I', 'restriction endonuclease II', 'restriction endonuclease', 'restriction alleviation ral', 'replisome organizer DnaA-like', 'replisome organizer', 'replicative helicase-primase', 'replication terminator', 'replication protein', 'replication origin binding', 'replication initiation protein', 'replication initiation O-like', 'replication initiation by nicking', 'replication helicase', 'replication', 'regulator of chromosome condensation', 'Ref-like RecA filament endonuclease', 'RecX-like filament modulator', 'RecT-like ssDNA annealing protein', 'RecJ-like ssDNA exonuclease', 'RecE-like recombination exonuclease', 'RecA filament binding protein DinI', 'primosomal protein', 'primase', 'polymerase', 'polarity suppression Psu-like by overcoming Rho', 'plasmid stability', 'partition protein', 'ParB-like partition protein', 'ParB-like partition nuclease', 'ParB C-terminal domain', 'ParA-like partition protein', 'Panton-Valentine leukocicin', 'P-like helicase loader', 'nucloid associated Lsr2-like', 'nucleotidyltransferase', 'nucleotide-sugar epimerase', 'nucleotidase', 'nucleoside triphosphate pyrophosphohydrolase', 'nucleoside deoxyribosyltransferase', 'nucleoside 2-deoxyribosyltransferase', 'nucleoid associated protein', 'nuclease', 'nuclear shell protein', 'NinG/ Rap DNA junction specific endonuclease', 'NinB/ Orf homologous recombination mediator', 'nicking at origin of replication', 'Ndd-like nucleoid disruption protein', 'NAD-dependent DNA ligase', 'N4-like RNA polymerase', 'Mu Gam-like end protection', 'Lsr2-like DNA bridging protein', 'Ku-like DNA end binding', 'intron-like DNA endonuclease', 'intron encoded nuclease', 'HTH DNA binding protein', 'HTH DNA binding domain protein', 'homing endonuclease with LAGLIDADG motif', 'homing endonuclease with GIY-YIG motif', 'homing endonuclease', 'Holliday junction resolvase', 'Holliday junction branch migration helicase', 'HNH endonuclease', 'histone family DNA-binding', 'histidyl tRNA synthetase', 'helicase subunit of the DNA excision repair complex', 'helicase loader', 'helicase', 'gpCom control of modification', 'Gp2.5-like ssDNA binding protein and ssDNA annealing protein', 'GP16.7-like replication protein', 'goF mRNA metabolism modulator', 'genome terminal protein', 'exonuclease VIII', 'exonuclease VII', 'exonuclease V', 'exonuclease recombination-associated', 'exonuclease', 'Erf-like ssDNA annealing protein', 'Erf recombination cofactor Arf', 'ERCC4-type nuclease', 'endoribonuclease', 'endonuclease VII', 'endonuclease V N-glycosylase UV repair enzyme', 'endonuclease', 'dUTPase', 'dsDNA binding protein', 'DprA-like DNA recombination-mediator protein', 'DnaD-like helicase loader', 'DnaC-like helicase loader', 'DnaB-like replicative helicase', 'DnaA-like replication initiation protein', 'DNA topoisomerase II large subunit', 'DNA topoisomerase II', 'DNA topoisomerase', 'DNA terminal protein', 'DNA sliding clamp inhibitor; arrest of S.aureus DNA synthesis', 'DNA replication initiation', 'DNA repair protein', 'DNA repair photolyase', 'DNA repair exonuclease', 'DNA primase/helicase', 'DNA primase', 'DNA polymerase/primase', 'DNA polymerase processivity factor', 'DNA polymerase III theta subunit', 'DNA polymerase I', 'DNA polymerase exonuclease subunit', 'DNA polymerase', 'DNA methylase', 'DNA ligase', 'DNA invertase', 'DNA helicase loader', 'DNA helicase', 'DNA endonuclease V', 'DNA endonuclease', 'DNA end protector', 'DNA ejection protein', 'DNA ejection', 'DNA condensation', 'DNA circularization', 'DNA binding protein', 'DNA binding domain', 'Dmd discriminator of mRNA degradation', 'dihydrofolate reductase', 'deoxycytidinylate deaminase', 'DenB-like DNA endonuclease IV', 'Dda-like helicase', 'dCTP deaminase', 'dCMP hydroxymethylase', 'dCMP deaminase', 'dATP triphosphohydrolase', 'dATP / dGTP pyrophosphohydrolase', 'CRISPR/Cas system associated', 'clamp loader of DNA polymerase', 'Cas4-domain exonuclease', 'Bet-like ssDNA annealing protein', 'Avd protein of DGR', 'ATP-dependent DNA ligase', 'anti-restriction nuclease', 'anaerobic ribonucleotide reductase small subunit', 'anaerobic ribonucleoside reductase small subunit', 'anaerobic ribonucleoside reductase large subunit', 'alkylated DNA repair', 'aerobic NDP reductase small subunit', \"3'-5' exonuclease\", '2-aminooxy adenylosuccinate synthetase']\n",
      "\u001b[1m\n",
      "connector : \u001b[0m ['upper collar connector', 'tail terminator', 'tail completion or Neck1 protein', 'tail completion', 'pre-neck appendage protein', 'neck protein', 'neck passage structure protein', 'neck passage structure', 'head-tail joining', 'head-tail connector protein', 'head-tail adaptor Ad3', 'head-tail adaptor Ad2', 'head-tail adaptor Ad1', 'head-tail adaptor', 'head closure Hc3', 'head closure Hc2', 'head closure Hc1', 'head closure', 'appendage', 'adaptor Ad4']\n",
      "\u001b[1m\n",
      "integration and excision : \u001b[0m ['transposase', 'site-specific recombination directionality factor RDF', 'recombination directionality factor', 'integrase', 'excisionase and transcriptional regulator', 'excisionase', 'DNA transposition protein', 'Cox-like excisionase and repressor']\n",
      "\u001b[1m\n",
      "tail : \u001b[0m ['tail tubular protein', 'tail tube protein', 'tail tube', 'tail spike protein with colonic acid degradation activity', 'tail spike protein', 'tail sheath stabilizer', 'tail sheath and receptor binding protein', 'tail sheath', 'tail protein XkdN-like', 'tail protein with lysin activity', 'tail protein and host specificity', 'tail protein', 'tail needle protein', 'tail needle knob', 'tail length tape measure protein chaperone', 'tail length tape measure protein', 'tail fiber protein; Ig-domain containing', 'tail fiber protein; host specificity', 'tail fiber protein/ lysozyme', 'tail fiber protein proximal subunit', 'tail fiber protein and host specificity', 'tail fiber protein', 'tail fiber chaperone', 'tail fiber assembly protein', 'tail fiber assembly', 'tail fiber adhesin', 'tail collar protein', 'tail collar fiber protein', 'tail chaperonin', 'tail chaperone protein', 'tail associated lysin', 'tail assembly protein', 'Tail assembly chaperone', 'tail assembly chaperone', 'tail appendage', 'straight fibre tail protein', 'short tail fiber protein', 'RNA ligase and tail fiber protein attachment catalyst', 'receptor binding tail protein', 'pilot protein for DNA ejection', 'pentameric base spike protein', 'minor tail protein with lysin activity', 'minor tail protein', 'major tail protein with Ig-like domain', 'major tail protein', 'lytic tail protein', 'lytic tail fiber protein', 'lower collar', 'long tail fiber protein proximal connector', 'long tail fiber protein distal subunit', 'L-shaped tail fiber protein assembly', 'hinge connector of long tail fiber protein distal connector', 'Gpu-like tail protein', 'fibritin neck whisker', 'EPS depolymerase', 'distal tail protein Dit', 'distal tail protein', 'collar tail protein for L-shaped tail fibre attachment', 'collagen like minor tail', 'central tail fiber J', 'capsid assembly protein', 'baseplate wedge tail fiber protein connector', 'baseplate wedge subunit', 'baseplate wedge initiator', 'baseplate tail tube cap', 'baseplate spike', 'baseplate protein', 'baseplate hub subunit and tail lysozyme', 'baseplate hub subunit and tail length', 'baseplate hub distal subunit', 'baseplate hub assembly catalyst', 'baseplate hub and tail lysozyme', 'baseplate hub', 'baseplate assembly protein', 'base plate tail tube protein', 'adhesin']\n",
      "\u001b[1m\n",
      "lysis : \u001b[0m ['spanin', 'Rz-like spanin', 'RIIB lysis inhibitor', 'RIIA lysis inhibitor', 'lysozyme domain-containing protein', 'lysM motif protein', 'lysis inhibition; accessory protein', 'lysis inhibition', 'lysis determining protein', 'i-spanin', 'holin/anti-holin', 'holin', 'endolysin; lysM motif', 'endolysin; inhibits RNA polymerase', 'endolysin', 'cysteine protease', 'amidase']\n"
     ]
    }
   ],
   "source": [
    "cat_moron = list(categories.loc[categories.Category == \"moron, auxiliary metabolic gene and host takeover\", \"Annotation\"])\n",
    "cat_tr = list(categories.loc[categories.Category == \"transcription regulation\", \"Annotation\"])\n",
    "cat_head = list(categories.loc[categories.Category == \"head and packaging\", \"Annotation\"])\n",
    "cat_DNA_RNA = list(categories.loc[categories.Category == \"DNA, RNA and nucleotide metabolism\", \"Annotation\"])\n",
    "cat_connector = list(categories.loc[categories.Category == \"connector\", \"Annotation\"])\n",
    "cat_integration = list(categories.loc[categories.Category == \"integration and excision\", \"Annotation\"])\n",
    "cat_tail = list(categories.loc[categories.Category == \"tail\", \"Annotation\"])\n",
    "cat_lysis = list(categories.loc[categories.Category == \"lysis\", \"Annotation\"])\n",
    "\n",
    "print(\"We can try using the phrogs categories to associate a first very general label to the proteins.\\n\")\n",
    "print('\\033[1m' + f\"moron, auxiliary metabolic gene and host takeover : \" + '\\033[0m', cat_moron)\n",
    "print('\\033[1m' + f\"\\ntranscription regulation : \" + '\\033[0m', cat_tr)\n",
    "print('\\033[1m' + f\"\\nhead and packaging : \" + '\\033[0m', cat_head)\n",
    "print('\\033[1m' + f\"\\nDNA, RNA and nucleotide metabolism : \" + '\\033[0m', cat_DNA_RNA)\n",
    "print('\\033[1m' + f\"\\nconnector : \" + '\\033[0m', cat_connector)\n",
    "print('\\033[1m' + f\"\\nintegration and excision : \" + '\\033[0m', cat_integration)\n",
    "print('\\033[1m' + f\"\\ntail : \" + '\\033[0m', cat_tail)\n",
    "print('\\033[1m' + f\"\\nlysis : \" + '\\033[0m', cat_lysis)"
   ]
  },
  {
   "cell_type": "markdown",
   "id": "a0775eed",
   "metadata": {},
   "source": [
    "# Packaging and assembly\n",
    "\n",
    "Packaging, assembly, scaffolding, morphogenesis proteins \\\n",
    "Chaperones, terminases, head maturation proteases"
   ]
  },
  {
   "cell_type": "code",
   "execution_count": 43,
   "id": "f361dddf",
   "metadata": {},
   "outputs": [
    {
     "name": "stdout",
     "output_type": "stream",
     "text": [
      "\u001b[1m\n",
      "Packaging and assembly:\u001b[0m ['terminase small subunit', 'terminase large subunit', 'terminase', 'tail length tape measure protein chaperone', 'tail fiber chaperone', 'tail fiber assembly protein', 'tail fiber assembly', 'tail chaperone protein', 'tail assembly protein', 'Tail assembly chaperone', 'tail assembly chaperone', 'scaffolding protein', 'PmgS-like head morphogenesis', 'PmgG-like head morphogenesis', 'PmgC-like head morphogenesis', 'PmgB-like head morphogenesis', 'NifU-like Fe-S cluster assembly protein', 'morphogenesis (protein I of M13)', 'L-shaped tail fiber protein assembly', 'head vertex assembly chaperone', 'head scaffolding protein', 'head morphogenesis', 'head assembly', 'DNA packaging chaperone FI', 'capsid assembly protein', 'baseplate hub assembly catalyst', 'baseplate assembly protein', 'assembly (protein IV of M13)', 'head maturation protease', 'prohead protease inhibitor', 'tail chaperonin']\n"
     ]
    }
   ],
   "source": [
    "packaging = ([i for i in annotations if (\"packaging\" in i) or (\"assembly\" in i) or (\"scaffolding\" in i) or \n",
    "             (\"morphogenesis\" in i) or (\"chaperone\" in i) or (\"terminase\" in i)] + \n",
    "            ['head maturation protease', 'prohead protease inhibitor', 'tail chaperonin'])\n",
    "print('\\033[1m' + \"\\nPackaging and assembly:\" + '\\033[0m', packaging)"
   ]
  },
  {
   "cell_type": "markdown",
   "id": "31a3b328",
   "metadata": {},
   "source": [
    "# Phage virion proteins (structural)"
   ]
  },
  {
   "cell_type": "code",
   "execution_count": 44,
   "id": "6dc55962",
   "metadata": {
    "scrolled": true
   },
   "outputs": [
    {
     "name": "stdout",
     "output_type": "stream",
     "text": [
      "\u001b[1mpvp :\u001b[0m {'tail spike protein', 'collagen like minor tail', 'tail fiber protein; Ig-domain containing', 'tail protein with peptidase activity', 'straight fibre tail protein', 'tail tube', 'baseplate tail tube cap', 'tail collar protein', 'lytic tail fiber protein', 'fibritin neck whisker', 'RNA ligase and tail fiber protein attachment catalyst', 'receptor binding tail protein', 'baseplate wedge tail fiber protein connector', 'spore coat protein', 'lytic tail protein', 'tail protease', 'head-tail adaptor Ad3', 'prohead', 'head closure Hc2', 'tail tubular protein', 'upper collar connector', 'tail spike protein with colonic acid degradation activity', 'baseplate hub and tail lysozyme', 'Gpu-like tail protein', 'tail sheath', 'head closure Hc3', 'tail completion', 'collar tail protein for L-shaped tail fibre attachment', 'tail protein XkdN-like', 'minor head protein Ace-like', 'pentameric base spike protein', 'neck passage structure protein', 'major spike protein', 'hinge connector of long tail fiber protein distal connector', 'tail fiber protein', 'tail appendage', 'long tail fiber protein distal subunit', 'lower collar', 'tail injection transglycosylase', 'head protein', 'head decoration protein', 'head-tail adaptor', 'tail protein and host specificity', 'pyramid forming protein', 'tail tip protein Tal', 'head closure', 'baseplate hub subunit and tail lysozyme', 'virion RNA polymerase', 'Hoc-like head decoration', 'baseplate spike', 'major tail protein', 'minor head protein inhibitor of protease', 'EPS depolymerasehost range and adsorption protein', 'baseplate wedge subunit', 'tail sheath and receptor binding protein', 'major coat protein', 'major head protein', 'tail terminator', 'head fiber protein', 'minor coat protein', 'tail fiber adhesin', 'short tail fiber protein', 'virion structural protein', 'head-tail connector protein', 'major capsid protein', 'pre-neck appendage protein', 'minor head protein; receptor binding', 'major head and protease protein', 'baseplate hub subunit and tail length', 'minor head protein', 'baseplate hub distal subunit', 'head-tail adaptor Ad1', 'head closure Hc1', 'distal tail protein Dit', 'base plate tail tube protein', 'tail tube protein', 'tail associated cell-wall hydrolase', 'tail fiber protein; host specificity', 'head-tail adaptor Ad2', 'tail protein', 'long tail fiber protein proximal connector', 'tail sheath stabilizer', 'portal protein', 'baseplate protein', 'neck passage structure', 'minor tail protein with lysin activity', 'tail fiber protein and host specificity', 'tail collar fiber protein', 'tail fiber protein/ lysozyme', 'head decoration', 'tail associated lysin', 'distal tail protein', 'tail protein with lysin activity', 'adaptor Ad4', 'attachment protein', 'structural protein with Ig domain', 'baseplate wedge initiator', 'tail length tape measure protein', 'tail needle knob', 'baseplate hub', 'minor tail protein', 'neck protein', 'tail protein with endopeptidase domain', 'central tail fiber J', 'appendage', 'major tail protein with Ig-like domain', 'head-tail joining', 'minor head protein and DNA pilot', 'structural protein', 'tail fiber protein proximal subunit', 'tail completion or Neck1 protein', 'tail protein with endopeptidase activity', 'tail needle protein'}\n"
     ]
    }
   ],
   "source": [
    "pvp = [i for i in annotations if ((\"head\" in i) or (\"tail\" in i) or (\"capsid\" in i) or (\"neck\"in i) or \n",
    "                                 (\"portal\" in i) or (\"structur\" in i) or (\"baseplate\" in i) or (\"fiber\" in i) or\n",
    "                                 (\"collar\" in i) or (\"sheath\" in i) or (\"spike\" in i) or (\"Tail\" in i) or (\"virion\" in i)\n",
    "                                 or (\"appendage\" in i) or (\"adaptor\" in i))]\n",
    "pvp = pvp + [\"spore coat protein\", \"pyramid forming protein\",\"minor coat protein\",\"major coat protein\",\n",
    "       \"attachment protein\", \"EPS depolymerase\" + \"host range and adsorption protein\", ]\n",
    "pvp = set(pvp) - set(packaging) - set([i for i in annotations if (\"internal\" in i)])\n",
    "print('\\033[1m' + \"pvp :\" + '\\033[0m', pvp)"
   ]
  },
  {
   "cell_type": "markdown",
   "id": "502135b3",
   "metadata": {},
   "source": [
    "#### Subtypes of PVPs"
   ]
  },
  {
   "cell_type": "code",
   "execution_count": 45,
   "id": "08b8b382",
   "metadata": {
    "scrolled": true
   },
   "outputs": [
    {
     "name": "stdout",
     "output_type": "stream",
     "text": [
      "\u001b[1m\n",
      "baseplate :\u001b[0m {'distal tail protein', 'hinge connector of long tail fiber protein distal connector', 'baseplate tail tube cap', 'baseplate wedge tail fiber protein connector', 'long tail fiber protein distal subunit', 'baseplate wedge initiator', 'baseplate hub', 'tail tip protein Tal', 'baseplate hub subunit and tail length', 'baseplate hub distal subunit', 'base plate tail tube protein', 'baseplate hub subunit and tail lysozyme', 'distal tail protein Dit', 'baseplate wedge subunit', 'baseplate hub and tail lysozyme', 'baseplate protein'}\n",
      "\u001b[1m\n",
      "tail appendage :\u001b[0m ['tail fiber protein/ lysozyme', 'tail spike protein', 'pentameric base spike protein', 'major spike protein', 'tail fiber protein; Ig-domain containing', 'hinge connector of long tail fiber protein distal connector', 'tail fiber adhesin', 'short tail fiber protein', 'straight fibre tail protein', 'tail fiber protein', 'tail appendage', 'long tail fiber protein distal subunit', 'lytic tail fiber protein', 'tail needle knob', 'central tail fiber J', 'baseplate spike', 'tail fiber protein; host specificity', 'long tail fiber protein proximal connector', 'tail fiber protein proximal subunit', 'tail spike protein with colonic acid degradation activity', 'tail needle protein', 'tail fiber protein and host specificity', 'tail collar fiber protein']\n",
      "\u001b[1m\n",
      "portal :\u001b[0m ['portal protein']\n",
      "\u001b[1m\n",
      "collar :\u001b[0m ['tail collar protein', 'collar tail protein for L-shaped tail fibre attachment', 'lower collar', 'upper collar connector']\n",
      "\u001b[1mexcluded :\u001b[0m ['tail collar fiber protein']\n",
      "\u001b[1m\n",
      "tail sheath :\u001b[0m ['tail sheath stabilizer', 'tail sheath and receptor binding protein', 'tail sheath']\n",
      "\u001b[1m\n",
      "head-tail joining :\u001b[0m ['head-tail joining', 'head-tail connector protein', 'head-tail adaptor Ad3', 'head-tail adaptor Ad2', 'head-tail adaptor Ad1', 'head-tail adaptor', 'adaptor Ad4', 'head closure Hc3', 'head closure Hc2', 'head closure', 'head closure Hc1']\n",
      "\u001b[1m\n",
      "capsid :\u001b[0m {'major head and protease protein', 'minor head protein; receptor binding', 'head decoration', 'minor head protein', 'minor head protein Ace-like', 'prohead', 'head fiber protein', 'Hoc-like head decoration', 'minor coat protein', 'minor head protein and DNA pilot', 'minor head protein inhibitor of protease', 'head decoration protein', 'head protein', 'spore coat protein', 'major capsid protein', 'major coat protein', 'major head protein'}\n",
      "\u001b[1m\n",
      "major capsid :\u001b[0m ['major head protein', 'major head and protease protein', 'major capsid protein', 'major coat protein']\n",
      "\u001b[1m\n",
      "minor capsid :\u001b[0m ['minor head protein Ace-like', 'minor head protein; receptor binding', 'minor head protein inhibitor of protease', 'minor head protein', 'minor head protein and DNA pilot', 'minor coat protein', 'Hoc-like head decoration', 'head decoration protein', 'head decoration']\n",
      "\u001b[1m\n",
      "tail :\u001b[0m ['tail terminator', 'tail spike protein', 'collagen like minor tail', 'tail fiber protein; Ig-domain containing', 'tail protein with peptidase activity', 'short tail fiber protein', 'straight fibre tail protein', 'tail tube', 'tail fiber adhesin', 'baseplate tail tube cap', 'baseplate wedge tail fiber protein connector', 'lytic tail fiber protein', 'RNA ligase and tail fiber protein attachment catalyst', 'receptor binding tail protein', 'lytic tail protein', 'tail protease', 'baseplate hub subunit and tail length', 'tail tubular protein', 'baseplate hub distal subunit', 'base plate tail tube protein', 'distal tail protein Dit', 'tail associated cell-wall hydrolase', 'tail tube protein', 'EPS depolymerase', 'tail fiber protein; host specificity', 'tail protein', 'long tail fiber protein proximal connector', 'tail sheath stabilizer', 'tail spike protein with colonic acid degradation activity', 'baseplate hub and tail lysozyme', 'baseplate protein', 'Gpu-like tail protein', 'tail sheath', 'minor tail protein with lysin activity', 'tail fiber protein and host specificity', 'tail collar fiber protein', 'tail fiber protein/ lysozyme', 'tail completion', 'tail protein XkdN-like', 'pentameric base spike protein', 'tail associated lysin', 'distal tail protein', 'major spike protein', 'tail protein with lysin activity', 'hinge connector of long tail fiber protein distal connector', 'tail fiber protein', 'tail appendage', 'long tail fiber protein distal subunit', 'tail injection transglycosylase', 'baseplate wedge initiator', 'tail length tape measure protein', 'tail protein and host specificity', 'tail needle knob', 'baseplate hub', 'minor tail protein', 'tail tip protein Tal', 'baseplate hub subunit and tail lysozyme', 'tail protein with endopeptidase domain', 'central tail fiber J', 'major tail protein with Ig-like domain', 'baseplate spike', 'major tail protein', 'tail fiber protein proximal subunit', 'adhesin', 'tail completion or Neck1 protein', 'baseplate wedge subunit', 'tail protein with endopeptidase activity', 'tail sheath and receptor binding protein', 'tail needle protein']\n",
      "\u001b[1m\n",
      "major tail :\u001b[0m ['major tail protein with Ig-like domain', 'tail tubular protein', 'tail tube protein', 'major tail protein', 'tail tube', 'base plate tail tube protein']\n",
      "\u001b[1m\n",
      "minor tail :\u001b[0m ['minor tail protein with lysin activity', 'minor tail protein', 'collagen like minor tail', 'tail terminator', 'Gpu-like tail protein', 'tail completion or Neck1 protein', 'tail completion']\n",
      "\n",
      "I included 'neck' in PVPs, but did not assign them to a subclass\n",
      "VALs and cell wall hydrolases included in tail, but not in any subclass.\n"
     ]
    }
   ],
   "source": [
    "baseplate = [i for i in annotations if (\"base\" in i)] + [i for i in annotations if (\"distal\" in i)] + [\"tail tip protein Tal\"]\n",
    "remove = [\"baseplate hub assembly catalyst\", \"baseplate assembly protein\", \"pentameric base spike protein\", \n",
    "          \"baseplate spike\"]\n",
    "baseplate = set(baseplate) - set(remove)\n",
    "print('\\033[1m' + \"\\nbaseplate :\" + '\\033[0m', baseplate)\n",
    "\n",
    "tail_appendage = [i for i in annotations if ((\"tail\" in i) and ((\"fiber\" in i) or (\"appendage\" in i))) or (\"spike\" in i) or\n",
    "                  (\"needle\" in i)] + [\"straight fibre tail protein\"]\n",
    "remove = ['tail fiber chaperone','tail fiber assembly protein','tail fiber assembly', 'L-shaped tail fiber protein assembly',\n",
    "          'RNA ligase and tail fiber protein attachment catalyst', 'baseplate wedge tail fiber protein connector']\n",
    "tail_appendage = list(set(tail_appendage) - set(remove))\n",
    "print('\\033[1m' + \"\\ntail appendage :\" + '\\033[0m', tail_appendage)\n",
    "\n",
    "portal = [i for i in annotations if ((\"portal\" in i))]\n",
    "print('\\033[1m' + \"\\nportal :\" + '\\033[0m', portal)\n",
    "\n",
    "collar = [i for i in annotations if ((\"collar\" in i))]\n",
    "remove = [\"tail collar fiber protein\"]\n",
    "collar = list(set(collar) - set(remove))\n",
    "print('\\033[1m' + \"\\ncollar :\" + '\\033[0m', collar)\n",
    "print('\\033[1m' + \"excluded :\" + '\\033[0m', remove)\n",
    "\n",
    "tail_sheath = [i for i in annotations if ((\"tail\" in i) and (\"sheath\" in i))]\n",
    "print('\\033[1m' + \"\\ntail sheath :\" + '\\033[0m', tail_sheath)\n",
    "\n",
    "head_tail_joining = ([i for i in annotations if (((\"head\" in i) and (\"tail\" in i)) or (\"adaptor\" in i))] + \n",
    "                    ['head closure Hc3', 'head closure Hc2', 'head closure', 'head closure Hc1'])\n",
    "print('\\033[1m' + \"\\nhead-tail joining :\" + '\\033[0m', head_tail_joining)\n",
    "\n",
    "\n",
    "capsid = [i for i in annotations if (((\"head\" in i) or (\"capsid\" in i) or (\"coat\" in i)) and (not \"tail\" in i))]\n",
    "remove = [\"PmgS-like head morphogenesis\", \"PmgG-like head morphogenesis\", \"PmgC-like head morphogenesis\", \n",
    "          \"PmgB-like head morphogenesis\", \"head vertex assembly chaperone\", \"head scaffolding protein\", \"head morphogenesis\",\n",
    "          \"head assembly\", \"capsid assembly protein\",'head maturation protease', 'head closure Hc3', 'head closure Hc2', \n",
    "          'head closure', 'head closure Hc1', 'prohead protease inhibitor']\n",
    "capsid = set(capsid) - set(remove) - set([i for i in annotations if (\"internal\" in i)])\n",
    "print('\\033[1m' + \"\\ncapsid :\" + '\\033[0m', capsid)\n",
    "\n",
    "major_capsid = [\"major head protein\", \"major head and protease protein\", \"major capsid protein\", \"major coat protein\"]\n",
    "print('\\033[1m' + \"\\nmajor capsid :\" + '\\033[0m', major_capsid)\n",
    "\n",
    "minor_capsid = [\"minor head protein Ace-like\", \"minor head protein; receptor binding\", \"minor head protein inhibitor of protease\",\n",
    "               \"minor head protein\", \"minor head protein and DNA pilot\", \"minor coat protein\",'Hoc-like head decoration', \n",
    "                'head decoration protein', 'head decoration']\n",
    "print('\\033[1m' + \"\\nminor capsid :\" + '\\033[0m', minor_capsid)\n",
    "\n",
    "\n",
    "tail = [i for i in annotations if (((\"tail\" in i) or (\"spike\" in i)) and (not \"head\" in i)) or (\"Tail\" in i)]\n",
    "tail = np.unique(list(tail) + list(baseplate)+ list(tail_appendage)+ [\"adhesin\", \"EPS depolymerase\"])\n",
    "remove = (list(np.intersect1d(tail, collar)) + list(head_tail_joining) + \n",
    "          [\"tail length tape measure protein chaperone\",\"tail fiber chaperone\",\"tail fiber assembly protein\",\n",
    "          \"tail fiber assembly\",\"tail chaperone protein\",\"tail assembly protein\",\"Tail assembly chaperone\",\n",
    "          \"tail assembly chaperone\",\"L-shaped tail fiber protein assembly\", 'tail chaperonin'])\n",
    "tail = list(set(tail) - set(remove))\n",
    "print('\\033[1m' + \"\\ntail :\" + '\\033[0m', tail)\n",
    "\n",
    "major_tail = [\"major tail protein with Ig-like domain\", \"tail tubular protein\", \"tail tube protein\", \"major tail protein\", \n",
    "             \"tail tube\", \"base plate tail tube protein\"]\n",
    "print('\\033[1m' + \"\\nmajor tail :\" + '\\033[0m', major_tail)\n",
    "\n",
    "minor_tail = [\"minor tail protein with lysin activity\", \"minor tail protein\", \"collagen like minor tail\", \"tail terminator\", \n",
    "              \"Gpu-like tail protein\"] + [i for i in annotations if (\"completion\" in i) ]\n",
    "print('\\033[1m' + \"\\nminor tail :\" + '\\033[0m', minor_tail)\n",
    "\n",
    "print(\"\\nI included 'neck' in PVPs, but did not assign them to a subclass\")\n",
    "print(\"VALs and cell wall hydrolases included in tail, but not in any subclass.\")"
   ]
  },
  {
   "cell_type": "markdown",
   "id": "5df1f941",
   "metadata": {},
   "source": [
    "## Internal protein/DNA ejection\n",
    "\n",
    "Have roles in scaffolding, maturation and DNA ejection.\n",
    "Are at the intersection of PVP, DNA binding, and packaging and assembly. I thus removed them from the negative groups for these categories."
   ]
  },
  {
   "cell_type": "code",
   "execution_count": 46,
   "id": "c341cfbf",
   "metadata": {},
   "outputs": [
    {
     "name": "stdout",
     "output_type": "stream",
     "text": [
      "\u001b[1m\n",
      "DNA ejection:\u001b[0m ['pilot protein for DNA ejection', 'internal virion protein with endolysin domain', 'internal virion protein', 'internal virion lysozyme motif', 'internal head protein', 'DNA ejection protein', 'DNA ejection']\n"
     ]
    }
   ],
   "source": [
    "ejection = [i for i in annotations if (\"DNA ejection\" in i) or (\"internal\" in i)]\n",
    "print('\\033[1m' + \"\\nDNA ejection:\" + '\\033[0m', ejection)"
   ]
  },
  {
   "cell_type": "markdown",
   "id": "a7cea64c",
   "metadata": {},
   "source": [
    "# Adsorption-related proteins\n",
    "\n",
    "Regroups receptor binding proteins (RBPs) annotated as tail-fiber, tail-spike, receptor binding, tail-adhesin or host-specificity. I also included internal virion proteins with lytic domains that are released during the infection process.\n",
    "\n",
    "This group is pretty heterogenous as some proteins have lytic or depolymerase activity while others do not."
   ]
  },
  {
   "cell_type": "code",
   "execution_count": 47,
   "id": "0260a125",
   "metadata": {},
   "outputs": [
    {
     "name": "stdout",
     "output_type": "stream",
     "text": [
      "\u001b[1mAdsorption-related protein :\u001b[0m ['tail spike protein', 'tail fiber protein; Ig-domain containing', 'tail fiber adhesin', 'short tail fiber protein', 'lytic tail fiber protein', 'receptor binding tail protein', 'minor head protein; receptor binding', 'tail fiber protein; host specificity', 'long tail fiber protein proximal connector', 'tail fiber protein and host specificity', 'tail collar fiber protein', 'tail fiber protein/ lysozyme', 'pentameric base spike protein', 'major spike protein', 'tail fiber assembly', 'hinge connector of long tail fiber protein distal connector', 'tail fiber protein', 'long tail fiber protein distal subunit', 'tail protein and host specificity', 'tail needle knob', 'central tail fiber J', 'baseplate spike', 'tail fiber protein proximal subunit', 'adhesin', 'tail sheath and receptor binding protein', 'tail needle protein']\n"
     ]
    }
   ],
   "source": [
    "adsorption_related = [i for i in annotations if ((\"fiber\" in i) or (\"spike\" in i) or (\"receptor binding\" in i) or \n",
    "                                  (\"adhesin\" in i) or (\"specificity\" in i) or (\"needle\" in i))]\n",
    "remove = [\"PblB-type receptor binding\", \"head fiber protein\", \"L-shaped tail fiber protein assembly\", \n",
    "          \"tail fiber chaperone\", \"tail fiber assembly protein\", \"tail spike protein with colonic acid degradation activity\",\n",
    "          \"baseplate wedge tail fiber protein connector\", \"dual specificity phosphatase\",\n",
    "          \"RNA ligase and tail fiber protein attachment catalyst\"]\n",
    "adsorption_related = list(set(adsorption_related) - set(remove))\n",
    "adsorption_related + ['internal virion lysozyme motif', 'internal virion protein with endolysin domain', \n",
    "                      \"lysM motif protein\", \"virulence associated\", \"PAGK virulence factor\", \"tail appendage\", \"appendage\",\n",
    "                      \"host range and adsorption protein\", \"\"]\n",
    "print('\\033[1m' + \"Adsorption-related protein :\" + '\\033[0m', adsorption_related)\n",
    "#print('\\033[1m' + \"excluded :\" + '\\033[0m', remove)"
   ]
  },
  {
   "cell_type": "markdown",
   "id": "ef536c06",
   "metadata": {},
   "source": [
    "# Deploymerase and lysin"
   ]
  },
  {
   "cell_type": "code",
   "execution_count": 48,
   "id": "727d4249",
   "metadata": {},
   "outputs": [],
   "source": [
    "hydrolase = [i for i in annotations if ((\"hydrolase\" in i))]\n",
    "\n",
    "phosphatase = [i for i in annotations if ((\"phosphatase\" in i))]\n",
    "\n",
    "ATPase = [i for i in annotations if ((\"ATPase\" in i))]\n",
    "\n",
    "esterase = [i for i in annotations if ((\"esterase\" in i))]\n",
    "\n",
    "lipase = [i for i in annotations if ((\"lipase\" in i))]\n",
    "\n",
    "lyase = [i for i in annotations if ((\"lyase\" in i))]\n",
    "\n",
    "hyaluronidase = [i for i in annotations if ((\"hyaluronidase\" in i))]"
   ]
  },
  {
   "cell_type": "code",
   "execution_count": 49,
   "id": "6e8a55f6",
   "metadata": {},
   "outputs": [],
   "source": [
    "# Protein targeting\n",
    "protease = [i for i in annotations if ((\"protease\" in i) or (\"peptidase\" in i) or (\"proteinase\" in i))]\n",
    "#Remove annotations that do not belong\n",
    "remove = [\"prohead protease inhibitor\", \"minor head protein inhibitor of protease\", \"inhibitor of host Lon protease\"]\n",
    "protease = list(set(protease) - set(remove))\n",
    "\n",
    "deaminase = [i for i in annotations if ((\"deaminase\" in i))]\n",
    "\n",
    "amidase = [i for i in annotations if ((\"amidase\" in i))]\n",
    "\n",
    "\n",
    "#Sugar targeting\n",
    "eps_depolymerase = [i for i in annotations if ((\"depolymerase\" in i))] + [\"tail spike protein with colonic acid degradation activity\"]\n",
    "\n",
    "transglycosylase = [i for i in annotations if ((\"transglycosylase\" in i))]\n",
    "\n",
    "aldolase = [i for i in annotations if ((\"aldolase\" in i))]\n",
    "\n",
    "levanase = [i for i in annotations if ((\"levanase\" in i))]\n",
    "\n",
    "chitinase = [i for i in annotations if ((\"chitinase\" in i))]"
   ]
  },
  {
   "cell_type": "code",
   "execution_count": 50,
   "id": "0ab6286b",
   "metadata": {},
   "outputs": [
    {
     "name": "stdout",
     "output_type": "stream",
     "text": [
      "\u001b[1mendolysin :\u001b[0m ['haemolysin-type calcium binding', 'amidase', 'lysis determining protein', 'endolysin; lysM motif', 'cysteine protease', 'endolysin', 'hemolysin', 'endolysin; inhibits RNA polymerase', 'lysozyme domain-containing protein', 'lysM motif protein']\n",
      "\u001b[1m\n",
      "cell wall depolymerase :\u001b[0m ['endolysin; lysM motif', 'levanase', 'tail protein with peptidase activity', 'hemolysin', 'lytic tail fiber protein', 'dCMP deaminase', 'lytic tail protein', 'tail protease', 'ATP-dependent protease', 'cysteine protease', 'transglycosylase', 'EPS depolymerase', 'lipase', 'esterase/lipase', 'glycoside hydrolase', 'tail spike protein with colonic acid degradation activity', 'baseplate hub and tail lysozyme', 'pectate lyase', 'metallo-phosphoesterase', 'metallo-protease', 'endolysin', 'pectin lyase activity', 'tail injection transglycosylase', 'esterase', 'pseudomurein endosiopeptidase', 'baseplate hub subunit and tail lysozyme', 'carboxypeptidase', 'deoxycytidinylate deaminase', 'glycerophosphoryl diester phosphodiesterase', 'dCTP deaminase', 'lysophospholipase L1-like esterase', 'poly-gamma-glutamate hydrolase', 'DHH phosphoesterase', 'lysM motif protein', 'metallo-endopeptidase', 'internal virion lysozyme motif', 'O-antigen acetylase', 'peptidase', 'cAMP phosphodiesterase', 'zinc carboxypeptidase', 'phosphodiesterase', 'major head and protease protein', 'tail associated cell-wall hydrolase', 'protease', 'phospho-2-dehydro-3-deoxyheptonate aldolase', 'chitinase', 'minor tail protein with lysin activity', 'internal virion protein with endolysin domain', 'peptidase HslV family', 'amidase', 'tail fiber protein/ lysozyme', 'polysaccharide deacetylase', 'tail associated lysin', 'tail protein with lysin activity', 'L-alanyl-D-glutamate peptidase', 'zinc-finger protease', 'lysozyme domain-containing protein', 'haemolysin-type calcium binding', 'tail protein with endopeptidase domain', 'spore protease', 'transaldolase', 'phosphoesterase', 'tail protein with endopeptidase activity', 'hyaluronidase', 'endolysin; inhibits RNA polymerase']\n",
      "\u001b[1m\n",
      "Not included in cell wall depolymerase :\u001b[0m {'lysis determining protein', 'metal-dependent phosphohydrolase', 'GTP cyclohydrolase', 'metal-dependent hydrolase', 'nucleotide pyrophosphohydrolase', 'MutT/NUDIX hydrolase', 'Na/K ATPase', 'inhibitor of host Lon protease', 'hydrolase', 'tetrahydrofolate dehydrogenase and cyclohydrolase', 'dATP triphosphohydrolase', 'NinI-like serine-threonine phosphatase', 'RIIB lysis inhibitor', 'mazG nucleotide pyrophosphohydrolase', 'nucleoside triphosphate pyrophosphohydrolase', \"deoxyribonucleoside 5' monophosphate phosphatase\", 'phosphohydrolase', \"3'-phosphatase, 5'-polynucleotide kinase\", 'dATP / dGTP pyrophosphohydrolase', 'DNA repair photolyase', 'exopolyphosphatase', 'MazG-like pyrophosphatase', 'HAD-superfamily hydrolase', 'ADP-ribosylglycohydrolase', 'lysis inhibition; accessory protein', 'ATPase', 'lysis inhibition', 'phosphatase', 'dual specificity phosphatase', 'head maturation protease', 'phosphatidylglycerophosphatase A', 'partition protein ATPase', 'prohead protease inhibitor', 'RIIA lysis inhibitor', 'nudix hydrolase', 'minor head protein inhibitor of protease', 'pyrophosphatase'}\n"
     ]
    }
   ],
   "source": [
    "lysin = [i for i in annotations if ((\"lysin\" in i) or (\"lytic\" in i) or (\"lysis\" in i) or (\"lysozyme\" in i))]\n",
    "lysin = lysin + [\"cysteine protease\", \"amidase\", \"lysM motif protein\"]\n",
    "remove = [\"RIIB lysis inhibitor\", \"RIIA lysis inhibitor\", \"lysis inhibition; accessory protein\", \"lysis inhibition\"]\n",
    "val = [\"lytic tail protein\", \"baseplate hub and tail lysozyme\", \"tail protein with lysin activity\", \"tail associated lysin\",\n",
    "       \"minor tail protein with lysin activity\", \"baseplate hub subunit and tail lysozyme\", \"tail fiber protein/ lysozyme\",\n",
    "       \"lytic tail fiber protein\"]\n",
    "endolysin = list(set(lysin) - set(remove) - set(val) - set([\"internal virion lysozyme motif\", \n",
    "                                                            \"internal virion protein with endolysin domain\"]))\n",
    "print('\\033[1m' + \"endolysin :\" + '\\033[0m', endolysin)\n",
    "\n",
    "add = [\"tail associated cell-wall hydrolase\", \"poly-gamma-glutamate hydrolase\", \"glycoside hydrolase\", \n",
    " \"polysaccharide deacetylase\", \"O-antigen acetylase\"]\n",
    "\n",
    "cell_wall_depolymerase = (eps_depolymerase + levanase + transglycosylase + lyase + aldolase + chitinase + lipase + \n",
    "                         esterase + hyaluronidase + protease + deaminase + amidase + add)\n",
    "cell_wall_depolymerase = (cell_wall_depolymerase + lysin + val + [\"internal virion lysozyme motif\", \"internal virion protein with endolysin domain\"])\n",
    "remove = [\"head maturation protease\", \"DNA repair photolyase\", \"RIIB lysis inhibitor\", \"lysis determining protein\",\n",
    "         \"lysis inhibition\", \"RIIA lysis inhibitor\", \"lysis inhibition; accessory protein\"]\n",
    "cell_wall_depolymerase = list(set(cell_wall_depolymerase) - set(remove))\n",
    "print('\\033[1m' + \"\\ncell wall depolymerase :\" + '\\033[0m', cell_wall_depolymerase)\n",
    "\n",
    "all_cutting = np.unique(hydrolase + phosphatase + ATPase + esterase + esterase + lipase + lyase + hyaluronidase + protease + \n",
    "                        deaminase + amidase + eps_depolymerase + transglycosylase + aldolase + levanase + chitinase + \n",
    "                        cell_wall_depolymerase + lysin + [\"prohead protease inhibitor\", \n",
    "                        \"minor head protein inhibitor of protease\", \"inhibitor of host Lon protease\"])\n",
    "not_used = set(all_cutting) - set(cell_wall_depolymerase)\n",
    "print('\\033[1m' + \"\\nNot included in cell wall depolymerase :\" + '\\033[0m', not_used)"
   ]
  },
  {
   "cell_type": "code",
   "execution_count": 51,
   "id": "b76fec04",
   "metadata": {},
   "outputs": [
    {
     "name": "stdout",
     "output_type": "stream",
     "text": [
      "\u001b[1m\n",
      "Spanin :\u001b[0m ['spanin', 'Rz-like spanin', 'i-spanin']\n",
      "\u001b[1m\n",
      "Holin :\u001b[0m ['holin/anti-holin', 'holin']\n",
      "\u001b[1m\n",
      "Lysis inhibition :\u001b[0m {'RIIB lysis inhibitor', 'lysis inhibition; accessory protein', 'RIIA lysis inhibitor', 'lysis inhibition', 'endolysin; inhibits RNA polymerase'}\n",
      "\u001b[1m\n",
      "Lysis :\u001b[0m ['haemolysin-type calcium binding', 'amidase', 'lysis determining protein', 'endolysin; lysM motif', 'cysteine protease', 'endolysin', 'hemolysin', 'endolysin; inhibits RNA polymerase', 'lysozyme domain-containing protein', 'lysM motif protein', 'RIIB lysis inhibitor', 'lysis inhibition; accessory protein', 'RIIA lysis inhibitor', 'lysis inhibition', 'endolysin; inhibits RNA polymerase', 'holin/anti-holin', 'holin', 'spanin', 'Rz-like spanin', 'i-spanin']\n"
     ]
    }
   ],
   "source": [
    "spanin = [i for i in annotations if (\"spanin\" in i)]\n",
    "print('\\033[1m' + \"\\nSpanin :\" + '\\033[0m', spanin)\n",
    "\n",
    "holin = [i for i in annotations if (\"holin\" in i)]\n",
    "print('\\033[1m' + \"\\nHolin :\" + '\\033[0m', holin)\n",
    "\n",
    "lysis_inhibitor = set([i for i in annotations if ((\"lys\" in i) and (\"inhibi\" in i))]) - set(\"endolysin; inhibits RNA polymerase\")\n",
    "print('\\033[1m' + \"\\nLysis inhibition :\" + '\\033[0m', lysis_inhibitor)\n",
    "\n",
    "lysis = list(endolysin) + list(lysis_inhibitor) + list(holin) + list(spanin)\n",
    "print('\\033[1m' + \"\\nLysis :\" + '\\033[0m', lysis)"
   ]
  },
  {
   "cell_type": "code",
   "execution_count": 52,
   "id": "4505e8a8",
   "metadata": {
    "scrolled": true
   },
   "outputs": [
    {
     "data": {
      "text/plain": [
       "['haemolysin-type calcium binding',\n",
       " 'amidase',\n",
       " 'lysis determining protein',\n",
       " 'endolysin; lysM motif',\n",
       " 'cysteine protease',\n",
       " 'endolysin',\n",
       " 'hemolysin',\n",
       " 'endolysin; inhibits RNA polymerase',\n",
       " 'lysozyme domain-containing protein',\n",
       " 'lysM motif protein',\n",
       " 'lytic tail protein',\n",
       " 'tail protein with lysin activity',\n",
       " 'tail protein with endopeptidase domain',\n",
       " 'tail protease',\n",
       " 'baseplate hub and tail lysozymelytic tail fiber protein',\n",
       " 'tail fiber protein/ lysozyme',\n",
       " 'tail protein with peptidase activity',\n",
       " 'tail associated lysin',\n",
       " 'minor tail protein with lysin activity',\n",
       " 'tail protein with endopeptidase activity',\n",
       " 'baseplate hub subunit and tail lysozyme']"
      ]
     },
     "execution_count": 52,
     "metadata": {},
     "output_type": "execute_result"
    }
   ],
   "source": [
    "#Endolysin + VAL\n",
    "all_lysin = endolysin + [\"lytic tail protein\", \"tail protein with lysin activity\", \n",
    "                     \"tail protein with endopeptidase domain\", \"tail protease\", \"baseplate hub and tail lysozyme\"\n",
    "                     \"lytic tail fiber protein\", \"tail fiber protein/ lysozyme\", \"tail protein with peptidase activity\", \n",
    "                     \"tail associated lysin\",\"minor tail protein with lysin activity\", \n",
    "                     \"tail protein with endopeptidase activity\", \"baseplate hub subunit and tail lysozyme\"]\n",
    "all_lysin"
   ]
  },
  {
   "cell_type": "markdown",
   "id": "e74769b1",
   "metadata": {},
   "source": [
    "## DNA-associated"
   ]
  },
  {
   "cell_type": "markdown",
   "id": "2908f52a",
   "metadata": {},
   "source": [
    "### Transcriptional regulators"
   ]
  },
  {
   "cell_type": "code",
   "execution_count": 53,
   "id": "8ee9c38e",
   "metadata": {
    "scrolled": true
   },
   "outputs": [
    {
     "name": "stdout",
     "output_type": "stream",
     "text": [
      "\u001b[1mtranscriptional_activator:\u001b[0m ['RinB-like transcriptional activator', 'MotA-like activator of middle period transcription', 'transcriptional activator', 'late transcriptional activator', 'Lpa-like transcriptional activator', 'Alt-like transcription activator', 'CII-like transcriptional activator', 'CII-like regulator']\n",
      "\u001b[1m\n",
      "transcriptional_repressor: \u001b[0m ['inhibitor of host transcription', 'inhibitor of transcription initiation and antiterminator', 'protein kinase; inhibitor of host transcription; positively regulates RNaseIII; negatively on RNaseE', 'transcriptional repressor', 'cro-like repressor', 'BstA abortive infection system, replication inhibitor', 'CI-like repressor', 'CopG-like transcriptional repressor', 'Cox-like excisionase and repressor', 'Arc-like repressor', 'Nun-like transcription termination factor']\n",
      "\u001b[1m\n",
      "Based on 'transcription regulator' phrogs category.\u001b[0m\n",
      "\u001b[1mtranscriptional_regulator: \u001b[0m {'Rha-like transcriptional regulator', 'sigma factor for late transcription', 'RinB-like transcriptional activator', 'protein kinase; inhibitor of host transcription; positively regulates RNaseIII; negatively on RNaseE', 'transcriptional regulator, D5-like', 'transcriptional repressor', 'sigma factor', 'cro-like repressor', 'CIII anti-termination', 'Alt-like transcription activator', 'transcriptional regulator WhiB-like', 'CI-like repressor', 'CopG-like transcriptional repressor', 'Cox-like excisionase and repressor', 'MarR family transcrition regulator', 'CII-like regulator', 'Mrh transcription modulator under heat shock', 'transcription factor', 'Arc-like DNA binding domain', 'anti-repressor Ant', 'transcriptional regulator', 'FmdB-like transcriptional regulator', 'RNA polymerase sigma factor', 'Lpa-like transcriptional activator', 'anti-repressor', 'inhibitor of transcription initiation and antiterminator', 'WhiB transcriptional factor', 'MotB-like transcriptional regulator', 'excisionase and transcriptional regulator', 'MotA-like activator of middle period transcription', 'Ren-like exclusion protein', 'BstA abortive infection system, replication inhibitor', 'Nun-like transcription termination factor', 'late transcriptional activator', 'anti-termination protein N-like', 'transcription antiterminator', 'Arc-like repressor', 'sigma-K factor', 'starvation-inducible transcriptional regulator', 'late promoter transcriptional regulator', 'MerR-like transcriptional regulator', 'Arc-like transcriptional regulator', 'anti-termination protein Q-like', 'transcriptional activator', 'late sigma transcription factor', 'inhibitor of host transcription', 'CII-like transcriptional activator'}\n"
     ]
    }
   ],
   "source": [
    "transcriptional_activator = [i for i in annotations if \"activator\" in i]\n",
    "\n",
    "#Remove annotations that do not belong\n",
    "remove = [\"activator of host PrrC lysyl-tRNA endonuclease\"]\n",
    "transcriptional_activator = list(set(transcriptional_activator) - set(remove)) + [\"CII-like regulator\"]\n",
    "\n",
    "print('\\033[1m' + \"transcriptional_activator:\" + '\\033[0m', transcriptional_activator)\n",
    "\n",
    "\n",
    "transcriptional_repressor = [i for i in annotations if ((\"repressor\" in i) or (\"inhibitor\" in i))]\n",
    "\n",
    "#Remove annotations that do not belong\n",
    "remove = [\"translation repressor\", \"replication inhibitor\", \"RNA polymerase inhibitor\", \"RIIB lysis inhibitor\", \n",
    "          \"RIIA lysis inhibitor\", \"ribosome associated inhibitor A; zinc finger domain\", \"prohead protease inhibitor\", \n",
    "          \"minor head protein inhibitor of protease\", \"MazF-like growth inhibitor\", \"inhibitor of MrcBC restriction\", \n",
    "          \"inhibitor of host Lon protease\", \"host RecBCD nuclease inhibitor\", \"host nuclease inhibitor\", \n",
    "          \"gam-like host nuclease inhibitor\", \"DNA sliding clamp inhibitor; arrest of S.aureus DNA synthesis\", \n",
    "          \"dGTPase inhibitor; target for F exclusion\", \"dGTPase inhibitor\", \"complement inhibitor\", \n",
    "          \"cell division inhibitor\", \"beta-lactamase-inhibitor protein BLIP\", \"anti-repressor Ant\", \"anti-repressor\"]\n",
    "transcriptional_repressor = list(set(transcriptional_repressor) - set(remove)) + [\"Nun-like transcription termination factor\"]\n",
    "\n",
    "print('\\033[1m' + \"\\ntranscriptional_repressor: \"+ '\\033[0m', transcriptional_repressor)\n",
    "\n",
    "print('\\033[1m' + \"\\nBased on 'transcription regulator' phrogs category.\" + '\\033[0m')\n",
    "transcriptional_regulator = np.unique(list(categories.loc[categories.Category == \"transcription regulation\", \"Annotation\"]) + \n",
    "                                       [\"excisionase and transcriptional regulator\", 'Arc-like DNA binding domain', \n",
    "                                        \"Ren-like exclusion protein\"] + \n",
    "                                       transcriptional_repressor + transcriptional_activator)\n",
    "transcriptional_regulator = set(transcriptional_regulator) - set([\"CsrA-like regulator\"])\n",
    "print('\\033[1m' + \"transcriptional_regulator: \"+ '\\033[0m', transcriptional_regulator)"
   ]
  },
  {
   "cell_type": "markdown",
   "id": "439c6eb8",
   "metadata": {},
   "source": [
    "### Integration\n",
    "\n",
    "Includes ligase, integrase, recombinase, resolvase, transposase, invertase, topoisomerase"
   ]
  },
  {
   "cell_type": "code",
   "execution_count": 54,
   "id": "418e3d0a",
   "metadata": {},
   "outputs": [
    {
     "name": "stdout",
     "output_type": "stream",
     "text": [
      "\u001b[1m\n",
      "Integration :\u001b[0m ['exonuclease recombination-associated', 'DprA-like DNA recombination-mediator protein', 'DNA topoisomerase', 'recombinase', 'DNA topoisomerase II', 'Holliday junction resolvase', 'RusA-like Holliday junction resolvase', 'DNA topoisomerase II large subunit', 'NinB/ Orf homologous recombination mediator', 'Cox-like excisionase and repressor', 'Ref-like RecA filament endonuclease', 'DNA ligase', 'RecA or Sak4, length ?', 'transposase', 'excisionase', 'RecA filament binding protein DinI', 'ATP-dependent DNA ligase', 'UvsX-like recombinase', 'excisionase and transcriptional regulator', 'recombination directionality factor', 'integrase', 'RecE-like recombination exonuclease', 'UvsY-like recombination mediator', 'RuvC-like Holliday junction resolvase', 'DNA invertase', 'Erf recombination cofactor Arf', 'site-specific recombination directionality factor RDF', 'NAD-dependent DNA ligase']\n"
     ]
    }
   ],
   "source": [
    "integration = [i for i in annotations if ((\"topoisomerase\" in i) or (\"invertase\" in i) or (\"resolvase\" in i) or \n",
    "                                         (\"integrase\" in i) or (\"recombinase\" in i) or (\"transposase\" in i) or\n",
    "                                         (\"ligase\" in i) or (\"recombination\") in i) or (\"RecA\" in i) or \n",
    "                                         (\"excisionase\" in i)]\n",
    "remove = [\"amidoligase enzyme\", \"RNA ligase\", \"RNA ligase and tail fiber protein attachment catalyst\", \n",
    "          \"tRNA splicing ligase RtcB\", \"tRNA splicing ligase\", \"COOH.NH2 ligase\"]\n",
    "integration = list(set(integration) - set(remove))\n",
    "print('\\033[1m' + \"\\nIntegration :\" + '\\033[0m', integration)"
   ]
  },
  {
   "cell_type": "markdown",
   "id": "ce4535de",
   "metadata": {},
   "source": [
    "### Nuclease"
   ]
  },
  {
   "cell_type": "code",
   "execution_count": 55,
   "id": "943c798c",
   "metadata": {},
   "outputs": [
    {
     "name": "stdout",
     "output_type": "stream",
     "text": [
      "\u001b[1mnuclease:\u001b[0m ['exonuclease recombination-associated', 'endonuclease V N-glycosylase UV repair enzyme', 'DNA endonuclease', 'endonuclease', 'intron encoded nuclease', 'exonuclease VII', 'DNA endonuclease V', 'anti-restriction nuclease', 'exonuclease', 'HNH endonuclease', 'DNA polymerase exonuclease subunit', \"3'-5' exonuclease\", 'DNA repair exonuclease', 'endoribonuclease', 'ParB-like partition nuclease', 'DenB-like DNA endonuclease IV', 'Ref-like RecA filament endonuclease', 'homing endonuclease with GIY-YIG motif', 'restriction enzyme I', 'intron-like DNA endonuclease', 'SbcC-like subunit of palindrome specific endonuclease', 'restriction enzyme III', 'NinG/ Rap DNA junction specific endonuclease', 'ERCC4-type nuclease', 'homing endonuclease', 'restriction endonuclease II', 'ribonuclease toxin of AT system', 'nuclease', 'restriction endonuclease', 'RecE-like recombination exonuclease', 'homing endonuclease with LAGLIDADG motif', 'Cas4-domain exonuclease', 'exonuclease V', 'SbcD-like subunit of palindrome specific endonuclease', 'RecJ-like ssDNA exonuclease', 'endonuclease VII', 'endonuclease nicking abasic sites generated by host uracil glycosylase Ung', 'exonuclease VIII', 'ribonuclease']\n"
     ]
    }
   ],
   "source": [
    "nuclease = [i for i in annotations if \"nuclease\" in i]\n",
    "nuclease = nuclease + [i for i in annotations if ((\"restriction\" in i) and not ((\"anti\" in i) or (\"alleviation\" in i) or \n",
    "                                                                                (\"inhibitor\" in i)))]\n",
    "\n",
    "\n",
    "#Remove annotations that do not belong\n",
    "remove = [\"host nuclease inhibitor\", \"host RecBCD nuclease inhibitor\", \"activator of host PrrC lysyl-tRNA endonuclease\",\n",
    "         \"gam-like host nuclease inhibitor\", \"Gp5.9-like inihibitor of recBCD nuclease\"]\n",
    "nuclease = list(set(nuclease) - set(remove))\n",
    "\n",
    "print('\\033[1m' + \"nuclease:\" + '\\033[0m', nuclease)"
   ]
  },
  {
   "cell_type": "markdown",
   "id": "404f6346",
   "metadata": {},
   "source": [
    "### Anti-restriction\n",
    "\n",
    "Methylases"
   ]
  },
  {
   "cell_type": "code",
   "execution_count": 56,
   "id": "eb6d0fb5",
   "metadata": {},
   "outputs": [
    {
     "name": "stdout",
     "output_type": "stream",
     "text": [
      "\u001b[1m\n",
      "Anti-restriction :\u001b[0m ['Ulx-like anti-restriction', 'restriction alleviation ral', 'ocr-like anti-restriction', 'Lar-like restriction alleviation protein', 'inhibitor of MrcBC restriction', 'Hdf-like antirestriction', 'DdrA-like anti-restriction protein', 'DarB-like antirestriction', 'anti-restriction protein', 'anti-restriction nuclease', 'tRNA methyltransferase', 'SAM-dependent methyltransferase', 'methyltransferase', 'DNA methyltransferase', 'DNA methylase']\n"
     ]
    }
   ],
   "source": [
    "anti_restriction = ([i for i in annotations if (((\"anti\" in i) or (\"inhibitor\" in i) or (\"alleviation\" in i)) \n",
    "                                                and \"restriction\" in i)]) + ['tRNA methyltransferase',\n",
    "                                                'SAM-dependent methyltransferase', 'methyltransferase',\n",
    "                                                'DNA methyltransferase','DNA methylase']\n",
    "print('\\033[1m' + \"\\nAnti-restriction :\" + '\\033[0m', anti_restriction)"
   ]
  },
  {
   "cell_type": "markdown",
   "id": "53edd484",
   "metadata": {},
   "source": [
    "### Polymerase"
   ]
  },
  {
   "cell_type": "code",
   "execution_count": 57,
   "id": "6906f3ff",
   "metadata": {},
   "outputs": [
    {
     "name": "stdout",
     "output_type": "stream",
     "text": [
      "\u001b[1m\n",
      "DNA polymerase:\u001b[0m {'DNA polymerase III theta subunit', 'clamp loader of DNA polymerase', 'DNA polymerase processivity factor', 'DNA polymerase exonuclease subunit', 'DNA polymerase', 'DNA polymerase I'}\n",
      "\u001b[1mRNA polymerase:\u001b[0m ['RNA polymerase ADP-ribosylase', 'Alt-like RNA polymerase ADP-ribosyltransferase', 'RNA polymerase', 'virion RNA polymerase', 'RNA-dependent RNA polymerase', 'RNA polymerase beta subunit', 'RNA polymerase sigma factor', 'RpbA RNA polymerase binding protein', 'N4-like RNA polymerase', 'RNA polymerase binding']\n"
     ]
    }
   ],
   "source": [
    "DNA_polymerase = [i for i in annotations if ((\"DNA\" in i) and (\"polymerase\" in i))]\n",
    "remove = [\"DNA polymerase/primase\"]\n",
    "DNA_polymerase = set(DNA_polymerase)- set(remove)\n",
    "print('\\033[1m' + \"\\nDNA polymerase:\" + '\\033[0m', DNA_polymerase)\n",
    "RNA_polymerase = [i for i in annotations if ((\"RNA\" in i) and (\"polymerase\" in i))]\n",
    "remove = [\"RNA polymerase inhibitor\", \"endolysin; inhibits RNA polymerase\"]\n",
    "RNA_polymerase = list(set(RNA_polymerase) - set(remove))\n",
    "print('\\033[1m' + \"RNA polymerase:\" + '\\033[0m', RNA_polymerase)"
   ]
  },
  {
   "cell_type": "markdown",
   "id": "8a1820b3",
   "metadata": {},
   "source": [
    "### Terminase"
   ]
  },
  {
   "cell_type": "code",
   "execution_count": 58,
   "id": "3ec2ae60",
   "metadata": {},
   "outputs": [
    {
     "name": "stdout",
     "output_type": "stream",
     "text": [
      "\u001b[1m\n",
      "terminase:\u001b[0m ['terminase small subunit', 'terminase large subunit', 'terminase']\n"
     ]
    }
   ],
   "source": [
    "terminase = [i for i in annotations if (\"terminase\" in i)]\n",
    "print('\\033[1m' + \"\\nterminase:\" + '\\033[0m', terminase)"
   ]
  },
  {
   "cell_type": "markdown",
   "id": "2fdeceb1",
   "metadata": {},
   "source": [
    "### Annealing"
   ]
  },
  {
   "cell_type": "code",
   "execution_count": 59,
   "id": "700cdf9a",
   "metadata": {},
   "outputs": [
    {
     "name": "stdout",
     "output_type": "stream",
     "text": [
      "\u001b[1m\n",
      "annealing:\u001b[0m ['single strand annealing protein', 'Sak4-like ssDNA annealing protein', 'Sak-like ssDNA annealing protein', 'RecT-like ssDNA annealing protein', 'Gp2.5-like ssDNA binding protein and ssDNA annealing protein', 'Erf-like ssDNA annealing protein', 'Bet-like ssDNA annealing protein']\n"
     ]
    }
   ],
   "source": [
    "annealing = [i for i in annotations if (\"annealing\" in i)]\n",
    "print('\\033[1m' + \"\\nannealing:\" + '\\033[0m', annealing)"
   ]
  },
  {
   "cell_type": "markdown",
   "id": "45de63b5",
   "metadata": {},
   "source": [
    "### Primase"
   ]
  },
  {
   "cell_type": "code",
   "execution_count": 60,
   "id": "68d8e362",
   "metadata": {},
   "outputs": [
    {
     "name": "stdout",
     "output_type": "stream",
     "text": [
      "\u001b[1m\n",
      "primase:\u001b[0m {'primase', 'DNA primase'}\n"
     ]
    }
   ],
   "source": [
    "primase = [i for i in annotations if (\"primase\" in i)]\n",
    "remove = [\"replicative helicase-primase\", \"DNA primase/helicase\", \"DNA polymerase/primase\"]\n",
    "primase = set(primase)- set(remove)\n",
    "print('\\033[1m' + \"\\nprimase:\" + '\\033[0m', primase)"
   ]
  },
  {
   "cell_type": "markdown",
   "id": "ac194d44",
   "metadata": {},
   "source": [
    "### Helicase"
   ]
  },
  {
   "cell_type": "code",
   "execution_count": 61,
   "id": "a0881618",
   "metadata": {},
   "outputs": [
    {
     "name": "stdout",
     "output_type": "stream",
     "text": [
      "\u001b[1m\n",
      "helicase or helicase loader:\u001b[0m {'Holliday junction branch migration helicase', 'Dda-like helicase', 'DNA helicase loader', 'DnaD-like helicase loader', 'P-like helicase loader', 'helicase subunit of the DNA excision repair complex', 'replication helicase', 'DnaB-like replicative helicase', 'DnaC-like helicase loader', 'DNA helicase', 'primosomal protein', 'helicase', 'helicase loader'}\n"
     ]
    }
   ],
   "source": [
    "helicase = [i for i in annotations if (\"helicase\" in i)] + [\"primosomal protein\"]\n",
    "remove = [\"replicative helicase-primase\", \"DNA primase/helicase\"]\n",
    "helicase = set(helicase)- set(remove)\n",
    "print('\\033[1m' + \"\\nhelicase or helicase loader:\" + '\\033[0m', helicase)"
   ]
  },
  {
   "cell_type": "markdown",
   "id": "d85d576d",
   "metadata": {},
   "source": [
    "### Replication initiation"
   ]
  },
  {
   "cell_type": "code",
   "execution_count": 62,
   "id": "dc463f59",
   "metadata": {},
   "outputs": [
    {
     "name": "stdout",
     "output_type": "stream",
     "text": [
      "\u001b[1m\n",
      "replication_initiation:\u001b[0m ['rolling circle DNA replication initiation', 'replication initiation protein', 'replication initiation O-like', 'replication initiation by nicking', 'DnaA-like replication initiation protein', 'DNA replication initiation']\n"
     ]
    }
   ],
   "source": [
    "replication_initiation = [i for i in annotations if (\"replication initiation\" in i)]\n",
    "print('\\033[1m' + \"\\nreplication_initiation:\" + '\\033[0m', replication_initiation)"
   ]
  },
  {
   "cell_type": "markdown",
   "id": "cf05b8a7",
   "metadata": {},
   "source": [
    "### All DNA-associated"
   ]
  },
  {
   "cell_type": "code",
   "execution_count": 63,
   "id": "78be2953",
   "metadata": {
    "scrolled": true
   },
   "outputs": [
    {
     "name": "stdout",
     "output_type": "stream",
     "text": [
      "\u001b[1mAll DNA associated:\u001b[0m [\"3'-5' exonuclease\" 'ATP-dependent DNA ligase'\n",
      " 'Alt-like transcription activator' 'Arc-like DNA binding domain'\n",
      " 'Arc-like repressor' 'Arc-like transcriptional regulator'\n",
      " 'Bet-like ssDNA annealing protein'\n",
      " 'BstA abortive infection system, replication inhibitor'\n",
      " 'CI-like repressor' 'CII-like regulator'\n",
      " 'CII-like transcriptional activator' 'CIII anti-termination'\n",
      " 'CRISPR/Cas system associated' 'Cas4-domain exonuclease'\n",
      " 'CopG-like transcriptional repressor'\n",
      " 'Cox-like excisionase and repressor' 'DNA binding domain'\n",
      " 'DNA binding protein' 'DNA circularization' 'DNA condensation'\n",
      " 'DNA ejection' 'DNA ejection protein' 'DNA end protector'\n",
      " 'DNA endonuclease' 'DNA endonuclease V' 'DNA helicase'\n",
      " 'DNA helicase loader' 'DNA invertase' 'DNA ligase' 'DNA methylase'\n",
      " 'DNA methyltransferase' 'DNA packaging chaperone FI' 'DNA polymerase'\n",
      " 'DNA polymerase I' 'DNA polymerase III theta subunit'\n",
      " 'DNA polymerase exonuclease subunit' 'DNA polymerase processivity factor'\n",
      " 'DNA polymerase/primase' 'DNA primase' 'DNA primase/helicase'\n",
      " 'DNA repair exonuclease' 'DNA repair photolyase' 'DNA repair protein'\n",
      " 'DNA replication initiation' 'DNA terminal protein' 'DNA topoisomerase'\n",
      " 'DNA topoisomerase II' 'DNA topoisomerase II large subunit'\n",
      " 'DNA transfer protein' 'DNA transposition protein'\n",
      " 'DarB-like antirestriction' 'Dda-like helicase'\n",
      " 'DdrA-like anti-restriction protein' 'DenB-like DNA endonuclease IV'\n",
      " 'DnaA-like replication initiation protein'\n",
      " 'DnaB-like replicative helicase' 'DnaC-like helicase loader'\n",
      " 'DnaD-like helicase loader'\n",
      " 'DprA-like DNA recombination-mediator protein' 'ERCC4-type nuclease'\n",
      " 'Erf recombination cofactor Arf' 'Erf-like ssDNA annealing protein'\n",
      " 'FmdB-like transcriptional regulator' 'GP16.7-like replication protein'\n",
      " 'Gp2.5-like ssDNA binding protein and ssDNA annealing protein'\n",
      " 'HNH endonuclease' 'HTH DNA binding domain protein'\n",
      " 'HTH DNA binding protein' 'Hdf-like antirestriction'\n",
      " 'Holliday junction branch migration helicase'\n",
      " 'Holliday junction resolvase' 'Ku-like DNA end binding'\n",
      " 'Lar-like restriction alleviation protein'\n",
      " 'Lpa-like transcriptional activator' 'Lsr2-like DNA bridging protein'\n",
      " 'MarR family transcrition regulator'\n",
      " 'MerR-like transcriptional regulator' 'Mom-like DNA modification protein'\n",
      " 'MotA-like activator of middle period transcription'\n",
      " 'MotB-like transcriptional regulator'\n",
      " 'Mrh transcription modulator under heat shock'\n",
      " 'Mu Gam-like end protection' 'NAD-dependent DNA ligase'\n",
      " 'Ndd-like nucleoid disruption protein'\n",
      " 'NinB/ Orf homologous recombination mediator'\n",
      " 'NinG/ Rap DNA junction specific endonuclease'\n",
      " 'Nun-like transcription termination factor' 'P-like helicase loader'\n",
      " 'ParA-like partition protein' 'ParB C-terminal domain'\n",
      " 'ParB-like partition nuclease' 'ParB-like partition protein'\n",
      " 'RNA polymerase sigma factor' 'RecA filament binding protein DinI'\n",
      " 'RecA or Sak4, length ?' 'RecE-like recombination exonuclease'\n",
      " 'RecJ-like ssDNA exonuclease' 'RecT-like ssDNA annealing protein'\n",
      " 'RecX-like filament modulator' 'Ref-like RecA filament endonuclease'\n",
      " 'Ren-like exclusion protein' 'Rha-like transcriptional regulator'\n",
      " 'RinB-like transcriptional activator'\n",
      " 'RusA-like Holliday junction resolvase'\n",
      " 'RuvC-like Holliday junction resolvase' 'SAM-dependent methyltransferase'\n",
      " 'Sak-like ssDNA annealing protein' 'Sak4-like ssDNA annealing protein'\n",
      " 'SbcC-like subunit of palindrome specific endonuclease'\n",
      " 'SbcD-like subunit of palindrome specific endonuclease'\n",
      " 'Sir2 (NAD-dependent deacetylase)' 'Ulx-like anti-restriction'\n",
      " 'UmuD-like protein' 'UvsX-like recombinase'\n",
      " 'UvsY-like recombination mediator' 'WhiB transcriptional factor'\n",
      " 'alkylated DNA repair' 'anti-repressor' 'anti-repressor Ant'\n",
      " 'anti-restriction nuclease' 'anti-restriction protein'\n",
      " 'anti-termination protein N-like' 'anti-termination protein Q-like'\n",
      " 'clamp loader of DNA polymerase' 'cro-like repressor'\n",
      " 'dsDNA binding protein' 'endonuclease'\n",
      " 'endonuclease V N-glycosylase UV repair enzyme' 'endonuclease VII'\n",
      " 'endonuclease nicking abasic sites generated by host uracil glycosylase Ung'\n",
      " 'endoribonuclease' 'excisionase'\n",
      " 'excisionase and transcriptional regulator' 'exonuclease' 'exonuclease V'\n",
      " 'exonuclease VII' 'exonuclease VIII'\n",
      " 'exonuclease recombination-associated' 'genome terminal protein'\n",
      " 'helicase' 'helicase loader'\n",
      " 'helicase subunit of the DNA excision repair complex'\n",
      " 'histone family DNA-binding' 'homing endonuclease'\n",
      " 'homing endonuclease with GIY-YIG motif'\n",
      " 'homing endonuclease with LAGLIDADG motif' 'integrase'\n",
      " 'intron encoded nuclease' 'intron-like DNA endonuclease'\n",
      " 'late promoter transcriptional regulator'\n",
      " 'late sigma transcription factor' 'late transcriptional activator'\n",
      " 'membrane DNA delivery' 'methyltransferase'\n",
      " 'minor head protein and DNA pilot' 'nicking at origin of replication'\n",
      " 'nuclease' 'nucleoid associated protein' 'nucloid associated Lsr2-like'\n",
      " 'ocr-like anti-restriction' 'partition protein'\n",
      " 'pilot protein for DNA ejection' 'plasmid antitoxin with HTH domain'\n",
      " 'polarity suppression Psu-like by overcoming Rho' 'polymerase' 'primase'\n",
      " 'primosomal protein' 'recombinase' 'recombination directionality factor'\n",
      " 'regulator of chromosome condensation' 'replication'\n",
      " 'replication helicase' 'replication initiation O-like'\n",
      " 'replication initiation by nicking' 'replication initiation protein'\n",
      " 'replication origin binding' 'replication protein'\n",
      " 'replication terminator' 'replicative helicase-primase'\n",
      " 'replisome organizer' 'replisome organizer DnaA-like'\n",
      " 'restriction alleviation ral' 'restriction endonuclease'\n",
      " 'restriction endonuclease II' 'restriction enzyme I'\n",
      " 'restriction enzyme III' 'ribonuclease' 'ribonuclease toxin of AT system'\n",
      " 'rolling circle DNA replication initiation'\n",
      " 'segregation and condensation complex subunit ScpB' 'sigma factor'\n",
      " 'sigma factor for late transcription' 'sigma-K factor'\n",
      " 'single strand DNA binding protein' 'single strand annealing protein'\n",
      " 'site-specific recombination directionality factor RDF'\n",
      " 'starvation-inducible transcriptional regulator' 'tRNA methyltransferase'\n",
      " 'terminase' 'terminase large subunit' 'terminase small subunit'\n",
      " 'transcription antiterminator' 'transcription factor'\n",
      " 'transcriptional activator' 'transcriptional regulator'\n",
      " 'transcriptional regulator WhiB-like'\n",
      " 'transcriptional regulator, D5-like' 'transcriptional repressor'\n",
      " 'transposase' 'tubulin PhuZ' 'uracil-DNA glycosylase']\n"
     ]
    }
   ],
   "source": [
    "DNA = [i for i in annotations if ((\"DNA\" in i) or (\"dna\" in i) or (\"Dna\" in i))]\n",
    "DNA = DNA + nuclease\n",
    "DNA = DNA + integration\n",
    "DNA = DNA + anti_restriction\n",
    "DNA = DNA + list(DNA_polymerase)\n",
    "DNA = DNA + [i for i in annotations if (\"Sir2\" in i)]\n",
    "DNA = DNA + [i for i in annotations if (\"CRISPR/Cas\" in i)]\n",
    "DNA = DNA + [i for i in annotations if (\"Par\" in i)]\n",
    "DNA = DNA + [i for i in annotations if (\"replication\" in i)]\n",
    "DNA = DNA + [i for i in annotations if (\"helicase\" in i)] + [\"primosomal protein\"]\n",
    "DNA = DNA + [i for i in annotations if (\"terminase\" in i)]\n",
    "DNA = DNA + [i for i in annotations if (\"annealing\" in i)]\n",
    "DNA = DNA + [i for i in annotations if \"excisionase\" in i]\n",
    "DNA = DNA + [i for i in annotations if ((\"restriction\" in i) and not ((\"anti\" in i) or (\"alleviation\" in i) or (\"inhibitor\" in i)))]\n",
    "DNA = DNA + [i for i in annotations if (((\"anti\" in i) or (\"inhibitor\" in i) or (\"alleviation\" in i)) and \"restriction\" in i)]\n",
    "DNA = list(DNA) + list(transcriptional_regulator)\n",
    "DNA = DNA + [\"Mu Gam-like end protection\", \"Ndd-like nucleoid disruption protein\", \"RecA filament binding protein DinI\", \n",
    "             \"RecX-like filament modulator\", \"UmuD-like protein\", \"genome terminal protein\", \"nucleoid associated protein\",\n",
    "             \"nucloid associated Lsr2-like\", \"partition protein\", \"polarity suppression Psu-like by overcoming Rho\",\n",
    "             \"polymerase\", \"primase\", \"regulator of chromosome condensation\", \"replisome organizer\", \n",
    "             \"segregation and condensation complex subunit ScpB\", \"tubulin PhuZ\", 'tRNA methyltransferase',\n",
    "             'SAM-dependent methyltransferase','methyltransferase','DNA methyltransferase','DNA methylase', \n",
    "             'plasmid antitoxin with HTH domain']\n",
    "remove = [\"DNA sliding clamp inhibitor; arrest of S.aureus DNA synthesis\", \"inhibitor of host transcription\",\n",
    "         \"inhibitor of transcription initiation and antiterminator\", \"inhibitor of MrcBC restriction\",\n",
    "          \"protein kinase; inhibitor of host transcription; positively regulates RNaseIII; negatively on RNaseE\"]\n",
    "DNA = list(set(DNA) - set(remove))\n",
    "\n",
    "DNA = np.unique(DNA)\n",
    "print('\\033[1m' + \"All DNA associated:\" + '\\033[0m', DNA)"
   ]
  },
  {
   "cell_type": "code",
   "execution_count": 64,
   "id": "095a4a09",
   "metadata": {},
   "outputs": [],
   "source": [
    "# Remove ambiguous antirestriction and regulators\n",
    "include_in_DNA = [\"anti-restriction nuclease\", \"DarB-like antirestriction\", \"DdrA-like anti-restriction protein\"]\n",
    "include_neg_DNA = [\"ocr-like anti-restriction\", \"restriction alleviation ral\", \"Lar-like restriction alleviation protein\"]\n",
    "exclude_neg_DNA = [\"anti-restriction protein\",\"Hdf-like antirestriction\",\"inhibitor of MrcBC restriction\",\n",
    "                   \"Ulx-like anti-restriction\"]\n",
    "#ocr-like anti-restriction does not bind DNA, it mimics the shape of DNA and binds restriction enzymes\n",
    "#restriction alleviation ral likely does not bind DNA. It modifies a methyltransferase. Lar ressembles RAL"
   ]
  },
  {
   "cell_type": "code",
   "execution_count": 65,
   "id": "b5bb1433",
   "metadata": {
    "scrolled": true
   },
   "outputs": [],
   "source": [
    "include_in_DNA = include_in_DNA + [\"Alt-like transcription activator\", \"Arc-like DNA binding domain\", \"Arc-like repressor\", \n",
    "                  \"Arc-like transcriptional regulator\", \"CI-like repressor\", \"CII-like regulator\", \n",
    "                  \"CII-like transcriptional activator\", \"CopG-like transcriptional repressor\", \n",
    "                  \"Cox-like excisionase and repressor\", \"MarR family transcrition regulator\", \n",
    "                  \"MerR-like transcriptional regulator\", \"MotA-like activator of middle period transcription\", \n",
    "                  \"MotB-like transcriptional regulator\", \"Nun-like transcription termination factor\", \n",
    "                  \"Rha-like transcriptional regulator\", \"WhiB transcriptional factor\", \"anti-termination protein N-like\",\n",
    "                  \"anti-termination protein Q-like\", \"cro-like repressor\", \"excisionase and transcriptional regulator\",\n",
    "                  \"late promoter transcriptional regulator\", \"sigma factor\", \"late sigma transcription factor\", \n",
    "                  'sigma factor for late transcription','sigma-K factor', 'transcriptional regulator WhiB-like',\n",
    "                  \"transcriptional regulator, D5-like\", \"RNA polymerase sigma factor\"]\n",
    "include_neg_DNA = include_neg_DNA + [\"CIII anti-termination\",\"Lpa-like transcriptional activator\", \n",
    "                                     \"RinB-like transcriptional activator\", \"anti-repressor Ant\",\n",
    "               \"protein kinase; inhibitor of host transcription; positively regulates RNaseIII; negatively on RNaseE\"]\n",
    "exclude_neg_DNA = exclude_neg_DNA + [\"BstA abortive infection system, replication inhibitor\",'transcriptional repressor',\n",
    "                   \"FmdB-like transcriptional regulator\",\"Mrh transcription modulator under heat shock\", \"anti-repressor\",\n",
    "                   \"inhibitor of host transcription\",\"inhibitor of transcription initiation and antiterminator\", \n",
    "                   \"late transcriptional activator\",'starvation-inducible transcriptional regulator', \n",
    "                   \"transcription antiterminator\", \"transcription factor\",'transcriptional activator',\n",
    "                   'transcriptional regulator', \"DNA sliding clamp inhibitor; arrest of S.aureus DNA synthesis\", \n",
    "                   \"inhibitor of MrcBC restriction\", 'host RecBCD nuclease inhibitor','host nuclease inhibitor',\n",
    "                   'gam-like host nuclease inhibitor']\n",
    "#CIII binds to CII degrading enzyme thus allowing CII to stay active longer\n",
    "#Lpa-like transcriptional activator activates CREB and SRF (transcription factors) likely by phosphorylation\n",
    "#RinB stabilizes RinA which binds and regulates DNA\n",
    "#anti-repressor Ant binds repressor and blocks it from binding the operator\n",
    "#protein kinase; inhibitor of host transcription; positively regulates RNaseIII; negatively on RNaseE"
   ]
  },
  {
   "cell_type": "code",
   "execution_count": 66,
   "id": "6ca254f5",
   "metadata": {},
   "outputs": [],
   "source": [
    "DNA = list(set(DNA) - set(include_neg_DNA) - set(exclude_neg_DNA))"
   ]
  },
  {
   "cell_type": "markdown",
   "id": "ed66c9b5",
   "metadata": {},
   "source": [
    "# Phosphorylation\n",
    "\n",
    "Kinase, phosphorylase, phosphatase"
   ]
  },
  {
   "cell_type": "code",
   "execution_count": 67,
   "id": "fa0b0dea",
   "metadata": {},
   "outputs": [
    {
     "name": "stdout",
     "output_type": "stream",
     "text": [
      "\u001b[1mphosphorylation :\u001b[0m ['thymidylate kinase', 'thymidine kinase', 'serine-threonine kinase', 'ribose-phosphate pyrophosphokinase', 'pyrophosphatase', 'protein kinase; inhibitor of host transcription; positively regulates RNaseIII; negatively on RNaseE', 'polynucleotide kinase/phosphorylase', 'polynucleotide kinase', 'phosphofructokinase', 'phosphatidylglycerophosphatase A', 'phosphatase', 'nucleotide kinase', 'NinI-like serine-threonine phosphatase', 'MazG-like pyrophosphatase', 'kinase', 'guanylate kinase', 'exopolyphosphatase', 'dual specificity phosphatase', \"deoxyribonucleoside 5' monophosphate phosphatase\", 'deoxynucleoside monophosphate kinase', 'bifunctional heptose 7-phosphate kinase/heptose 1-phosphate adenyltransferase', '6-phosphofructokinase', \"3'-phosphatase, 5'-polynucleotide kinase\"]\n"
     ]
    }
   ],
   "source": [
    "phosphorylation = [i for i in annotations if (\"kinase\" in i) or (\"phosphorylase\" in i) or (\"phosphatase\" in i)]\n",
    "print('\\033[1m' + \"phosphorylation :\" + '\\033[0m', phosphorylation)"
   ]
  },
  {
   "cell_type": "markdown",
   "id": "43871a48",
   "metadata": {},
   "source": [
    "# Defense systems\n",
    "\n",
    "Superinfecton exclusion, Crispr-cas associated, abortive infection, Sir2, toxin-antitoxin\\\n",
    "Anti-restriction, methylase, anti-crispr (transferase/methylase)"
   ]
  },
  {
   "cell_type": "code",
   "execution_count": 68,
   "id": "a4bb3b90",
   "metadata": {},
   "outputs": [
    {
     "name": "stdout",
     "output_type": "stream",
     "text": [
      "\u001b[1mDefense systems :\u001b[0m ['Zot-like toxin', 'virulence associated', 'Ulx-like anti-restriction', 'type I-F anti-CRISPR protein', 'type I-E anti-CRISPR protein', 'toxin-antitoxin system HicB-like', 'toxin of TA system', 'toxin', 'superinfection exclusion; inhibits SieB', 'superinfection exclusion SieA-like', 'superinfection exclusion Sie-like', 'superinfection exclusion', 'Sir2 (NAD-dependent deacetylase)', 'SieB superinfection exclusion', 'Shiga toxin subunit B', 'Shiga toxin subunit A', 'ribonuclease toxin of AT system', 'RelE-like toxin', 'plasmid antitoxin with HTH domain', 'Phd-like antitoxin', 'PAGK virulence factor', 'ocr-like anti-restriction', 'immunity to superinfection', 'HicB-like antitoxin', 'Hdf-like antirestriction', 'enterotoxin type A / speL', 'enterotoxin CtxB', 'enterotoxin CtxA', 'Doc-like toxin', 'DNA methylase', 'DdrA-like anti-restriction protein', 'dCMP hydroxymethylase', 'DarB-like antirestriction', 'cytolethal distending toxin C subunit', 'cytolethal distending toxin B subunit', 'cytolethal distending toxin A subunit', 'CTXphi Zot-like toxin', 'CRISPR/Cas system associated', 'Cor superinfection exclusion protein', 'BstA abortive infection system, replication inhibitor', 'antitoxin with HTH domain', 'antitoxin mazE-like', 'antitoxin from a toxin-antitoxin system', 'anti-restriction protein', 'anti-restriction nuclease', 'ADP-ribosyltransferase exoenzyme toxin', 'abortive infection resistance protein', 'Abi alpha-like abortive infection mechanism', 'Panton-Valentine leukocicin']\n",
      "\u001b[1mCrispr :\u001b[0m ['type I-F anti-CRISPR protein', 'type I-E anti-CRISPR protein', 'CRISPR/Cas system associated', 'Cas4-domain exonuclease']\n",
      "\u001b[1mSuper-infection exclusion :\u001b[0m ['superinfection exclusion; inhibits SieB', 'superinfection exclusion SieA-like', 'superinfection exclusion Sie-like', 'superinfection exclusion', 'SieB superinfection exclusion', 'immunity to superinfection', 'Cor superinfection exclusion protein']\n",
      "\u001b[1mToxin/anti-toxin :\u001b[0m ['Zot-like toxin', 'toxin-antitoxin system HicB-like', 'toxin of TA system', 'toxin', 'Shiga toxin subunit B', 'Shiga toxin subunit A', 'ribonuclease toxin of AT system', 'RelE-like toxin', 'plasmid antitoxin with HTH domain', 'Phd-like antitoxin', 'HicB-like antitoxin', 'enterotoxin type A / speL', 'enterotoxin CtxB', 'enterotoxin CtxA', 'Doc-like toxin', 'cytolethal distending toxin C subunit', 'cytolethal distending toxin B subunit', 'cytolethal distending toxin A subunit', 'CTXphi Zot-like toxin', 'antitoxin with HTH domain', 'antitoxin mazE-like', 'antitoxin from a toxin-antitoxin system', 'ADP-ribosyltransferase exoenzyme toxin', 'Panton-Valentine leukocicin']\n",
      "\u001b[1mSir2 :\u001b[0m ['Sir2 (NAD-dependent deacetylase)']\n",
      "\u001b[1mDefense :\u001b[0m ['virulence associated', 'Ulx-like anti-restriction', 'PAGK virulence factor', 'ocr-like anti-restriction', 'Hdf-like antirestriction', 'DNA methylase', 'DdrA-like anti-restriction protein', 'dCMP hydroxymethylase', 'DarB-like antirestriction', 'anti-restriction protein', 'anti-restriction nuclease']\n"
     ]
    }
   ],
   "source": [
    "defense = [i for i in annotations if (\"CRISPR\" in i) or (\"superinfection\" in i) or (\"toxin\" in i) or (\"abortive\" in i) or \n",
    "           (\"Sir2\" in i) or ((\"restriction\" in i) and (\"anti\" in i)) or (\"methylase\" in i) or (\"virulence\"in i)]\n",
    "defense = defense + [\"Panton-Valentine leukocicin\"]\n",
    "print('\\033[1m' + \"Defense systems :\" + '\\033[0m', defense)\n",
    "\n",
    "crispr = [i for i in annotations if (\"CRISPR\" in i)] + [\"Cas4-domain exonuclease\"]\n",
    "print('\\033[1m' + \"Crispr :\" + '\\033[0m', crispr)\n",
    "\n",
    "super_infection = [i for i in annotations if (\"superinfection\" in i)]\n",
    "print('\\033[1m' + \"Super-infection exclusion :\" + '\\033[0m', super_infection)\n",
    "\n",
    "toxin = [i for i in annotations if (\"toxin\" in i)] + [\"Panton-Valentine leukocicin\"]\n",
    "print('\\033[1m' + \"Toxin/anti-toxin :\" + '\\033[0m', toxin)\n",
    "\n",
    "sir2 = [i for i in annotations if (\"Sir2\" in i)]\n",
    "print('\\033[1m' + \"Sir2 :\" + '\\033[0m', sir2)\n",
    "\n",
    "defense = [i for i in annotations if ((\"restriction\" in i) and (\"anti\" in i)) or (\"methylase\" in i) or (\"virulence\"in i)]\n",
    "print('\\033[1m' + \"Defense :\" + '\\033[0m', defense)"
   ]
  },
  {
   "cell_type": "markdown",
   "id": "3056102a",
   "metadata": {},
   "source": [
    "# Transferase"
   ]
  },
  {
   "cell_type": "code",
   "execution_count": 69,
   "id": "ce00c807",
   "metadata": {},
   "outputs": [
    {
     "name": "stdout",
     "output_type": "stream",
     "text": [
      "\u001b[1mTransferase :\u001b[0m ['tRNA-His guanylyltransferase', 'tRNA nucleotidyltransferase', 'tRNA methyltransferase', 'tRNA amidotransferase', 'SAM-dependent methyltransferase', \"RNA 2'-phosphotransferase\", 'ribosomal protein S6 glutaminyl transferase', 'rhodanese-related sulfurtransferase', 'queuine tRNA-ribosyltransferase', 'phosphoribosyl transferase', 'O-acetyltransferase', 'nucleotidyltransferase', 'nucleoside deoxyribosyltransferase', 'nucleoside 2-deoxyribosyltransferase', 'Nol-like carbamoyltransferase', 'nicotinamide-nucleotide adenylyltransferase', 'nicotinamide phosphoribosyl transferase', 'methyltransferase', 'L-glutamine-D-fructose-6-phosphate aminotransferase', 'GtrB glycosyltransferase for O-antigen conversion', 'glycosyltransferase', 'glutamine amidotransferase', 'glucosyltransferase', 'gamma-glutamyl cyclotransferase', 'galactosyl transferase', 'Galactose-3-O-sulfotransferase', 'DNA methyltransferase', 'cytidyltransferase', 'cyanobacterial phosphoribosylglycinamide formyltransferase', 'Bxa ADP-ribosyl transferase', 'bifunctional heptose 7-phosphate kinase/heptose 1-phosphate adenyltransferase', 'beta-glucosyltransferase', 'beta-glucosyl-HMC-alpha-glucosyltransferase', 'beta-1,4-glycosyltransferase', 'aminotransferase', 'Alt-like RNA polymerase ADP-ribosyltransferase', 'alpha-glucosyltransferase', 'alpha-2;3-sialyltransferase', 'ADP-ribosyltransferase exoenzyme toxin', 'ADP-ribosyltransferase', 'acyl-CoA N-acyltransferase', 'acetyltransferase', 'acetyl-CoA acetyltransferase', '5-phosphoribosylformylglycinamide amidotransferase']\n"
     ]
    }
   ],
   "source": [
    "transferase = [i for i in annotations if (\"transferase\" in i)]\n",
    "print('\\033[1m' + \"Transferase :\" + '\\033[0m', transferase)"
   ]
  },
  {
   "cell_type": "markdown",
   "id": "aa5011d5",
   "metadata": {},
   "source": [
    "# Reductase"
   ]
  },
  {
   "cell_type": "code",
   "execution_count": 70,
   "id": "c6c81300",
   "metadata": {},
   "outputs": [
    {
     "name": "stdout",
     "output_type": "stream",
     "text": [
      "\u001b[1mReductase :\u001b[0m ['ribonucleotide reductase NrdA-like', 'ribonucleotide reductase large subunit', 'ribonucleotide reductase class Ia beta subunit', 'ribonucleotide reductase alpha subunit', 'ribonucleotide reductase', 'ribonucleoside-diphosphate reductase large subunit', 'ribonucleoside-diphosphate reductase beta subunit', 'ribonucleoside reductase class II', 'ribonucleoside diphosphate reductase small subunit', 'quinone oxidoreductase TQO', 'phosphoadenosine phosphosulfate reductase', 'peptide methionine sulfoxide reductase', 'NrdD-like anaerobic ribonucleotide reductase large subunit', 'NrdA-like aerobic NDP reductase large subunit', 'nitroreductase', 'ferredoxin oxidoreductase', 'Fe-S oxidoreductase', 'FabG-like 3-oxoacyl-(acyl-carrier-protein) reductase', 'dimethyl sulfoxide reductase DmsA', 'dihydrofolate reductase', 'anaerobic ribonucleotide reductase small subunit', 'anaerobic ribonucleoside reductase small subunit', 'anaerobic ribonucleoside reductase large subunit', 'aerobic NDP reductase small subunit']\n"
     ]
    }
   ],
   "source": [
    "reductase = [i for i in annotations if (\"reductase\" in i)]\n",
    "print('\\033[1m' + \"Reductase :\" + '\\033[0m', reductase)"
   ]
  },
  {
   "cell_type": "markdown",
   "id": "176dc451",
   "metadata": {},
   "source": [
    "# RNA associated"
   ]
  },
  {
   "cell_type": "code",
   "execution_count": 71,
   "id": "3c19ff9d",
   "metadata": {},
   "outputs": [
    {
     "name": "stdout",
     "output_type": "stream",
     "text": [
      "\u001b[1mRNA :\u001b[0m ['RNA polymerase ADP-ribosylase', 'tRNA amidotransferase', 'tRNA synthetase', 'tRNA splicing ligase', 'translation initiation factor', 'RNA ligase and tail fiber protein attachment catalyst', 'Reverse transcriptase', 'Dmd discriminator of mRNA degradation', 'RNA-binding protein', 'translational regulator', 'tRNA methyltransferase', 'translation repressor', 'tRNA nucleotidyltransferase', 'RNA ligase', 'RNA polymerase', 'translation elongation factor', 'RNA replicase beta subunit', 'RNA polymerase sigma factor', 'RNA polymerase binding', 'queuine tRNA-ribosyltransferase', 'Alt-like RNA polymerase ADP-ribosyltransferase', 'RNA polymerase beta subunit', 'RNA polymerase inhibitor', 'valyl tRNA synthetase modifier', 'RpbA RNA polymerase binding protein', 'tyrosyl-tRNA synthetase', 'cef modifier of supressor tRNAs', 'tRNA-His guanylyltransferase', 'virion RNA polymerase', 'Rnase H', 'RNA-dependent RNA polymerase', \"RNA 2'-phosphotransferase\", 'Rnase E', 'goF mRNA metabolism modulator', 'histidyl tRNA synthetase', 'N4-like RNA polymerase', 'endolysin; inhibits RNA polymerase', 'tRNA splicing ligase RtcB']\n"
     ]
    }
   ],
   "source": [
    "RNA = [i for i in annotations if (\"Rna\" in i) or (\"RNA\" in i) or ((\"rna\" in i) and not (\"internal\" in i)) or \n",
    "       (\"translation\" in i)]\n",
    "RNA = RNA + [\"Reverse transcriptase\"]\n",
    "remove = [\"activator of host PrrC lysyl-tRNA endonuclease\", \"quaternary ammonium compound-resistance protein QacE\"]\n",
    "RNA = list(set(RNA) - set(remove))\n",
    "print('\\033[1m' + \"RNA :\" + '\\033[0m', RNA)"
   ]
  },
  {
   "cell_type": "markdown",
   "id": "85f30938",
   "metadata": {},
   "source": [
    "# Nucleotide metabolism"
   ]
  },
  {
   "cell_type": "code",
   "execution_count": 72,
   "id": "12acef08",
   "metadata": {},
   "outputs": [
    {
     "name": "stdout",
     "output_type": "stream",
     "text": [
      "\u001b[1mNucleotide metabolism :\u001b[0m {'dCMP deaminase', 'anaerobic ribonucleotide reductase small subunit', 'ribonucleotide reductase large subunit', 'aerobic NDP reductase small subunit', 'ribonucleotide reductase', 'dCMP hydroxymethylase', 'ribonucleoside reductase class II', 'dATP triphosphohydrolase', 'dihydrofolate reductase', 'ribonucleotide reductase alpha subunit', 'ribonucleoside-diphosphate reductase beta subunit', 'nucleoside triphosphate pyrophosphohydrolase', 'ribonucleotide reductase class Ia beta subunit', 'dUTPase', 'dATP / dGTP pyrophosphohydrolase', 'nucleotidase', 'anaerobic ribonucleoside reductase small subunit', 'nucleoside 2-deoxyribosyltransferase', 'thymidylate synthase', 'thymidylate synthase complementing protein', 'anaerobic ribonucleoside reductase large subunit', 'nucleotidyltransferase', 'DNA sliding clamp inhibitor; arrest of S.aureus DNA synthesis', 'ribonucleotide reductase NrdA-like', 'ribonucleoside diphosphate reductase small subunit', 'deoxycytidinylate deaminase', 'nucleoside deoxyribosyltransferase', '2-aminooxy adenylosuccinate synthetase', 'dCTP deaminase', 'ribonucleoside-diphosphate reductase large subunit', 'nucleotide-sugar epimerase'}\n"
     ]
    }
   ],
   "source": [
    "nucleotide = set(cat_DNA_RNA) - set(DNA) - set(RNA) - set([\"Avd protein of DGR\", \"Panton-Valentine leukocicin\", \n",
    "                                                           \"gpCom control of modification\", \"restriction alleviation ral\",\n",
    "                                              \"nuclear shell protein\", \"plasmid stability\", \"thioredoxin domain\"])\n",
    "print('\\033[1m' + \"Nucleotide metabolism :\" + '\\033[0m', nucleotide)"
   ]
  },
  {
   "cell_type": "markdown",
   "id": "a9db8a66",
   "metadata": {},
   "source": [
    "# Annotations to remove from the negative set\n",
    "\n",
    "Annotations we cannot include in the positive class because they are too general, but we do not want to include in the negative class either so as to not bias the classifier."
   ]
  },
  {
   "cell_type": "code",
   "execution_count": 73,
   "id": "7ff3d17b",
   "metadata": {},
   "outputs": [],
   "source": [
    "exclude_neg_internal = ejection #for pvp and assembly\n",
    "exclude_neg_pvp_subtypes = [\"virion structural protein\", \"structural protein\", \"structural protein with Ig domain\", \n",
    "                   \"internal virion protein\", \"internal virion protein with endolysin domain\",\n",
    "                   \"internal virion lysozyme motif\"]\n",
    "exclude_neg_capsid = [\"head protein\"]\n",
    "exclude_neg_tail = [\"tail protein\"]\n",
    "exclude_neg_tail_appendage = ['EPS depolymerase','adhesin','lytic tail protein','receptor binding tail protein',\n",
    "                          'tail associated cell-wall hydrolase','tail associated lysin','tail injection transglycosylase',\n",
    "                          'tail protease','tail protein','tail protein and host specificity',\n",
    "                          'tail protein with endopeptidase activity','tail protein with endopeptidase domain',\n",
    "                          'tail protein with lysin activity','tail protein with peptidase activity']\n",
    "exclude_neg_primase = [\"replicative helicase-primase\", \"DNA primase/helicase\", \"DNA polymerase/primase\"]\n",
    "exclude_neg_activator = [\"Arc-like transcriptional regulator\", \"CsrA-like regulator\", \"FmdB-like transcriptional regulator\",\n",
    "                         \"MarR family transcrition regulator\", \"MerR-like transcriptional regulator\", \n",
    "                         \"Mrh transcription modulator under heat shock\", \"Rha-like transcriptional regulator\", \n",
    "                         \"excisionase and transcriptional regulator\", \"late promoter transcriptional regulator\",\n",
    "                         \"transcriptional regulator\", \"transcriptional regulator WhiB-like\", \n",
    "                         \"transcriptional regulator, D5-like\"]\n",
    "exclude_neg_repressor = [\"Arc-like transcriptional regulator\", \"CsrA-like regulator\", \"FmdB-like transcriptional regulator\",\n",
    "                         \"MarR family transcrition regulator\", \"MerR-like transcriptional regulator\", \n",
    "                         \"Mrh transcription modulator under heat shock\", \"Rha-like transcriptional regulator\", \n",
    "                         \"excisionase and transcriptional regulator\", \"late promoter transcriptional regulator\",\n",
    "                         \"transcriptional regulator\", \"transcriptional regulator WhiB-like\", \n",
    "                         \"transcriptional regulator, D5-like\"]\n",
    "exclude_neg_DNA_binding = exclude_neg_DNA + ejection\n",
    "exclude_neg_DNA_binding_subtypes = [\"HTH DNA binding protein\", \"DNA binding protein\", 'DNA binding domain', \n",
    "                         'HTH DNA binding domain protein']\n",
    "exclude_neg_nuclease = exclude_neg_DNA_binding_subtypes + [\"CRISPR/Cas system associated\"]"
   ]
  },
  {
   "cell_type": "code",
   "execution_count": 74,
   "id": "8d337a73",
   "metadata": {},
   "outputs": [
    {
     "data": {
      "text/plain": [
       "{'Avd protein of DGR',\n",
       " 'Panton-Valentine leukocicin',\n",
       " 'gpCom control of modification',\n",
       " 'nuclear shell protein',\n",
       " 'plasmid stability',\n",
       " 'restriction alleviation ral',\n",
       " 'thioredoxin domain'}"
      ]
     },
     "execution_count": 74,
     "metadata": {},
     "output_type": "execute_result"
    }
   ],
   "source": [
    "#DNA-RNA and nucleotide metabolism I did not know where to include\n",
    "set(cat_DNA_RNA) - set(list(DNA) + list(RNA) + list(nucleotide))"
   ]
  },
  {
   "cell_type": "markdown",
   "id": "9ecdf8ff",
   "metadata": {},
   "source": [
    "# Save to file"
   ]
  },
  {
   "cell_type": "code",
   "execution_count": 75,
   "id": "7523be9f",
   "metadata": {
    "scrolled": true
   },
   "outputs": [],
   "source": [
    "\"\"\"\n",
    "with open('../data/functional_groups.json', 'w') as fp:\n",
    "    json.dump({\"packaging_assembly\":packaging,\n",
    "               \"pvp\":list(pvp),\n",
    "               \"exclude_neg_internal\":list(exclude_neg_internal),\n",
    "               \n",
    "               \"tail\":list(tail), \n",
    "               \"capsid\":list(capsid), \n",
    "               \"portal\":list(portal), \n",
    "               \"collar\":list(collar), \n",
    "               \"head-tail_joining\":list(head_tail_joining),\n",
    "               \"exclude_neg_pvp_subtypes\":list(exclude_neg_pvp_subtypes),\n",
    "               \n",
    "               \"tail_sheath\":list(tail_sheath),\n",
    "               \"baseplate\":list(baseplate),\n",
    "               \"tail_appendage\":list(tail_appendage), \n",
    "               \"major_tail\":list(major_tail),\n",
    "               \"minor_tail\":list(minor_tail),\n",
    "               \"exclude_neg_tail\":list(exclude_neg_tail),\n",
    "               \"exclude_neg_tail_appendage\":list(exclude_neg_tail_appendage),\n",
    "               \n",
    "               \"major_capsid\":list(major_capsid),\n",
    "               \"minor_capsid\":list(minor_capsid),\n",
    "               \"exclude_neg_capsid\":list(exclude_neg_capsid),\n",
    "               \n",
    "               \n",
    "               \"adsorption-related\":list(adsorption_related),\n",
    "               \"cell_wall_depolymerase\":list(cell_wall_depolymerase),\n",
    "               \n",
    "               #Lysis\n",
    "               \"lysis\":list(lysis),\n",
    "               \"endolysin\":list(endolysin),\n",
    "               \"holin\":list(holin),\n",
    "               \"spanin\":list(spanin),\n",
    "               \"lysis_inhibitor\":list(lysis_inhibitor),\n",
    "               \n",
    "               \"DNA-associated\":list(DNA),\n",
    "               \"exclude_neg_DNA_binding\":list(exclude_neg_DNA),\n",
    "               \"RNA-associated\":list(RNA),\n",
    "               \"nucleotide_metabolism\":list(nucleotide),\n",
    "               \n",
    "               \n",
    "               \"integration\":list(integration),\n",
    "               \"nuclease\":list(nuclease),\n",
    "               \"DNA_polymerase\":list(DNA_polymerase),\n",
    "               \"terminase\":list(terminase),\n",
    "               \"annealing\":list(annealing),\n",
    "               \"helicase\":list(helicase),\n",
    "               \"primase\":list(primase),\n",
    "               \"ejection\":list(ejection),\n",
    "               \"replication_initiation\":(replication_initiation),\n",
    "               \"exclude_neg_nuclease\":(exclude_neg_nuclease),\n",
    "               \"exclude_neg_primase_helicase\":list(exclude_neg_primase) + list(exclude_neg_DNA_binding_subtypes),\n",
    "               \"exclude_neg_DNA_binding_subtypes\":list(exclude_neg_DNA_binding_subtypes),\n",
    "               \n",
    "               \"transcriptional_regulator\":list(transcriptional_regulator),\n",
    "               \"exclude_neg_regulator\":list(exclude_neg_DNA_binding_subtypes),\n",
    "               \"transcriptional_activator\":list(transcriptional_activator),\n",
    "               \"exclude_neg_activator\":list(exclude_neg_activator),\n",
    "               \"transcriptional_repressor\":list(transcriptional_repressor),\n",
    "               \"exclude_neg_repressor\":list(exclude_neg_repressor),\n",
    "               \n",
    "\n",
    "               \n",
    "               \"phosphorylation\":list(phosphorylation),\n",
    "               \"transferase\":list(transferase),\n",
    "               \"reductase\":list(reductase),\n",
    "               \n",
    "               \"defense_systems\":list(defense),\n",
    "               \"anti-restriction\":list(anti_restriction),\n",
    "               \"crispr\":list(crispr),\n",
    "               \"super_infection\":list(super_infection),\n",
    "               \"toxin\":list(toxin),\n",
    "               \"sir2\":list(sir2),\n",
    "               \n",
    "               \"category_moron\":list(cat_moron),\n",
    "               \"category_tr\":list(cat_tr),\n",
    "               \"category_head\":list(cat_head),\n",
    "               \"category_DNA_RNA\":list(cat_DNA_RNA),\n",
    "               \"category_connector\":list(cat_connector),\n",
    "               \"category_integration\":list(cat_integration),\n",
    "               \"category_tail\":list(cat_tail),\n",
    "               \"category_lysis\":list(cat_lysis)}, fp, indent=4)\n",
    "\"\"\""
   ]
  },
  {
   "cell_type": "code",
   "execution_count": 38,
   "id": "def2525a",
   "metadata": {},
   "outputs": [],
   "source": [
    "#with open('../tmp/lysin_pvp/annotations.json', 'w') as fp:\n",
    "#    json.dump({\"lysin\":list(all_lysin),\n",
    "#               \"pvp\":list(pvp)}, fp, indent=4)"
   ]
  },
  {
   "cell_type": "code",
   "execution_count": null,
   "id": "14db1d89",
   "metadata": {},
   "outputs": [],
   "source": []
  }
 ],
 "metadata": {
  "kernelspec": {
   "display_name": "Python 3 (ipykernel)",
   "language": "python",
   "name": "python3"
  },
  "language_info": {
   "codemirror_mode": {
    "name": "ipython",
    "version": 3
   },
   "file_extension": ".py",
   "mimetype": "text/x-python",
   "name": "python",
   "nbconvert_exporter": "python",
   "pygments_lexer": "ipython3",
   "version": "3.7.9"
  }
 },
 "nbformat": 4,
 "nbformat_minor": 5
}
