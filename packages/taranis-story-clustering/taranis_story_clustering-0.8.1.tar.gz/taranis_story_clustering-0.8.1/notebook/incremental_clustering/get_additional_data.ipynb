{
 "cells": [
  {
   "cell_type": "code",
   "execution_count": 49,
   "id": "initial_id",
   "metadata": {
    "collapsed": true,
    "ExecuteTime": {
     "end_time": "2023-11-28T13:30:13.640356925Z",
     "start_time": "2023-11-28T13:30:13.578879277Z"
    }
   },
   "outputs": [
    {
     "name": "stdout",
     "output_type": "stream",
     "text": [
      "448\n",
      "701\n"
     ]
    }
   ],
   "source": [
    "# import data\n",
    "\n",
    "import json\n",
    "with open(\"../localhost/20231127.json\") as f:\n",
    "    news_item_1 = json.load(f)\n",
    "print(len(news_item_1))\n",
    "\n",
    "with open(\"../localhost/20231128.json\") as f:\n",
    "    news_item_2 = json.load(f)\n",
    "print(len(news_item_2))\n",
    "\n"
   ]
  },
  {
   "cell_type": "code",
   "execution_count": 50,
   "outputs": [
    {
     "data": {
      "text/plain": "378"
     },
     "execution_count": 50,
     "metadata": {},
     "output_type": "execute_result"
    }
   ],
   "source": [
    "# get newest data, not in news_item_1 but in news_item_2\n",
    "new_data = []\n",
    "for news_item in news_item_2:\n",
    "        if news_item not in news_item_1:\n",
    "            new_data.append(news_item)\n",
    "\n",
    "len(new_data)"
   ],
   "metadata": {
    "collapsed": false,
    "ExecuteTime": {
     "end_time": "2023-11-28T13:30:13.680076599Z",
     "start_time": "2023-11-28T13:30:13.638645331Z"
    }
   },
   "id": "82bf9c17742dfead"
  },
  {
   "cell_type": "code",
   "execution_count": 51,
   "outputs": [
    {
     "data": {
      "text/plain": "324"
     },
     "execution_count": 51,
     "metadata": {},
     "output_type": "execute_result"
    }
   ],
   "source": [
    "ids1 = [val['id'] for val in news_item_1]\n",
    "ids2 = [val['id'] for val in news_item_2]\n",
    "new_values_2 = list(set(ids2) - set(ids1))\n",
    "\n",
    "new_data = []\n",
    "for item in news_item_2: \n",
    "    if item['id'] in new_values_2: \n",
    "        new_data.append(item)\n",
    "len(new_data)"
   ],
   "metadata": {
    "collapsed": false,
    "ExecuteTime": {
     "end_time": "2023-11-28T13:30:13.680465371Z",
     "start_time": "2023-11-28T13:30:13.679748512Z"
    }
   },
   "id": "d04464508e1ab407"
  },
  {
   "cell_type": "code",
   "execution_count": 52,
   "outputs": [],
   "source": [
    "#dump to json\n",
    "\n",
    "with open(\"../localhost/diff_20231127_20231128_noClusters.json\", \"w\") as file:\n",
    "    json.dump(new_data, file)\n"
   ],
   "metadata": {
    "collapsed": false,
    "ExecuteTime": {
     "end_time": "2023-11-28T13:30:13.738715388Z",
     "start_time": "2023-11-28T13:30:13.679929575Z"
    }
   },
   "id": "e27395e7727ef7a1"
  },
  {
   "cell_type": "code",
   "execution_count": 53,
   "outputs": [
    {
     "name": "stdout",
     "output_type": "stream",
     "text": [
      "Clusters:[]\n",
      "Overlapping:[]\n"
     ]
    }
   ],
   "source": [
    "# check if really no clusters are involved \n",
    "ids = []\n",
    "for r in new_data:\n",
    "     if len(r['news_items']) > 1:\n",
    "         ids.append(r['id'])\n",
    "\n",
    "print(f\"Clusters:{ids}\")\n",
    "\n",
    "# doublecheck if no values overlap and IDs are correct\n",
    "items_2=[]\n",
    "for n in news_item_1:\n",
    "    if n['id'] in new_values_2:\n",
    "         items_2.append(n)\n",
    "print(f\"Overlapping:{items_2}\")"
   ],
   "metadata": {
    "collapsed": false,
    "ExecuteTime": {
     "end_time": "2023-11-28T13:30:13.742824754Z",
     "start_time": "2023-11-28T13:30:13.723444436Z"
    }
   },
   "id": "689085ddbfc3ad7d"
  }
 ],
 "metadata": {
  "kernelspec": {
   "display_name": "Python 3",
   "language": "python",
   "name": "python3"
  },
  "language_info": {
   "codemirror_mode": {
    "name": "ipython",
    "version": 2
   },
   "file_extension": ".py",
   "mimetype": "text/x-python",
   "name": "python",
   "nbconvert_exporter": "python",
   "pygments_lexer": "ipython2",
   "version": "2.7.6"
  }
 },
 "nbformat": 4,
 "nbformat_minor": 5
}
