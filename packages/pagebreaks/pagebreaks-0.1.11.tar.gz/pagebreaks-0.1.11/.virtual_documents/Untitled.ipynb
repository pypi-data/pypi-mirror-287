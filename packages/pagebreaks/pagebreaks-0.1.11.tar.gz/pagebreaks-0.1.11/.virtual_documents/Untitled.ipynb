a = 3
b = 'test'
c = [3,2,1]


%who_pb


%who_ls


%who


%whos






