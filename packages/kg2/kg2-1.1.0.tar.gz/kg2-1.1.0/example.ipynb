{
 "cells": [
  {
   "cell_type": "code",
   "execution_count": 1,
   "metadata": {},
   "outputs": [],
   "source": [
    "from kg2 import *"
   ]
  },
  {
   "cell_type": "code",
   "execution_count": null,
   "metadata": {},
   "outputs": [],
   "source": [
    "# Number of worlds in the model.\n",
    "world_size = 4\n",
    "\n",
    "# Accessibility relation.\n",
    "relation = [[0, 0, 0, 0, 0, 0, 0, 0]]\n",
    "\n",
    "# Valuation 1 for each variable and agent.\n",
    "valuation1 = {\"p\": [1, 1, 0.4, 0.4]}\n",
    "\n",
    "# Valuation 2 for each variable and agent.\n",
    "valuation2 = {\"p\": [0, 0, 0.8, 0.8]}\n",
    "\n",
    "# Model instantiation.\n",
    "model = Model(4, relation, valuation1, valuation2)\n",
    "\n",
    "# Define a formula.\n",
    "formula = Diamond(Diamond(Variable(\"p\")))\n",
    "\n",
    "# Evaluate formula in the model for world 0.\n",
    "formula.valuation1(model, 0)"
   ]
  },
  {
   "cell_type": "code",
   "execution_count": 8,
   "metadata": {},
   "outputs": [],
   "source": [
    "model = Model(8)\n",
    "model.set_relation(0, 1, 0.5)\n",
    "model.set_relation(0, 2, 0.1)\n",
    "model.set_relation(0, 3, 0.9)\n",
    "model.set_relation(0, 4, 0.9)\n",
    "model.set_relation(1, 5, 0.5)\n",
    "model.set_relation(4, 6, 0.9)\n",
    "model.set_relation(4, 7, 0.2)\n",
    "model.set_variable_valuation1(\"p\", [0, 0.9, 0.1, 0.95, 0.75, 0.3, 0.9, 0.7])\n",
    "model.set_variable_valuation2(\"p\", [0.1, 0.1, 0.75, 0.25, 0.9, 0.1, 0.1, 0.6])"
   ]
  },
  {
   "cell_type": "markdown",
   "metadata": {},
   "source": [
    "$v(\\square p, 0)$"
   ]
  },
  {
   "cell_type": "code",
   "execution_count": 9,
   "metadata": {},
   "outputs": [
    {
     "data": {
      "text/plain": [
       "(0.75, 0.9)"
      ]
     },
     "execution_count": 9,
     "metadata": {},
     "output_type": "execute_result"
    }
   ],
   "source": [
    "formula = Box(Variable(\"p\"))\n",
    "formula.valuation1(model, 0), formula.valuation2(model, 0)"
   ]
  },
  {
   "cell_type": "markdown",
   "metadata": {},
   "source": [
    "$v(\\lozenge p, 0)$"
   ]
  },
  {
   "cell_type": "code",
   "execution_count": 11,
   "metadata": {},
   "outputs": [
    {
     "data": {
      "text/plain": [
       "(0.9, 0.1)"
      ]
     },
     "execution_count": 11,
     "metadata": {},
     "output_type": "execute_result"
    }
   ],
   "source": [
    "formula = Diamond(Variable(\"p\"))\n",
    "formula.valuation1(model, 0), formula.valuation2(model, 0)"
   ]
  },
  {
   "cell_type": "markdown",
   "metadata": {},
   "source": [
    "$v(\\square \\square p, 0)$"
   ]
  },
  {
   "cell_type": "code",
   "execution_count": 12,
   "metadata": {},
   "outputs": [
    {
     "data": {
      "text/plain": [
       "(0.3, 0.2)"
      ]
     },
     "execution_count": 12,
     "metadata": {},
     "output_type": "execute_result"
    }
   ],
   "source": [
    "formula = Box(Box(Variable(\"p\")))\n",
    "formula.valuation1(model, 0), formula.valuation2(model, 0)"
   ]
  },
  {
   "cell_type": "markdown",
   "metadata": {},
   "source": [
    "$v(\\square \\lozenge p, 0)$"
   ]
  },
  {
   "cell_type": "code",
   "execution_count": 14,
   "metadata": {},
   "outputs": [
    {
     "data": {
      "text/plain": [
       "(0, 0.9)"
      ]
     },
     "execution_count": 14,
     "metadata": {},
     "output_type": "execute_result"
    }
   ],
   "source": [
    "formula = Box(Diamond(Variable(\"p\")))\n",
    "formula.valuation1(model, 0), formula.valuation2(model, 0)"
   ]
  },
  {
   "cell_type": "markdown",
   "metadata": {},
   "source": [
    "$v(\\lozenge \\square p, 0)$"
   ]
  },
  {
   "cell_type": "code",
   "execution_count": 15,
   "metadata": {},
   "outputs": [
    {
     "data": {
      "text/plain": [
       "(0.9, 0)"
      ]
     },
     "execution_count": 15,
     "metadata": {},
     "output_type": "execute_result"
    }
   ],
   "source": [
    "formula = Diamond(Box(Variable(\"p\")))\n",
    "formula.valuation1(model, 0), formula.valuation2(model, 0)"
   ]
  },
  {
   "cell_type": "markdown",
   "metadata": {},
   "source": [
    "$v(\\lozenge \\lozenge p, 0)$"
   ]
  },
  {
   "cell_type": "code",
   "execution_count": 16,
   "metadata": {},
   "outputs": [
    {
     "data": {
      "text/plain": [
       "(0.9, 0.1)"
      ]
     },
     "execution_count": 16,
     "metadata": {},
     "output_type": "execute_result"
    }
   ],
   "source": [
    "formula = Diamond(Diamond(Variable(\"p\")))\n",
    "formula.valuation1(model, 0), formula.valuation2(model, 0)"
   ]
  }
 ],
 "metadata": {
  "kernelspec": {
   "display_name": "Python 3",
   "language": "python",
   "name": "python3"
  },
  "language_info": {
   "codemirror_mode": {
    "name": "ipython",
    "version": 3
   },
   "file_extension": ".py",
   "mimetype": "text/x-python",
   "name": "python",
   "nbconvert_exporter": "python",
   "pygments_lexer": "ipython3",
   "version": "3.12.4"
  }
 },
 "nbformat": 4,
 "nbformat_minor": 2
}
