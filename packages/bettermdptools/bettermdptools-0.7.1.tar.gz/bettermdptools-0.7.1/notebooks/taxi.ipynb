{
 "cells": [
  {
   "cell_type": "markdown",
   "id": "9bf6937c-30b2-4c15-b584-835f37fd3240",
   "metadata": {},
   "source": [
    "# Taxi"
   ]
  },
  {
   "cell_type": "code",
   "execution_count": null,
   "id": "727088d0-1e83-45a3-a4a5-57af7f34be70",
   "metadata": {
    "scrolled": true
   },
   "outputs": [],
   "source": [
    "!pip install bettermdptools"
   ]
  },
  {
   "cell_type": "code",
   "execution_count": 1,
   "id": "2b1ef3ae-9fc6-4667-93d6-26e97be58db4",
   "metadata": {},
   "outputs": [],
   "source": [
    "import gymnasium as gym\n",
    "from bettermdptools.algorithms.planner import Planner\n",
    "from bettermdptools.utils.plots import Plots\n",
    "from bettermdptools.utils.test_env import TestEnv"
   ]
  },
  {
   "cell_type": "code",
   "execution_count": 2,
   "id": "cd6bf099-b105-4dbf-b593-4cdda565f836",
   "metadata": {},
   "outputs": [
    {
     "name": "stdout",
     "output_type": "stream",
     "text": [
      "runtime = 0.04 seconds\n",
      "[12.  8. 11.  8.  8.  6.  8.  7. 10.  8.]\n"
     ]
    },
    {
     "name": "stdout",
     "output_type": "stream",
     "text": [
      ""
     ]
    }
   ],
   "source": [
    "# make gym environment \n",
    "taxi = gym.make('Taxi-v3', render_mode=None)\n",
    "\n",
    "# run VI\n",
    "V, V_track, pi = Planner(taxi.P).value_iteration()\n",
    "\n",
    "#to view rendered episodes, set render=True (does not work with jupyter nb)\n",
    "episode_rewards = TestEnv.test_env(env=taxi, render=False, user_input=False, pi=pi)\n",
    "\n",
    "\"\"\"\n",
    "-1 per step unless other reward is triggered.\n",
    "\n",
    "+20 delivering passenger.\n",
    "\n",
    "-10 executing “pickup” and “drop-off” actions illegally.\n",
    "\"\"\"\n",
    "print(episode_rewards)"
   ]
  },
  {
   "cell_type": "code",
   "execution_count": null,
   "id": "7ceb7390-6bec-4b37-9988-649a24916df1",
   "metadata": {},
   "outputs": [],
   "source": []
  }
 ],
 "metadata": {
  "kernelspec": {
   "display_name": "bettermdptools",
   "language": "python",
   "name": "bettermdptools"
  },
  "language_info": {
   "codemirror_mode": {
    "name": "ipython",
    "version": 3
   },
   "file_extension": ".py",
   "mimetype": "text/x-python",
   "name": "python",
   "nbconvert_exporter": "python",
   "pygments_lexer": "ipython3",
   "version": "3.11.4"
  }
 },
 "nbformat": 4,
 "nbformat_minor": 5
}
