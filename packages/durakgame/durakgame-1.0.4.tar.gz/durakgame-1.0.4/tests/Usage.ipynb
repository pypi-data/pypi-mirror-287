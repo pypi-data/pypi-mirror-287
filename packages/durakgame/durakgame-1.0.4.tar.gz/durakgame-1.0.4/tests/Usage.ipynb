{
 "cells": [
  {
   "cell_type": "markdown",
   "metadata": {},
   "source": [
    "All you need to do is inherit your class from the `Player` class and \n",
    "implement one function: `nextMove` which receives information about current\n",
    "game state (number of cards in the deck, current table, etc... see `GameState` class)\n",
    "and all available moves in the current position.  \n",
    "You need to just return the index of the move in the options list which you want to make.\n",
    "`options` are guaranteed to be not empty. \n",
    "Also a `Player` class has a `hand` property which you can inspect to know what cards are\n",
    "in your hand.\n",
    "\n",
    "> Do not mutate `hand` or the behavior is undefined\n",
    "\n",
    "\n",
    "The package already has 2 very simple players: `MrFirst` and `MrRandom`"
   ]
  },
  {
   "cell_type": "code",
   "execution_count": 12,
   "metadata": {},
   "outputs": [],
   "source": [
    "import random\n",
    "from durakgame import *\n",
    "\n",
    "class MrLast(Player):\n",
    "    def nextMove(self, state: GameState, options: list[Move]) -> int:\n",
    "        return -1 # it's okay to return negative indices as well\n",
    "\n",
    "class MrMiddle(Player):\n",
    "    def nextMove(self, state: GameState, options: list[Move]) -> int:\n",
    "        return len(options) // 2"
   ]
  },
  {
   "cell_type": "code",
   "execution_count": 14,
   "metadata": {},
   "outputs": [
    {
     "data": {
      "text/plain": [
       "<GameResult.Loss: -1>"
      ]
     },
     "execution_count": 14,
     "metadata": {},
     "output_type": "execute_result"
    }
   ],
   "source": [
    "# you can set the seed to get a stable deals\n",
    "random.seed(1001)\n",
    "\n",
    "p1 = MrLast()\n",
    "p2 = MrFirst()\n",
    "\n",
    "history = play(MrLast(), MrMiddle())\n",
    "history.result # Mr.Middle lost to Mr.Last"
   ]
  },
  {
   "cell_type": "markdown",
   "metadata": {},
   "source": [
    "You can also choose different predefined deck permutations, or supply a your own\n",
    "permutation of 36 cards via a `customDeck` parameter in the `play` function."
   ]
  },
  {
   "cell_type": "code",
   "execution_count": 17,
   "metadata": {},
   "outputs": [
    {
     "name": "stdout",
     "output_type": "stream",
     "text": [
      "[Six(Heart), Eight(Heart), Ten(Heart), Queen(Heart), Ace(Heart), Seven(Cross)]\n",
      "[Seven(Heart), Nine(Heart), Jack(Heart), King(Heart), Six(Cross), Eight(Cross)]\n"
     ]
    }
   ],
   "source": [
    "p1 = MrFirst()\n",
    "p2 = MrLast()\n",
    "history = play(p1, p2, shuffleType=DeckShuffle.sortBySuit)\n",
    "print(history.p1StartHand)\n",
    "print(history.p2StartHand)"
   ]
  },
  {
   "cell_type": "markdown",
   "metadata": {},
   "source": [
    "Apparently using this seed two random players will play forever, or for a very long time...\n",
    "You can limit the number of moves like that:"
   ]
  },
  {
   "cell_type": "code",
   "execution_count": 26,
   "metadata": {},
   "outputs": [
    {
     "data": {
      "text/plain": [
       "<GameResult.Unfinished: -2>"
      ]
     },
     "execution_count": 26,
     "metadata": {},
     "output_type": "execute_result"
    }
   ],
   "source": [
    "random.seed(2575617613037281584)\n",
    "history = play(MrRandom(), MrRandom(), moveLimit=100)\n",
    "history.result"
   ]
  },
  {
   "cell_type": "markdown",
   "metadata": {},
   "source": [
    "### Private class `Game`"
   ]
  },
  {
   "cell_type": "code",
   "execution_count": null,
   "metadata": {},
   "outputs": [],
   "source": [
    "from utils import *\n",
    "# this Game class is private, users should use `play` function instead\n",
    "# here we importing it for private testing\n",
    "from durakgame.game import Game\n",
    "\n",
    "class MrLogger(Player):\n",
    "    def nextMove(self, state: GameState, options: list[Move]) -> int:\n",
    "        print(f\"[{id(self)}]Choosing move for:\\n{state}\\nand for: {options}\\n\")\n",
    "        return 0\n",
    "\n",
    "deck = standardDeck()\n",
    "deck.sort(key=lambda card: (card.value, card.suit))\n",
    "p1 = MrLogger()\n",
    "p2 = MrLogger()\n",
    "g = Game(deck, p1, p2)\n",
    "\n",
    "assert g.trump == Card(nine, heart)\n",
    "\n",
    "p1Hand = [\n",
    "    Card(six, heart), Card(six, spade), \n",
    "    Card(seven, heart), Card(seven, spade),\n",
    "    Card(eight, heart), Card(eight, spade)\n",
    "]\n",
    "p2Hand = [\n",
    "    Card(six, cross), Card(six, diamond), \n",
    "    Card(seven, cross), Card(seven, diamond), \n",
    "    Card(eight, cross), Card(eight, diamond)\n",
    "]\n",
    "assert p1.hand == p1Hand\n",
    "assert p2.hand == p2Hand\n",
    "\n",
    "assert g.turn == g.move == Switch.First\n",
    "\n",
    "print(g.kickoff())"
   ]
  }
 ],
 "metadata": {
  "kernelspec": {
   "display_name": "habitat",
   "language": "python",
   "name": "python3"
  },
  "language_info": {
   "codemirror_mode": {
    "name": "ipython",
    "version": 3
   },
   "file_extension": ".py",
   "mimetype": "text/x-python",
   "name": "python",
   "nbconvert_exporter": "python",
   "pygments_lexer": "ipython3",
   "version": "3.10.13"
  }
 },
 "nbformat": 4,
 "nbformat_minor": 2
}
