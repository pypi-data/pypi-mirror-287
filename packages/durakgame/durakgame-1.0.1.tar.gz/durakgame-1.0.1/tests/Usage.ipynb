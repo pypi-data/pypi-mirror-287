{
 "cells": [
  {
   "cell_type": "code",
   "execution_count": 10,
   "metadata": {},
   "outputs": [
    {
     "name": "stdout",
     "output_type": "stream",
     "text": [
      "Called\n",
      "[4]\n",
      "[4]\n",
      "[4]\n"
     ]
    },
    {
     "data": {
      "text/plain": [
       "4"
      ]
     },
     "execution_count": 10,
     "metadata": {},
     "output_type": "execute_result"
    }
   ],
   "source": [
    "import dataclasses as dc\n",
    "import functools\n",
    "\n",
    "@dc.dataclass\n",
    "class Some:\n",
    "    a: int = 12\n",
    "    b: list = dc.field(default_factory=list)\n",
    "    c: int = a - 8\n",
    "    \n",
    "    @functools.cached_property\n",
    "    def some(self):\n",
    "        print(\"Called\")\n",
    "        return self.b + [self.a]\n",
    "\n",
    "s = Some()\n",
    "s.a = 4\n",
    "print(s.some)\n",
    "print(s.some)\n",
    "\n",
    "s.b.append(8)\n",
    "s.a = 9\n",
    "print(s.some)\n",
    "s.c"
   ]
  },
  {
   "cell_type": "code",
   "execution_count": 7,
   "metadata": {},
   "outputs": [
    {
     "name": "stdout",
     "output_type": "stream",
     "text": [
      "CardValue.Six\n",
      "CardValue.Seven\n",
      "CardValue.Eight\n",
      "CardValue.Nine\n",
      "CardValue.Ten\n",
      "CardValue.Jack\n",
      "CardValue.Queen\n",
      "CardValue.King\n",
      "CardValue.Ace\n"
     ]
    },
    {
     "data": {
      "text/plain": [
       "[1, 2]"
      ]
     },
     "execution_count": 7,
     "metadata": {},
     "output_type": "execute_result"
    }
   ],
   "source": [
    "from primitives import *\n",
    "a = list(CardValue)\n",
    "for a in CardValue:\n",
    "    print(a)\n",
    "\n",
    "# CardValue.Six > CardValue.Nine\n",
    "# Card(CardValue.Six, Suit.Spade) < Card(CardValue.Six, Suit.Diamond)\n",
    "\n",
    "[1, 2][0:]"
   ]
  }
 ],
 "metadata": {
  "kernelspec": {
   "display_name": "habitat",
   "language": "python",
   "name": "python3"
  },
  "language_info": {
   "codemirror_mode": {
    "name": "ipython",
    "version": 3
   },
   "file_extension": ".py",
   "mimetype": "text/x-python",
   "name": "python",
   "nbconvert_exporter": "python",
   "pygments_lexer": "ipython3",
   "version": "3.10.13"
  }
 },
 "nbformat": 4,
 "nbformat_minor": 2
}
