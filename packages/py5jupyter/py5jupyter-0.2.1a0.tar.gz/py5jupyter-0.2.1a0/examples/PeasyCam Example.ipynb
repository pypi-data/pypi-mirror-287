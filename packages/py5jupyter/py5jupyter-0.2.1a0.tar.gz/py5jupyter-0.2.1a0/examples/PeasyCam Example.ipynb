{
 "cells": [
  {
   "cell_type": "code",
   "execution_count": 1,
   "id": "848b68bc",
   "metadata": {},
   "outputs": [],
   "source": [
    "import py5_tools\n",
    "import py5\n",
    "\n",
    "from peasy import PeasyCam"
   ]
  },
  {
   "cell_type": "code",
   "execution_count": 2,
   "id": "e20af321",
   "metadata": {},
   "outputs": [],
   "source": [
    "cam = None\n",
    "\n",
    "def setup():\n",
    "    global cam\n",
    "    py5.size(500, 500, py5.P3D)\n",
    "    cam = PeasyCam(py5.get_current_sketch(), 400)\n",
    "    py5.fill(128)\n",
    "\n",
    "def draw():\n",
    "    py5.rotate_x(-0.5)\n",
    "    py5.rotate_y(-0.5)\n",
    "    py5.lights()\n",
    "    py5.background(0)\n",
    "    py5.box(300)\n",
    "\n",
    "\n",
    "def key_pressed():\n",
    "    py5.fill(py5.random_int(255), py5.random_int(255), py5.random_int(255))"
   ]
  },
  {
   "cell_type": "code",
   "execution_count": 3,
   "id": "69300f46",
   "metadata": {},
   "outputs": [],
   "source": [
    "py5.run_sketch()"
   ]
  },
  {
   "cell_type": "code",
   "execution_count": 4,
   "id": "fbd6d8db",
   "metadata": {},
   "outputs": [
    {
     "data": {
      "application/vnd.jupyter.widget-view+json": {
       "model_id": "8184259a49e74a6dbc7700bd249d2518",
       "version_major": 2,
       "version_minor": 0
      },
      "text/plain": [
       "Output(layout=Layout(max_height='200px', overflow='auto'))"
      ]
     },
     "metadata": {},
     "output_type": "display_data"
    },
    {
     "data": {
      "application/vnd.jupyter.widget-view+json": {
       "model_id": "8e5449f236fa4795a7a2b80b86878246",
       "version_major": 2,
       "version_minor": 0
      },
      "text/plain": [
       "VBox(children=(Py5SketchPortal(height='500', layout=Layout(border='1px solid gray', height='502px', width='502…"
      ]
     },
     "metadata": {},
     "output_type": "display_data"
    }
   ],
   "source": [
    "py5_tools.sketch_portal()"
   ]
  },
  {
   "cell_type": "code",
   "execution_count": null,
   "id": "1e37f92d",
   "metadata": {},
   "outputs": [],
   "source": []
  }
 ],
 "metadata": {
  "kernelspec": {
   "display_name": "Python 3 (ipykernel)",
   "language": "python",
   "name": "python3"
  },
  "language_info": {
   "codemirror_mode": {
    "name": "ipython",
    "version": 3
   },
   "file_extension": ".py",
   "mimetype": "text/x-python",
   "name": "python",
   "nbconvert_exporter": "python",
   "pygments_lexer": "ipython3",
   "version": "3.8.13"
  }
 },
 "nbformat": 4,
 "nbformat_minor": 5
}
