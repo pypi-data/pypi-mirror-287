{
 "cells": [
  {
   "cell_type": "code",
   "execution_count": null,
   "id": "bf308ae2",
   "metadata": {},
   "outputs": [],
   "source": [
    "import py5_tools\n",
    "\n",
    "import py5"
   ]
  },
  {
   "cell_type": "code",
   "execution_count": null,
   "id": "23af9f7f",
   "metadata": {
    "scrolled": false
   },
   "outputs": [],
   "source": [
    "def setup():\n",
    "    py5.size(500, 500)\n",
    "    py5.background(255)\n",
    "\n",
    "def draw():\n",
    "    py5.fill(255)\n",
    "    py5.rect(py5.mouse_x, py5.mouse_y, 10, 10)\n",
    "\n",
    "def key_pressed(e: py5.Py5KeyEvent):\n",
    "    if (key := e.get_key()) == py5.CODED:\n",
    "        py5.println('key pressed, key code =', e.get_key_code(), e.get_modifiers())\n",
    "    else:\n",
    "        py5.println('key pressed', key, e.get_modifiers())\n",
    "    \n",
    "def key_typed(e: py5.Py5KeyEvent):\n",
    "    py5.println('key typed', e.get_key(), e.get_modifiers())\n",
    "    \n",
    "def key_released(e: py5.Py5KeyEvent):\n",
    "    py5.println('key released', e.get_key(), e.get_modifiers())\n",
    "\n",
    "def mouse_clicked(e: py5.Py5MouseEvent):\n",
    "    py5.println('clicked', e.get_millis(), e.get_button(), e.get_modifiers(), e.get_count())\n",
    "\n",
    "def mouse_entered(e: py5.Py5MouseEvent):\n",
    "    py5.background(255)\n",
    "    py5.println('entered', e.get_millis(), e.get_button(), e.get_modifiers(), e.get_count())\n",
    "\n",
    "def mouse_wheel(e: py5.Py5MouseEvent):\n",
    "    py5.println('wheel', e.get_millis(), e.get_button(), e.get_modifiers(), e.get_count())\n",
    "\n",
    "# def mouse_moved(e):\n",
    "#     py5.println('moved', e.get_millis(), e.get_button(), e.get_modifiers(), e.get_count())\n",
    "\n",
    "# def mouse_dragged(e):\n",
    "#     py5.println('dragged', e.get_millis(), e.get_button(), e.get_modifiers(), e.get_count())\n",
    "\n",
    "def mouse_pressed(e):\n",
    "    py5.fill(0, 255, 0)\n",
    "    py5.circle(py5.mouse_x, py5.mouse_y, 20)\n",
    "    py5.println('pressed', e.get_millis(), e.get_button(), e.get_modifiers(), e.get_count())\n",
    "\n",
    "def mouse_released(e):\n",
    "    py5.fill(255, 0, 0)\n",
    "    py5.circle(py5.mouse_x, py5.mouse_y, 20)\n",
    "    py5.println('released', e.get_millis(), e.get_button(), e.get_modifiers(), e.get_count())\n",
    "\n",
    "def mouse_exited(e):\n",
    "    py5.background(255, 0, 0)\n",
    "    py5.println('exited', e.get_millis(), e.get_button(), e.get_modifiers(), e.get_count())\n",
    "\n",
    "\n",
    "py5.run_sketch()"
   ]
  },
  {
   "cell_type": "code",
   "execution_count": null,
   "id": "c7203f14",
   "metadata": {},
   "outputs": [],
   "source": [
    "py5_tools.sketch_portal()"
   ]
  },
  {
   "cell_type": "code",
   "execution_count": null,
   "id": "45655417",
   "metadata": {},
   "outputs": [],
   "source": []
  },
  {
   "cell_type": "code",
   "execution_count": null,
   "id": "eeeebcea",
   "metadata": {},
   "outputs": [],
   "source": []
  }
 ],
 "metadata": {
  "kernelspec": {
   "display_name": "Python 3 (ipykernel)",
   "language": "python",
   "name": "python3"
  },
  "language_info": {
   "codemirror_mode": {
    "name": "ipython",
    "version": 3
   },
   "file_extension": ".py",
   "mimetype": "text/x-python",
   "name": "python",
   "nbconvert_exporter": "python",
   "pygments_lexer": "ipython3",
   "version": "3.8.13"
  }
 },
 "nbformat": 4,
 "nbformat_minor": 5
}
