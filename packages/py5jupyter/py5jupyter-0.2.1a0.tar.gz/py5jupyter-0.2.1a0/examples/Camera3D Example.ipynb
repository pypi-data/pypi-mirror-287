{
 "cells": [
  {
   "cell_type": "code",
   "execution_count": null,
   "id": "206aa45c",
   "metadata": {},
   "outputs": [],
   "source": [
    "import py5_tools\n",
    "import py5\n",
    "\n",
    "from camera3D import Camera3D"
   ]
  },
  {
   "cell_type": "code",
   "execution_count": null,
   "id": "3170777f",
   "metadata": {},
   "outputs": [],
   "source": [
    "rot_x = 0\n",
    "rot_y = 0\n",
    "rot_z = 0"
   ]
  },
  {
   "cell_type": "code",
   "execution_count": null,
   "id": "b6c6c48b",
   "metadata": {},
   "outputs": [],
   "source": [
    "def setup():\n",
    "    py5.size(400, 400, py5.P3D)\n",
    "    py5.frame_rate(30)\n",
    "    py5.stroke_weight(8)\n",
    "    py5.stroke(0)\n",
    "    py5.no_fill()\n",
    "\n",
    "    camera3D = Camera3D(py5.get_current_sketch())\n",
    "    camera3D.setBackgroundColor(py5.color(192))\n",
    "    camera3D.renderDefaultAnaglyph().setDivergence(1)"
   ]
  },
  {
   "cell_type": "code",
   "execution_count": null,
   "id": "fa4b9341",
   "metadata": {},
   "outputs": [],
   "source": [
    "def pre_draw():\n",
    "    global rot_x\n",
    "    rot_x += 0.8\n",
    "    global rot_y\n",
    "    rot_y += 0.3\n",
    "    global rot_z\n",
    "    rot_z += 0.5"
   ]
  },
  {
   "cell_type": "code",
   "execution_count": null,
   "id": "69d292ae",
   "metadata": {},
   "outputs": [],
   "source": [
    "def draw():\n",
    "    py5.translate(py5.width / 2, py5.height / 2, -200)\n",
    "    py5.rotate_x(py5.radians(rot_x))\n",
    "    py5.rotate_y(py5.radians(rot_y))\n",
    "    py5.rotate_z(py5.radians(rot_z))\n",
    "\n",
    "    py5.box(250)"
   ]
  },
  {
   "cell_type": "code",
   "execution_count": null,
   "id": "ea2fc5ae",
   "metadata": {},
   "outputs": [],
   "source": [
    "def post_draw():\n",
    "    pass"
   ]
  },
  {
   "cell_type": "code",
   "execution_count": null,
   "id": "d91ff291",
   "metadata": {},
   "outputs": [],
   "source": [
    "py5.run_sketch()"
   ]
  },
  {
   "cell_type": "code",
   "execution_count": null,
   "id": "83c2e817",
   "metadata": {},
   "outputs": [],
   "source": [
    "py5_tools.sketch_portal(hook_post_draw=True)"
   ]
  },
  {
   "cell_type": "code",
   "execution_count": null,
   "id": "925354d9",
   "metadata": {},
   "outputs": [],
   "source": []
  }
 ],
 "metadata": {
  "kernelspec": {
   "display_name": "Python 3 (ipykernel)",
   "language": "python",
   "name": "python3"
  },
  "language_info": {
   "codemirror_mode": {
    "name": "ipython",
    "version": 3
   },
   "file_extension": ".py",
   "mimetype": "text/x-python",
   "name": "python",
   "nbconvert_exporter": "python",
   "pygments_lexer": "ipython3",
   "version": "3.8.13"
  }
 },
 "nbformat": 4,
 "nbformat_minor": 5
}
