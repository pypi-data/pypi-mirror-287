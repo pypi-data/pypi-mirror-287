{
 "cells": [
  {
   "cell_type": "code",
   "execution_count": 7,
   "metadata": {},
   "outputs": [],
   "source": [
    "from modulos_client import Modulos\n",
    "\n",
    "client = Modulos(base_url='https://dev.modulos.ai/api')"
   ]
  },
  {
   "cell_type": "code",
   "execution_count": 8,
   "metadata": {},
   "outputs": [
    {
     "name": "stdout",
     "output_type": "stream",
     "text": [
      "[TestingMetric(name='Presidio + Azure OpenAI - US Driver License', type='float', description='A US driver license according to https://ntsi.com/drivers-license-format/', id=UUID('2bdd4c88-c894-450a-b03f-30409aa1bd01'), project_id=UUID('6a4b948c-4959-49aa-90e0-1e47c2860a40'), created_by_id=UUID('de76cbe6-680f-4cf7-b8b7-f078cd231e1d')), TestingMetric(name='Presidio + Azure OpenAI - CREDIT_CARD', type='float', description='A credit card number is between 12 to 19 digits. https://en.wikipedia.org/wiki/Payment_card_number', id=UUID('13c7163b-a6cf-4289-a04d-fa1791f0c3f8'), project_id=UUID('6a4b948c-4959-49aa-90e0-1e47c2860a40'), created_by_id=UUID('de76cbe6-680f-4cf7-b8b7-f078cd231e1d'))]\n"
     ]
    }
   ],
   "source": [
    "project_id = '6a4b948c-4959-49aa-90e0-1e47c2860a40'\n",
    "\n",
    "metrics = client.testing.logs.get_metrics(project_id)\n",
    "\n",
    "print(metrics)\n"
   ]
  },
  {
   "cell_type": "code",
   "execution_count": 9,
   "metadata": {},
   "outputs": [
    {
     "name": "stdout",
     "output_type": "stream",
     "text": [
      "Upload successful\n"
     ]
    }
   ],
   "source": [
    "from modulos_client import Modulos\n",
    "import os\n",
    "\n",
    "client = Modulos(\n",
    "    # This is the default and can be omitted\n",
    "    api_key=os.environ.get(\"MODULOS_API_KEY\"),\n",
    ")\n",
    "# If file_name is an empty string, the file name will be the original one in\n",
    "# path_to_file.\n",
    "client.evidence.upload.artifact_file(\n",
    "    path_to_file=\"test.txt\",\n",
    "    project_id=\"6a4b948c-4959-49aa-90e0-1e47c2860a40\",\n",
    "    component_id=\"a681603a-61ec-4319-85c9-a74806e6cdef\",\n",
    "    file_name=\"\",\n",
    "    description=\"\",\n",
    ")"
   ]
  },
  {
   "cell_type": "code",
   "execution_count": null,
   "metadata": {},
   "outputs": [],
   "source": []
  }
 ],
 "metadata": {
  "kernelspec": {
   "display_name": ".venv",
   "language": "python",
   "name": "python3"
  },
  "language_info": {
   "codemirror_mode": {
    "name": "ipython",
    "version": 3
   },
   "file_extension": ".py",
   "mimetype": "text/x-python",
   "name": "python",
   "nbconvert_exporter": "python",
   "pygments_lexer": "ipython3",
   "version": "3.10.14"
  }
 },
 "nbformat": 4,
 "nbformat_minor": 2
}
