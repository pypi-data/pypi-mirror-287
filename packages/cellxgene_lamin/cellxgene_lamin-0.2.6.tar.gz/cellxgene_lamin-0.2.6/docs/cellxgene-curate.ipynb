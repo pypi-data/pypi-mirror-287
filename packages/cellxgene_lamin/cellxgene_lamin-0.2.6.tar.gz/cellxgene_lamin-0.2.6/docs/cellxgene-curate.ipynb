{
 "cells": [
  {
   "cell_type": "markdown",
   "id": "1d2cd769",
   "metadata": {},
   "source": [
    "# Curate `AnnData` based on the CELLxGENE schema\n",
    "\n",
    "This guide shows how to curate an AnnData object with the help of [`laminlabs/cellxgene`](https://lamin.ai/laminlabs/cellxgene) and the [CELLxGENE schema v5.1.0](https://github.com/chanzuckerberg/single-cell-curation/blob/main/schema/5.1.0/schema.md)."
   ]
  },
  {
   "cell_type": "markdown",
   "id": "cbe9ae41",
   "metadata": {},
   "source": [
    "Load your instance to register the curated AnnData:"
   ]
  },
  {
   "cell_type": "code",
   "execution_count": null,
   "id": "74008c61",
   "metadata": {
    "tags": [
     "hide-output"
    ]
   },
   "outputs": [],
   "source": [
    "# !pip install 'lamindb[bionty,jupyter]' cellxgene-lamin cellxgene-schema\n",
    "!lamin init --storage ./test-cellxgene-curate --schema bionty"
   ]
  },
  {
   "cell_type": "code",
   "execution_count": null,
   "id": "a691aae0",
   "metadata": {},
   "outputs": [],
   "source": [
    "import lamindb as ln\n",
    "import cellxgene_lamin as cxg"
   ]
  },
  {
   "cell_type": "markdown",
   "id": "52bbbac2",
   "metadata": {},
   "source": [
    "Let's start with an AnnData object that we'd like to inspect and curate:"
   ]
  },
  {
   "cell_type": "code",
   "execution_count": null,
   "id": "9cec7bf7",
   "metadata": {
    "tags": [
     "hide-output"
    ]
   },
   "outputs": [],
   "source": [
    "adata = cxg.datasets.anndata_human_immune_cells(populate_registries=True)\n",
    "adata.write_h5ad(\"anndata_human_immune_cells.h5ad\")\n",
    "adata"
   ]
  },
  {
   "cell_type": "code",
   "execution_count": null,
   "id": "de5788f8",
   "metadata": {
    "tags": [
     "hide-output"
    ]
   },
   "outputs": [],
   "source": [
    "!cellxgene-schema validate anndata_human_immune_cells.h5ad"
   ]
  },
  {
   "cell_type": "markdown",
   "id": "946a3371",
   "metadata": {},
   "source": [
    "## Validate and curate metadata"
   ]
  },
  {
   "cell_type": "markdown",
   "id": "acdb45d8",
   "metadata": {},
   "source": [
    "Validate the AnnData object:"
   ]
  },
  {
   "cell_type": "code",
   "execution_count": null,
   "id": "9ee9cd17",
   "metadata": {
    "tags": [
     "hide-output"
    ]
   },
   "outputs": [],
   "source": [
    "try:\n",
    "    curate = cxg.Curate(adata)\n",
    "except Exception as e:\n",
    "    print(e)"
   ]
  },
  {
   "cell_type": "markdown",
   "id": "a257d96f",
   "metadata": {},
   "source": [
    "Let's fix the \"donor_id\" column name:"
   ]
  },
  {
   "cell_type": "code",
   "execution_count": null,
   "id": "5ceae892",
   "metadata": {},
   "outputs": [],
   "source": [
    "adata.obs.rename(columns={\"donor\": \"donor_id\"}, inplace=True)"
   ]
  },
  {
   "cell_type": "markdown",
   "id": "5119f1a5",
   "metadata": {},
   "source": [
    "For the missing columns, we can pass default values suggested from CELLxGENE:"
   ]
  },
  {
   "cell_type": "code",
   "execution_count": null,
   "id": "dc154b39",
   "metadata": {
    "tags": [
     "hide-output"
    ]
   },
   "outputs": [],
   "source": [
    "cxg.CellxGeneFields.OBS_FIELD_DEFAULTS"
   ]
  },
  {
   "cell_type": "code",
   "execution_count": null,
   "id": "15137652",
   "metadata": {
    "tags": [
     "hide-output"
    ]
   },
   "outputs": [],
   "source": [
    "curate = cxg.Curate(adata, defaults=cxg.CellxGeneFields.OBS_FIELD_DEFAULTS, organism=\"human\")"
   ]
  },
  {
   "cell_type": "code",
   "execution_count": null,
   "id": "884daca8",
   "metadata": {
    "tags": [
     "hide-output"
    ]
   },
   "outputs": [],
   "source": [
    "curate.categoricals"
   ]
  },
  {
   "cell_type": "code",
   "execution_count": null,
   "id": "24e00633",
   "metadata": {
    "tags": [
     "hide-output"
    ]
   },
   "outputs": [],
   "source": [
    "validated = curate.validate(organism=\"human\")\n",
    "validated"
   ]
  },
  {
   "cell_type": "markdown",
   "id": "7c157df6",
   "metadata": {},
   "source": [
    "## Register new metadata labels\n",
    "\n",
    "Following the suggestions above to register genes and labels that aren't present in the current instance:\n",
    "\n",
    "(Note that our instance is rather empty. Once you filled up the registries, registering new labels won't be frequently needed)"
   ]
  },
  {
   "cell_type": "code",
   "execution_count": null,
   "id": "d214b7e5",
   "metadata": {
    "tags": [
     "hide-output"
    ]
   },
   "outputs": [],
   "source": [
    "curate.add_validated_from(\"all\")"
   ]
  },
  {
   "cell_type": "markdown",
   "id": "9d30cf05",
   "metadata": {},
   "source": [
    "For donors, we register the new labels:"
   ]
  },
  {
   "cell_type": "code",
   "execution_count": null,
   "id": "5c1453b0",
   "metadata": {
    "tags": [
     "hide-output"
    ]
   },
   "outputs": [],
   "source": [
    "curate.add_new_from(\"donor_id\")"
   ]
  },
  {
   "cell_type": "markdown",
   "id": "0861e207",
   "metadata": {},
   "source": [
    "An error is shown for the tissue label \"lungg\", which is a typo, should be \"lung\". Let's fix it:"
   ]
  },
  {
   "cell_type": "code",
   "execution_count": null,
   "id": "ba61e42a",
   "metadata": {
    "tags": [
     "hide-output"
    ]
   },
   "outputs": [],
   "source": [
    "tissues = curate.lookup().tissue\n",
    "# using a lookup object to find the correct term\n",
    "tissues.lung"
   ]
  },
  {
   "cell_type": "code",
   "execution_count": null,
   "id": "daeb0568",
   "metadata": {
    "tags": [
     "hide-output"
    ]
   },
   "outputs": [],
   "source": [
    "adata.obs[\"tissue\"] = adata.obs[\"tissue\"].cat.rename_categories(\n",
    "    {\"lungg\": tissues.lung.name}\n",
    ")\n",
    "curate.add_validated_from(\"tissue\")"
   ]
  },
  {
   "cell_type": "markdown",
   "id": "1f3cd3a9",
   "metadata": {},
   "source": [
    "Let's validate the object again:"
   ]
  },
  {
   "cell_type": "code",
   "execution_count": null,
   "id": "1a90599b",
   "metadata": {
    "tags": [
     "hide-output"
    ]
   },
   "outputs": [],
   "source": [
    "validated = curate.validate()\n",
    "validated"
   ]
  },
  {
   "cell_type": "code",
   "execution_count": null,
   "id": "7200420f",
   "metadata": {
    "tags": [
     "hide-output"
    ]
   },
   "outputs": [],
   "source": [
    "adata.obs.head()"
   ]
  },
  {
   "cell_type": "markdown",
   "id": "38a30170",
   "metadata": {},
   "source": [
    "## Save artifact"
   ]
  },
  {
   "cell_type": "code",
   "execution_count": null,
   "id": "7a43d9b8",
   "metadata": {
    "tags": [
     "hide-output"
    ]
   },
   "outputs": [],
   "source": [
    "artifact = curate.save_artifact(description=\"test h5ad file\")"
   ]
  },
  {
   "cell_type": "code",
   "execution_count": null,
   "id": "f12ec345",
   "metadata": {
    "tags": [
     "hide-output"
    ]
   },
   "outputs": [],
   "source": [
    "artifact.describe()"
   ]
  },
  {
   "cell_type": "markdown",
   "id": "3cf67f90",
   "metadata": {},
   "source": [
    "The below is optional -- it mimics the way cellxgene creates collections of `AnnData` objects to link them to studies."
   ]
  },
  {
   "cell_type": "code",
   "execution_count": null,
   "id": "8940e83c",
   "metadata": {
    "tags": [
     "hide-output"
    ]
   },
   "outputs": [],
   "source": [
    "# register a new collection\n",
    "collection = curate.save_collection(\n",
    "    [artifact],  # registered artifact above, can also pass a list of artifacts\n",
    "    name=(  # title of the publication\n",
    "        \"Cross-tissue immune cell analysis reveals tissue-specific features in humans\"\n",
    "        \" (for test demo only)\"\n",
    "    ),\n",
    "    description=\"10.1126/science.abl5197\",  # DOI of the publication\n",
    "    reference=\"E-MTAB-11536\",  # accession number (e.g. GSE#, E-MTAB#, etc.)\n",
    "    reference_type=\"ArrayExpress\",  # source type (e.g. GEO, ArrayExpress, SRA, etc.)\n",
    ")"
   ]
  },
  {
   "cell_type": "markdown",
   "id": "9eea92a2",
   "metadata": {},
   "source": [
    "## Return an input h5ad file for cellxgene-schema"
   ]
  },
  {
   "cell_type": "code",
   "execution_count": null,
   "id": "bced90a1",
   "metadata": {
    "tags": [
     "hide-output"
    ]
   },
   "outputs": [],
   "source": [
    "adata_cxg = curate.to_cellxgene(is_primary_data=True)\n",
    "adata_cxg"
   ]
  },
  {
   "cell_type": "code",
   "execution_count": null,
   "id": "85d32f4c",
   "metadata": {},
   "outputs": [],
   "source": [
    "adata_cxg.write_h5ad(\"anndata_human_immune_cells_cxg.h5ad\")"
   ]
  },
  {
   "cell_type": "code",
   "execution_count": null,
   "id": "c0b222ca",
   "metadata": {
    "tags": [
     "hide-output"
    ]
   },
   "outputs": [],
   "source": [
    "!cellxgene-schema validate anndata_human_immune_cells_cxg.h5ad"
   ]
  },
  {
   "cell_type": "markdown",
   "id": "a91245ad",
   "metadata": {},
   "source": [
    "```{note}\n",
    "\n",
    "The Curate class is designed to validate all metadata for adherence to ontologies.\n",
    "It does not reimplement all rules of the cellxgene schema and we therefore recommend running the [cellxgene-schema](https://github.com/chanzuckerberg/single-cell-curation) if full adherence beyond metadata is a necessity.\n",
    "```"
   ]
  }
 ],
 "metadata": {
  "kernelspec": {
   "display_name": "Python 3 (ipykernel)",
   "language": "python",
   "name": "python3"
  },
  "language_info": {
   "codemirror_mode": {
    "name": "ipython",
    "version": 3
   },
   "file_extension": ".py",
   "mimetype": "text/x-python",
   "name": "python",
   "nbconvert_exporter": "python",
   "pygments_lexer": "ipython3",
   "version": "3.10.13"
  },
  "nbproject": {
   "id": "WOK3vP0bNGLx",
   "parent": null,
   "pypackage": null,
   "time_init": "2023-12-20T04:27:49.536493+00:00",
   "user_handle": null,
   "user_id": null,
   "user_name": null,
   "version": "0"
  }
 },
 "nbformat": 4,
 "nbformat_minor": 5
}
