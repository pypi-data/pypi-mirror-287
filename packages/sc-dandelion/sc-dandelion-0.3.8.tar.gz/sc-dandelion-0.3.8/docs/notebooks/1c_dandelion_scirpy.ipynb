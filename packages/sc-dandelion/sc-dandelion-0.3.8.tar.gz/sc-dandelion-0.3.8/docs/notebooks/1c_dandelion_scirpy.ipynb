{
 "cells": [
  {
   "cell_type": "markdown",
   "metadata": {},
   "source": [
    "# Interoperability with `scirpy`\n",
    "\n",
    "It is now possible to convert the file formats between `dandelion>=0.1.1` and `scirpy>=0.6.2` [[Sturm2020]](https://academic.oup.com/bioinformatics/article/36/18/4817/5866543) to enhance the collaboration between the analysis toolkits.\n",
    "\n",
    "We will download the *airr_rearrangement.tsv* file from here:\n",
    "```bash\n",
    "# bash\n",
    "wget https://cf.10xgenomics.com/samples/cell-vdj/4.0.0/sc5p_v2_hs_PBMC_10k/sc5p_v2_hs_PBMC_10k_b_airr_rearrangement.tsv\n",
    "```\n",
    "\n",
    "Gene expression data can also be obtained here\n",
    "\n",
    "```bash\n",
    "# bash \n",
    "wget https://cf.10xgenomics.com/samples/cell-vdj/4.0.0/sc5p_v2_hs_PBMC_10k/sc5p_v2_hs_PBMC_10k_filtered_feature_bc_matrix.h5\n",
    "```\n"
   ]
  },
  {
   "cell_type": "markdown",
   "metadata": {},
   "source": [
    "<b>Import dandelion module</b>"
   ]
  },
  {
   "cell_type": "code",
   "execution_count": 1,
   "metadata": {
    "scrolled": true
   },
   "outputs": [
    {
     "name": "stdout",
     "output_type": "stream",
     "text": [
      "dandelion==0.3.4.dev74 pandas==2.0.1 numpy==1.24.3 matplotlib==3.7.1 networkx==3.1 scipy==1.11.2\n"
     ]
    }
   ],
   "source": [
    "# import sys\n",
    "# sys.path.append(\"C://Users//Amos Choo//Desktop//dandelion\")\n",
    "import os\n",
    "\n",
    "import dandelion as ddl\n",
    "\n",
    "\n",
    "# change directory to somewhere more workable\n",
    "\n",
    "# os.chdir(os.path.expanduser(\"~/Downloads/dandelion_tutorial/\"))\n",
    "\n",
    "ddl.logging.print_versions()"
   ]
  },
  {
   "cell_type": "code",
   "execution_count": 2,
   "metadata": {},
   "outputs": [
    {
     "data": {
      "text/plain": [
       "'0.14.0'"
      ]
     },
     "execution_count": 2,
     "metadata": {},
     "output_type": "execute_result"
    }
   ],
   "source": [
    "import scirpy as ir\n",
    "import scanpy as sc\n",
    "\n",
    "\n",
    "ir.__version__"
   ]
  },
  {
   "cell_type": "markdown",
   "metadata": {},
   "source": [
    "## `dandelion`"
   ]
  },
  {
   "cell_type": "code",
   "execution_count": 3,
   "metadata": {
    "scrolled": true
   },
   "outputs": [
    {
     "name": "stderr",
     "output_type": "stream",
     "text": [
      "/opt/homebrew/Caskroom/mambaforge/base/envs/dandelion/lib/python3.11/site-packages/anndata/_core/anndata.py:1832: UserWarning: Variable names are not unique. To make them unique, call `.var_names_make_unique`.\n"
     ]
    },
    {
     "data": {
      "text/plain": [
       "Dandelion class object with n_obs = 994 and n_contigs = 2093\n",
       "    data: 'cell_id', 'sequence_id', 'sequence', 'sequence_aa', 'productive', 'rev_comp', 'v_call', 'v_cigar', 'd_call', 'd_cigar', 'j_call', 'j_cigar', 'c_call', 'c_cigar', 'sequence_alignment', 'germline_alignment', 'junction', 'junction_aa', 'junction_length', 'junction_aa_length', 'v_sequence_start', 'v_sequence_end', 'd_sequence_start', 'd_sequence_end', 'j_sequence_start', 'j_sequence_end', 'c_sequence_start', 'c_sequence_end', 'consensus_count', 'duplicate_count', 'is_cell', 'locus', 'rearrangement_status'\n",
       "    metadata: 'locus_VDJ', 'locus_VJ', 'productive_VDJ', 'productive_VJ', 'v_call_VDJ', 'd_call_VDJ', 'j_call_VDJ', 'v_call_VJ', 'j_call_VJ', 'c_call_VDJ', 'c_call_VJ', 'junction_VDJ', 'junction_VJ', 'junction_aa_VDJ', 'junction_aa_VJ', 'v_call_B_VDJ', 'd_call_B_VDJ', 'j_call_B_VDJ', 'v_call_B_VJ', 'j_call_B_VJ', 'c_call_B_VDJ', 'c_call_B_VJ', 'productive_B_VDJ', 'productive_B_VJ', 'duplicate_count_B_VDJ', 'duplicate_count_B_VJ', 'v_call_VDJ_main', 'v_call_VJ_main', 'd_call_VDJ_main', 'j_call_VDJ_main', 'j_call_VJ_main', 'c_call_VDJ_main', 'c_call_VJ_main', 'v_call_B_VDJ_main', 'd_call_B_VDJ_main', 'j_call_B_VDJ_main', 'v_call_B_VJ_main', 'j_call_B_VJ_main', 'isotype', 'isotype_status', 'locus_status', 'chain_status', 'rearrangement_status_VDJ', 'rearrangement_status_VJ'"
      ]
     },
     "execution_count": 3,
     "metadata": {},
     "output_type": "execute_result"
    }
   ],
   "source": [
    "# read in the airr_rearrangement.tsv file\n",
    "file_location = \"sc5p_v2_hs_PBMC_10k_b_airr_rearrangement.tsv\"\n",
    "\n",
    "# read in gene expression data\n",
    "adata = sc.read_10x_h5(\"sc5p_v2_hs_PBMC_10k_filtered_feature_bc_matrix.h5\")\n",
    "adata.var_names_make_unique()\n",
    "\n",
    "vdj = ddl.read_10x_airr(file_location)\n",
    "vdj"
   ]
  },
  {
   "cell_type": "markdown",
   "metadata": {},
   "source": [
    "The test file contains a blank `clone_id` column so we run `find_clones` to populate it first."
   ]
  },
  {
   "cell_type": "code",
   "execution_count": 4,
   "metadata": {},
   "outputs": [
    {
     "name": "stderr",
     "output_type": "stream",
     "text": [
      "Finding clones based on B cell VDJ chains : 100%|██████████| 157/157 [00:00<00:00, 7623.45it/s]\n",
      "Finding clones based on B cell VJ chains : 100%|██████████| 164/164 [00:00<00:00, 10267.42it/s]\n",
      "Refining clone assignment based on VJ chain pairing : 100%|██████████| 994/994 [00:00<00:00, 586129.37it/s]\n"
     ]
    }
   ],
   "source": [
    "ddl.tl.find_clones(vdj)"
   ]
  },
  {
   "cell_type": "markdown",
   "metadata": {},
   "source": [
    "### `ddl.to_scirpy` : Converting `dandelion` to `scirpy`"
   ]
  },
  {
   "cell_type": "code",
   "execution_count": 5,
   "metadata": {
    "scrolled": true
   },
   "outputs": [
    {
     "name": "stderr",
     "output_type": "stream",
     "text": [
      "/opt/homebrew/Caskroom/mambaforge/base/envs/dandelion/lib/python3.11/site-packages/anndata/_core/aligned_mapping.py:54: ExperimentalFeatureWarning: Support for Awkward Arrays is currently experimental. Behavior may change in the future. Please report any issues you may encounter!\n"
     ]
    },
    {
     "data": {
      "text/html": [
       "<pre>MuData object with n_obs × n_vars = 994 × 0\n",
       "  1 modality\n",
       "    airr:\t994 x 0\n",
       "      obsm:\t&#x27;airr&#x27;</pre>"
      ],
      "text/plain": [
       "MuData object with n_obs × n_vars = 994 × 0\n",
       "  1 modality\n",
       "    airr:\t994 x 0\n",
       "      obsm:\t'airr'"
      ]
     },
     "execution_count": 5,
     "metadata": {},
     "output_type": "execute_result"
    }
   ],
   "source": [
    "irdata = ddl.to_scirpy(vdj)\n",
    "irdata"
   ]
  },
  {
   "cell_type": "markdown",
   "metadata": {},
   "source": [
    "Conversion to `AnndData` in scirpy format is also available"
   ]
  },
  {
   "cell_type": "code",
   "execution_count": 6,
   "metadata": {},
   "outputs": [
    {
     "data": {
      "text/plain": [
       "AnnData object with n_obs × n_vars = 994 × 0\n",
       "    obsm: 'airr'"
      ]
     },
     "execution_count": 6,
     "metadata": {},
     "output_type": "execute_result"
    }
   ],
   "source": [
    "mudata = ddl.to_scirpy(vdj, to_mudata=False)\n",
    "mudata"
   ]
  },
  {
   "cell_type": "markdown",
   "metadata": {},
   "source": [
    "If you have gene expression data, the parameter `gex_adata` supports the gene expression data in `AnnData` format.\n",
    "\n",
    "Please note that this will slice to the same cell_id that are present in the same in the AIRR data."
   ]
  },
  {
   "cell_type": "code",
   "execution_count": 7,
   "metadata": {},
   "outputs": [
    {
     "name": "stderr",
     "output_type": "stream",
     "text": [
      "/opt/homebrew/Caskroom/mambaforge/base/envs/dandelion/lib/python3.11/site-packages/anndata/_core/anndata.py:117: ImplicitModificationWarning: Transforming to str index.\n"
     ]
    },
    {
     "data": {
      "text/plain": [
       "AnnData object with n_obs × n_vars = 984 × 36601\n",
       "    var: 'gene_ids', 'feature_types', 'genome'\n",
       "    obsm: 'airr'"
      ]
     },
     "execution_count": 7,
     "metadata": {},
     "output_type": "execute_result"
    }
   ],
   "source": [
    "irdata = ddl.to_scirpy(vdj, to_mudata=False, gex_adata=adata)\n",
    "irdata"
   ]
  },
  {
   "cell_type": "code",
   "execution_count": 8,
   "metadata": {},
   "outputs": [
    {
     "data": {
      "text/html": [
       "<pre>MuData object with n_obs × n_vars = 10563 × 36601\n",
       "  2 modalities\n",
       "    gex:\t10553 x 36601\n",
       "      var:\t&#x27;gene_ids&#x27;, &#x27;feature_types&#x27;, &#x27;genome&#x27;\n",
       "    airr:\t994 x 0\n",
       "      obsm:\t&#x27;airr&#x27;</pre>"
      ],
      "text/plain": [
       "MuData object with n_obs × n_vars = 10563 × 36601\n",
       "  2 modalities\n",
       "    gex:\t10553 x 36601\n",
       "      var:\t'gene_ids', 'feature_types', 'genome'\n",
       "    airr:\t994 x 0\n",
       "      obsm:\t'airr'"
      ]
     },
     "execution_count": 8,
     "metadata": {},
     "output_type": "execute_result"
    }
   ],
   "source": [
    "mudata = ddl.to_scirpy(vdj, to_mudata=True, gex_adata=adata)\n",
    "mudata"
   ]
  },
  {
   "cell_type": "markdown",
   "metadata": {},
   "source": [
    "Use scirpy's get functions to retrieve the relevant airr info (https://scirpy.scverse.org/en/latest/generated/scirpy.get.airr.html)"
   ]
  },
  {
   "cell_type": "code",
   "execution_count": 9,
   "metadata": {},
   "outputs": [
    {
     "name": "stdout",
     "output_type": "stream",
     "text": [
      "WARNING: No chain indices found under adata.obsm['chain_indices']. Running scirpy.pp.index_chains with default parameters. \n"
     ]
    },
    {
     "data": {
      "text/html": [
       "<div>\n",
       "<style scoped>\n",
       "    .dataframe tbody tr th:only-of-type {\n",
       "        vertical-align: middle;\n",
       "    }\n",
       "\n",
       "    .dataframe tbody tr th {\n",
       "        vertical-align: top;\n",
       "    }\n",
       "\n",
       "    .dataframe thead th {\n",
       "        text-align: right;\n",
       "    }\n",
       "</style>\n",
       "<table border=\"1\" class=\"dataframe\">\n",
       "  <thead>\n",
       "    <tr style=\"text-align: right;\">\n",
       "      <th></th>\n",
       "      <th>VJ_1_clone_id</th>\n",
       "      <th>VDJ_1_clone_id</th>\n",
       "      <th>VJ_2_clone_id</th>\n",
       "      <th>VDJ_2_clone_id</th>\n",
       "    </tr>\n",
       "  </thead>\n",
       "  <tbody>\n",
       "    <tr>\n",
       "      <th>AAACCTGTCATATCGG-1</th>\n",
       "      <td>B_VJ_98_1_2</td>\n",
       "      <td>None</td>\n",
       "      <td>None</td>\n",
       "      <td>None</td>\n",
       "    </tr>\n",
       "    <tr>\n",
       "      <th>AAACCTGTCCGTTGTC-1</th>\n",
       "      <td>B_VDJ_113_3_1_VJ_152_2_1</td>\n",
       "      <td>B_VDJ_113_3_1_VJ_152_2_1</td>\n",
       "      <td>None</td>\n",
       "      <td>None</td>\n",
       "    </tr>\n",
       "    <tr>\n",
       "      <th>AAACCTGTCGAGAACG-1</th>\n",
       "      <td>B_VDJ_107_4_1_VJ_162_1_1</td>\n",
       "      <td>B_VDJ_107_4_1_VJ_162_1_1</td>\n",
       "      <td>None</td>\n",
       "      <td>None</td>\n",
       "    </tr>\n",
       "    <tr>\n",
       "      <th>AAACCTGTCTTGAGAC-1</th>\n",
       "      <td>B_VDJ_157_1_1_VJ_4_1_1</td>\n",
       "      <td>B_VDJ_157_1_1_VJ_4_1_1</td>\n",
       "      <td>None</td>\n",
       "      <td>None</td>\n",
       "    </tr>\n",
       "    <tr>\n",
       "      <th>AAACGGGAGCGACGTA-1</th>\n",
       "      <td>B_VDJ_98_1_2_VJ_63_2_3</td>\n",
       "      <td>B_VDJ_98_1_2_VJ_63_2_3</td>\n",
       "      <td>None</td>\n",
       "      <td>None</td>\n",
       "    </tr>\n",
       "    <tr>\n",
       "      <th>...</th>\n",
       "      <td>...</td>\n",
       "      <td>...</td>\n",
       "      <td>...</td>\n",
       "      <td>...</td>\n",
       "    </tr>\n",
       "    <tr>\n",
       "      <th>TTTGCGCTCTAACGGT-1</th>\n",
       "      <td>B_VDJ_88_3_1_VJ_122_1_2</td>\n",
       "      <td>B_VDJ_88_3_1_VJ_122_1_2</td>\n",
       "      <td>None</td>\n",
       "      <td>None</td>\n",
       "    </tr>\n",
       "    <tr>\n",
       "      <th>TTTGGTTGTAGCCTAT-1</th>\n",
       "      <td>B_VDJ_40_1_1_VJ_112_2_1</td>\n",
       "      <td>B_VDJ_40_1_1_VJ_112_2_1</td>\n",
       "      <td>None</td>\n",
       "      <td>None</td>\n",
       "    </tr>\n",
       "    <tr>\n",
       "      <th>TTTGGTTTCAGAGCTT-1</th>\n",
       "      <td>B_VDJ_102_5_2_VJ_153_1_1</td>\n",
       "      <td>B_VDJ_102_5_2_VJ_153_1_1</td>\n",
       "      <td>None</td>\n",
       "      <td>None</td>\n",
       "    </tr>\n",
       "    <tr>\n",
       "      <th>TTTGGTTTCAGTGTTG-1</th>\n",
       "      <td>B_VDJ_114_1_1_VJ_1_2_1</td>\n",
       "      <td>B_VDJ_114_1_1_VJ_1_2_1</td>\n",
       "      <td>None</td>\n",
       "      <td>None</td>\n",
       "    </tr>\n",
       "    <tr>\n",
       "      <th>TTTGGTTTCGGTGTCG-1</th>\n",
       "      <td>B_VDJ_131_1_1_VJ_158_3_1</td>\n",
       "      <td>B_VDJ_131_1_1_VJ_158_3_1</td>\n",
       "      <td>None</td>\n",
       "      <td>None</td>\n",
       "    </tr>\n",
       "  </tbody>\n",
       "</table>\n",
       "<p>984 rows × 4 columns</p>\n",
       "</div>"
      ],
      "text/plain": [
       "                               VJ_1_clone_id            VDJ_1_clone_id   \n",
       "AAACCTGTCATATCGG-1               B_VJ_98_1_2                      None  \\\n",
       "AAACCTGTCCGTTGTC-1  B_VDJ_113_3_1_VJ_152_2_1  B_VDJ_113_3_1_VJ_152_2_1   \n",
       "AAACCTGTCGAGAACG-1  B_VDJ_107_4_1_VJ_162_1_1  B_VDJ_107_4_1_VJ_162_1_1   \n",
       "AAACCTGTCTTGAGAC-1    B_VDJ_157_1_1_VJ_4_1_1    B_VDJ_157_1_1_VJ_4_1_1   \n",
       "AAACGGGAGCGACGTA-1    B_VDJ_98_1_2_VJ_63_2_3    B_VDJ_98_1_2_VJ_63_2_3   \n",
       "...                                      ...                       ...   \n",
       "TTTGCGCTCTAACGGT-1   B_VDJ_88_3_1_VJ_122_1_2   B_VDJ_88_3_1_VJ_122_1_2   \n",
       "TTTGGTTGTAGCCTAT-1   B_VDJ_40_1_1_VJ_112_2_1   B_VDJ_40_1_1_VJ_112_2_1   \n",
       "TTTGGTTTCAGAGCTT-1  B_VDJ_102_5_2_VJ_153_1_1  B_VDJ_102_5_2_VJ_153_1_1   \n",
       "TTTGGTTTCAGTGTTG-1    B_VDJ_114_1_1_VJ_1_2_1    B_VDJ_114_1_1_VJ_1_2_1   \n",
       "TTTGGTTTCGGTGTCG-1  B_VDJ_131_1_1_VJ_158_3_1  B_VDJ_131_1_1_VJ_158_3_1   \n",
       "\n",
       "                   VJ_2_clone_id VDJ_2_clone_id  \n",
       "AAACCTGTCATATCGG-1          None           None  \n",
       "AAACCTGTCCGTTGTC-1          None           None  \n",
       "AAACCTGTCGAGAACG-1          None           None  \n",
       "AAACCTGTCTTGAGAC-1          None           None  \n",
       "AAACGGGAGCGACGTA-1          None           None  \n",
       "...                          ...            ...  \n",
       "TTTGCGCTCTAACGGT-1          None           None  \n",
       "TTTGGTTGTAGCCTAT-1          None           None  \n",
       "TTTGGTTTCAGAGCTT-1          None           None  \n",
       "TTTGGTTTCAGTGTTG-1          None           None  \n",
       "TTTGGTTTCGGTGTCG-1          None           None  \n",
       "\n",
       "[984 rows x 4 columns]"
      ]
     },
     "execution_count": 9,
     "metadata": {},
     "output_type": "execute_result"
    }
   ],
   "source": [
    "ir.get.airr(irdata, \"clone_id\")"
   ]
  },
  {
   "cell_type": "code",
   "execution_count": 10,
   "metadata": {},
   "outputs": [
    {
     "name": "stdout",
     "output_type": "stream",
     "text": [
      "WARNING: No chain indices found under adata.obsm['chain_indices']. Running scirpy.pp.index_chains with default parameters. \n"
     ]
    },
    {
     "data": {
      "text/html": [
       "<div>\n",
       "<style scoped>\n",
       "    .dataframe tbody tr th:only-of-type {\n",
       "        vertical-align: middle;\n",
       "    }\n",
       "\n",
       "    .dataframe tbody tr th {\n",
       "        vertical-align: top;\n",
       "    }\n",
       "\n",
       "    .dataframe thead th {\n",
       "        text-align: right;\n",
       "    }\n",
       "</style>\n",
       "<table border=\"1\" class=\"dataframe\">\n",
       "  <thead>\n",
       "    <tr style=\"text-align: right;\">\n",
       "      <th></th>\n",
       "      <th>VJ_1_clone_id</th>\n",
       "      <th>VDJ_1_clone_id</th>\n",
       "      <th>VJ_2_clone_id</th>\n",
       "      <th>VDJ_2_clone_id</th>\n",
       "    </tr>\n",
       "    <tr>\n",
       "      <th>cell_id</th>\n",
       "      <th></th>\n",
       "      <th></th>\n",
       "      <th></th>\n",
       "      <th></th>\n",
       "    </tr>\n",
       "  </thead>\n",
       "  <tbody>\n",
       "    <tr>\n",
       "      <th>AAACCTGTCATATCGG-1</th>\n",
       "      <td>B_VJ_98_1_2</td>\n",
       "      <td>None</td>\n",
       "      <td>None</td>\n",
       "      <td>None</td>\n",
       "    </tr>\n",
       "    <tr>\n",
       "      <th>AAACCTGTCCGTTGTC-1</th>\n",
       "      <td>B_VDJ_113_3_1_VJ_152_2_1</td>\n",
       "      <td>B_VDJ_113_3_1_VJ_152_2_1</td>\n",
       "      <td>None</td>\n",
       "      <td>None</td>\n",
       "    </tr>\n",
       "    <tr>\n",
       "      <th>AAACCTGTCGAGAACG-1</th>\n",
       "      <td>B_VDJ_107_4_1_VJ_162_1_1</td>\n",
       "      <td>B_VDJ_107_4_1_VJ_162_1_1</td>\n",
       "      <td>None</td>\n",
       "      <td>None</td>\n",
       "    </tr>\n",
       "    <tr>\n",
       "      <th>AAACCTGTCTTGAGAC-1</th>\n",
       "      <td>B_VDJ_157_1_1_VJ_4_1_1</td>\n",
       "      <td>B_VDJ_157_1_1_VJ_4_1_1</td>\n",
       "      <td>None</td>\n",
       "      <td>None</td>\n",
       "    </tr>\n",
       "    <tr>\n",
       "      <th>AAACGGGAGCGACGTA-1</th>\n",
       "      <td>B_VDJ_98_1_2_VJ_63_2_3</td>\n",
       "      <td>B_VDJ_98_1_2_VJ_63_2_3</td>\n",
       "      <td>None</td>\n",
       "      <td>None</td>\n",
       "    </tr>\n",
       "    <tr>\n",
       "      <th>...</th>\n",
       "      <td>...</td>\n",
       "      <td>...</td>\n",
       "      <td>...</td>\n",
       "      <td>...</td>\n",
       "    </tr>\n",
       "    <tr>\n",
       "      <th>TTTGCGCTCTAACGGT-1</th>\n",
       "      <td>B_VDJ_88_3_1_VJ_122_1_2</td>\n",
       "      <td>B_VDJ_88_3_1_VJ_122_1_2</td>\n",
       "      <td>None</td>\n",
       "      <td>None</td>\n",
       "    </tr>\n",
       "    <tr>\n",
       "      <th>TTTGGTTGTAGCCTAT-1</th>\n",
       "      <td>B_VDJ_40_1_1_VJ_112_2_1</td>\n",
       "      <td>B_VDJ_40_1_1_VJ_112_2_1</td>\n",
       "      <td>None</td>\n",
       "      <td>None</td>\n",
       "    </tr>\n",
       "    <tr>\n",
       "      <th>TTTGGTTTCAGAGCTT-1</th>\n",
       "      <td>B_VDJ_102_5_2_VJ_153_1_1</td>\n",
       "      <td>B_VDJ_102_5_2_VJ_153_1_1</td>\n",
       "      <td>None</td>\n",
       "      <td>None</td>\n",
       "    </tr>\n",
       "    <tr>\n",
       "      <th>TTTGGTTTCAGTGTTG-1</th>\n",
       "      <td>B_VDJ_114_1_1_VJ_1_2_1</td>\n",
       "      <td>B_VDJ_114_1_1_VJ_1_2_1</td>\n",
       "      <td>None</td>\n",
       "      <td>None</td>\n",
       "    </tr>\n",
       "    <tr>\n",
       "      <th>TTTGGTTTCGGTGTCG-1</th>\n",
       "      <td>B_VDJ_131_1_1_VJ_158_3_1</td>\n",
       "      <td>B_VDJ_131_1_1_VJ_158_3_1</td>\n",
       "      <td>None</td>\n",
       "      <td>None</td>\n",
       "    </tr>\n",
       "  </tbody>\n",
       "</table>\n",
       "<p>994 rows × 4 columns</p>\n",
       "</div>"
      ],
      "text/plain": [
       "                               VJ_1_clone_id            VDJ_1_clone_id   \n",
       "cell_id                                                                  \n",
       "AAACCTGTCATATCGG-1               B_VJ_98_1_2                      None  \\\n",
       "AAACCTGTCCGTTGTC-1  B_VDJ_113_3_1_VJ_152_2_1  B_VDJ_113_3_1_VJ_152_2_1   \n",
       "AAACCTGTCGAGAACG-1  B_VDJ_107_4_1_VJ_162_1_1  B_VDJ_107_4_1_VJ_162_1_1   \n",
       "AAACCTGTCTTGAGAC-1    B_VDJ_157_1_1_VJ_4_1_1    B_VDJ_157_1_1_VJ_4_1_1   \n",
       "AAACGGGAGCGACGTA-1    B_VDJ_98_1_2_VJ_63_2_3    B_VDJ_98_1_2_VJ_63_2_3   \n",
       "...                                      ...                       ...   \n",
       "TTTGCGCTCTAACGGT-1   B_VDJ_88_3_1_VJ_122_1_2   B_VDJ_88_3_1_VJ_122_1_2   \n",
       "TTTGGTTGTAGCCTAT-1   B_VDJ_40_1_1_VJ_112_2_1   B_VDJ_40_1_1_VJ_112_2_1   \n",
       "TTTGGTTTCAGAGCTT-1  B_VDJ_102_5_2_VJ_153_1_1  B_VDJ_102_5_2_VJ_153_1_1   \n",
       "TTTGGTTTCAGTGTTG-1    B_VDJ_114_1_1_VJ_1_2_1    B_VDJ_114_1_1_VJ_1_2_1   \n",
       "TTTGGTTTCGGTGTCG-1  B_VDJ_131_1_1_VJ_158_3_1  B_VDJ_131_1_1_VJ_158_3_1   \n",
       "\n",
       "                   VJ_2_clone_id VDJ_2_clone_id  \n",
       "cell_id                                          \n",
       "AAACCTGTCATATCGG-1          None           None  \n",
       "AAACCTGTCCGTTGTC-1          None           None  \n",
       "AAACCTGTCGAGAACG-1          None           None  \n",
       "AAACCTGTCTTGAGAC-1          None           None  \n",
       "AAACGGGAGCGACGTA-1          None           None  \n",
       "...                          ...            ...  \n",
       "TTTGCGCTCTAACGGT-1          None           None  \n",
       "TTTGGTTGTAGCCTAT-1          None           None  \n",
       "TTTGGTTTCAGAGCTT-1          None           None  \n",
       "TTTGGTTTCAGTGTTG-1          None           None  \n",
       "TTTGGTTTCGGTGTCG-1          None           None  \n",
       "\n",
       "[994 rows x 4 columns]"
      ]
     },
     "execution_count": 10,
     "metadata": {},
     "output_type": "execute_result"
    }
   ],
   "source": [
    "ir.get.airr(mudata, \"clone_id\")"
   ]
  },
  {
   "cell_type": "markdown",
   "metadata": {},
   "source": [
    "Or you can add `transfer = True`, which will perform dandelion's `tl.transfer`."
   ]
  },
  {
   "cell_type": "code",
   "execution_count": 11,
   "metadata": {
    "scrolled": true
   },
   "outputs": [
    {
     "data": {
      "text/html": [
       "<pre>MuData object with n_obs × n_vars = 994 × 0\n",
       "  1 modality\n",
       "    airr:\t994 x 0\n",
       "      obs:\t&#x27;clone_id&#x27;, &#x27;clone_id_by_size&#x27;, &#x27;locus_VDJ&#x27;, &#x27;locus_VJ&#x27;, &#x27;productive_VDJ&#x27;, &#x27;productive_VJ&#x27;, &#x27;v_call_VDJ&#x27;, &#x27;d_call_VDJ&#x27;, &#x27;j_call_VDJ&#x27;, &#x27;v_call_VJ&#x27;, &#x27;j_call_VJ&#x27;, &#x27;c_call_VDJ&#x27;, &#x27;c_call_VJ&#x27;, &#x27;junction_VDJ&#x27;, &#x27;junction_VJ&#x27;, &#x27;junction_aa_VDJ&#x27;, &#x27;junction_aa_VJ&#x27;, &#x27;v_call_B_VDJ&#x27;, &#x27;d_call_B_VDJ&#x27;, &#x27;j_call_B_VDJ&#x27;, &#x27;v_call_B_VJ&#x27;, &#x27;j_call_B_VJ&#x27;, &#x27;c_call_B_VDJ&#x27;, &#x27;c_call_B_VJ&#x27;, &#x27;productive_B_VDJ&#x27;, &#x27;productive_B_VJ&#x27;, &#x27;duplicate_count_B_VDJ&#x27;, &#x27;duplicate_count_B_VJ&#x27;, &#x27;v_call_VDJ_main&#x27;, &#x27;v_call_VJ_main&#x27;, &#x27;d_call_VDJ_main&#x27;, &#x27;j_call_VDJ_main&#x27;, &#x27;j_call_VJ_main&#x27;, &#x27;c_call_VDJ_main&#x27;, &#x27;c_call_VJ_main&#x27;, &#x27;v_call_B_VDJ_main&#x27;, &#x27;d_call_B_VDJ_main&#x27;, &#x27;j_call_B_VDJ_main&#x27;, &#x27;v_call_B_VJ_main&#x27;, &#x27;j_call_B_VJ_main&#x27;, &#x27;isotype&#x27;, &#x27;isotype_status&#x27;, &#x27;locus_status&#x27;, &#x27;chain_status&#x27;, &#x27;rearrangement_status_VDJ&#x27;, &#x27;rearrangement_status_VJ&#x27;\n",
       "      obsm:\t&#x27;airr&#x27;</pre>"
      ],
      "text/plain": [
       "MuData object with n_obs × n_vars = 994 × 0\n",
       "  1 modality\n",
       "    airr:\t994 x 0\n",
       "      obs:\t'clone_id', 'clone_id_by_size', 'locus_VDJ', 'locus_VJ', 'productive_VDJ', 'productive_VJ', 'v_call_VDJ', 'd_call_VDJ', 'j_call_VDJ', 'v_call_VJ', 'j_call_VJ', 'c_call_VDJ', 'c_call_VJ', 'junction_VDJ', 'junction_VJ', 'junction_aa_VDJ', 'junction_aa_VJ', 'v_call_B_VDJ', 'd_call_B_VDJ', 'j_call_B_VDJ', 'v_call_B_VJ', 'j_call_B_VJ', 'c_call_B_VDJ', 'c_call_B_VJ', 'productive_B_VDJ', 'productive_B_VJ', 'duplicate_count_B_VDJ', 'duplicate_count_B_VJ', 'v_call_VDJ_main', 'v_call_VJ_main', 'd_call_VDJ_main', 'j_call_VDJ_main', 'j_call_VJ_main', 'c_call_VDJ_main', 'c_call_VJ_main', 'v_call_B_VDJ_main', 'd_call_B_VDJ_main', 'j_call_B_VDJ_main', 'v_call_B_VJ_main', 'j_call_B_VJ_main', 'isotype', 'isotype_status', 'locus_status', 'chain_status', 'rearrangement_status_VDJ', 'rearrangement_status_VJ'\n",
       "      obsm:\t'airr'"
      ]
     },
     "execution_count": 11,
     "metadata": {},
     "output_type": "execute_result"
    }
   ],
   "source": [
    "irdatax = ddl.to_scirpy(vdj, transfer=True)\n",
    "irdatax"
   ]
  },
  {
   "cell_type": "code",
   "execution_count": 12,
   "metadata": {},
   "outputs": [
    {
     "data": {
      "text/plain": [
       "AnnData object with n_obs × n_vars = 994 × 0\n",
       "    obs: 'clone_id', 'clone_id_by_size', 'locus_VDJ', 'locus_VJ', 'productive_VDJ', 'productive_VJ', 'v_call_VDJ', 'd_call_VDJ', 'j_call_VDJ', 'v_call_VJ', 'j_call_VJ', 'c_call_VDJ', 'c_call_VJ', 'junction_VDJ', 'junction_VJ', 'junction_aa_VDJ', 'junction_aa_VJ', 'v_call_B_VDJ', 'd_call_B_VDJ', 'j_call_B_VDJ', 'v_call_B_VJ', 'j_call_B_VJ', 'c_call_B_VDJ', 'c_call_B_VJ', 'productive_B_VDJ', 'productive_B_VJ', 'duplicate_count_B_VDJ', 'duplicate_count_B_VJ', 'v_call_VDJ_main', 'v_call_VJ_main', 'd_call_VDJ_main', 'j_call_VDJ_main', 'j_call_VJ_main', 'c_call_VDJ_main', 'c_call_VJ_main', 'v_call_B_VDJ_main', 'd_call_B_VDJ_main', 'j_call_B_VDJ_main', 'v_call_B_VJ_main', 'j_call_B_VJ_main', 'isotype', 'isotype_status', 'locus_status', 'chain_status', 'rearrangement_status_VDJ', 'rearrangement_status_VJ'\n",
       "    obsm: 'airr'"
      ]
     },
     "execution_count": 12,
     "metadata": {},
     "output_type": "execute_result"
    }
   ],
   "source": [
    "irdatax = ddl.to_scirpy(vdj, transfer=True, to_mudata=False)\n",
    "irdatax"
   ]
  },
  {
   "cell_type": "markdown",
   "metadata": {},
   "source": [
    "### `ddl.from_scirpy` : Converting `scirpy` to `dandelion`"
   ]
  },
  {
   "cell_type": "markdown",
   "metadata": {},
   "source": [
    "Converting `MuData` back to `Dandelion`"
   ]
  },
  {
   "cell_type": "code",
   "execution_count": 13,
   "metadata": {},
   "outputs": [
    {
     "data": {
      "text/plain": [
       "Dandelion class object with n_obs = 994 and n_contigs = 2093\n",
       "    data: 'c_call', 'c_cigar', 'c_sequence_end', 'c_sequence_start', 'clone_id', 'consensus_count', 'd_call', 'd_cigar', 'd_sequence_end', 'd_sequence_start', 'duplicate_count', 'germline_alignment', 'is_cell', 'j_call', 'j_cigar', 'j_sequence_end', 'j_sequence_start', 'junction', 'junction_aa', 'junction_aa_length', 'junction_length', 'locus', 'productive', 'rearrangement_status', 'rev_comp', 'sequence', 'sequence_aa', 'sequence_alignment', 'sequence_id', 'v_call', 'v_cigar', 'v_sequence_end', 'v_sequence_start', 'cell_id'\n",
       "    metadata: 'clone_id', 'clone_id_by_size', 'locus_VDJ', 'locus_VJ', 'productive_VDJ', 'productive_VJ', 'v_call_VDJ', 'd_call_VDJ', 'j_call_VDJ', 'v_call_VJ', 'j_call_VJ', 'c_call_VDJ', 'c_call_VJ', 'junction_VDJ', 'junction_VJ', 'junction_aa_VDJ', 'junction_aa_VJ', 'v_call_B_VDJ', 'd_call_B_VDJ', 'j_call_B_VDJ', 'v_call_B_VJ', 'j_call_B_VJ', 'c_call_B_VDJ', 'c_call_B_VJ', 'productive_B_VDJ', 'productive_B_VJ', 'duplicate_count_B_VDJ', 'duplicate_count_B_VJ', 'v_call_VDJ_main', 'v_call_VJ_main', 'd_call_VDJ_main', 'j_call_VDJ_main', 'j_call_VJ_main', 'c_call_VDJ_main', 'c_call_VJ_main', 'v_call_B_VDJ_main', 'd_call_B_VDJ_main', 'j_call_B_VDJ_main', 'v_call_B_VJ_main', 'j_call_B_VJ_main', 'isotype', 'isotype_status', 'locus_status', 'chain_status', 'rearrangement_status_VDJ', 'rearrangement_status_VJ'"
      ]
     },
     "execution_count": 13,
     "metadata": {},
     "output_type": "execute_result"
    }
   ],
   "source": [
    "vdjx = ddl.from_scirpy(mudata)\n",
    "vdjx"
   ]
  },
  {
   "cell_type": "markdown",
   "metadata": {},
   "source": [
    "Converting `AnnData` back to `Dandelion`"
   ]
  },
  {
   "cell_type": "code",
   "execution_count": 14,
   "metadata": {},
   "outputs": [
    {
     "data": {
      "text/plain": [
       "Dandelion class object with n_obs = 984 and n_contigs = 2073\n",
       "    data: 'c_call', 'c_cigar', 'c_sequence_end', 'c_sequence_start', 'clone_id', 'consensus_count', 'd_call', 'd_cigar', 'd_sequence_end', 'd_sequence_start', 'duplicate_count', 'germline_alignment', 'is_cell', 'j_call', 'j_cigar', 'j_sequence_end', 'j_sequence_start', 'junction', 'junction_aa', 'junction_aa_length', 'junction_length', 'locus', 'productive', 'rearrangement_status', 'rev_comp', 'sequence', 'sequence_aa', 'sequence_alignment', 'sequence_id', 'v_call', 'v_cigar', 'v_sequence_end', 'v_sequence_start', 'cell_id'\n",
       "    metadata: 'clone_id', 'clone_id_by_size', 'locus_VDJ', 'locus_VJ', 'productive_VDJ', 'productive_VJ', 'v_call_VDJ', 'd_call_VDJ', 'j_call_VDJ', 'v_call_VJ', 'j_call_VJ', 'c_call_VDJ', 'c_call_VJ', 'junction_VDJ', 'junction_VJ', 'junction_aa_VDJ', 'junction_aa_VJ', 'v_call_B_VDJ', 'd_call_B_VDJ', 'j_call_B_VDJ', 'v_call_B_VJ', 'j_call_B_VJ', 'c_call_B_VDJ', 'c_call_B_VJ', 'productive_B_VDJ', 'productive_B_VJ', 'duplicate_count_B_VDJ', 'duplicate_count_B_VJ', 'v_call_VDJ_main', 'v_call_VJ_main', 'd_call_VDJ_main', 'j_call_VDJ_main', 'j_call_VJ_main', 'c_call_VDJ_main', 'c_call_VJ_main', 'v_call_B_VDJ_main', 'd_call_B_VDJ_main', 'j_call_B_VDJ_main', 'v_call_B_VJ_main', 'j_call_B_VJ_main', 'isotype', 'isotype_status', 'locus_status', 'chain_status', 'rearrangement_status_VDJ', 'rearrangement_status_VJ'"
      ]
     },
     "execution_count": 14,
     "metadata": {},
     "output_type": "execute_result"
    }
   ],
   "source": [
    "vdjx = ddl.from_scirpy(irdata)\n",
    "vdjx"
   ]
  },
  {
   "cell_type": "code",
   "execution_count": 15,
   "metadata": {},
   "outputs": [
    {
     "data": {
      "text/html": [
       "<div>\n",
       "<style scoped>\n",
       "    .dataframe tbody tr th:only-of-type {\n",
       "        vertical-align: middle;\n",
       "    }\n",
       "\n",
       "    .dataframe tbody tr th {\n",
       "        vertical-align: top;\n",
       "    }\n",
       "\n",
       "    .dataframe thead th {\n",
       "        text-align: right;\n",
       "    }\n",
       "</style>\n",
       "<table border=\"1\" class=\"dataframe\">\n",
       "  <thead>\n",
       "    <tr style=\"text-align: right;\">\n",
       "      <th></th>\n",
       "      <th>clone_id</th>\n",
       "      <th>clone_id_by_size</th>\n",
       "      <th>locus_VDJ</th>\n",
       "      <th>locus_VJ</th>\n",
       "      <th>productive_VDJ</th>\n",
       "      <th>productive_VJ</th>\n",
       "      <th>v_call_VDJ</th>\n",
       "      <th>d_call_VDJ</th>\n",
       "      <th>j_call_VDJ</th>\n",
       "      <th>v_call_VJ</th>\n",
       "      <th>...</th>\n",
       "      <th>d_call_B_VDJ_main</th>\n",
       "      <th>j_call_B_VDJ_main</th>\n",
       "      <th>v_call_B_VJ_main</th>\n",
       "      <th>j_call_B_VJ_main</th>\n",
       "      <th>isotype</th>\n",
       "      <th>isotype_status</th>\n",
       "      <th>locus_status</th>\n",
       "      <th>chain_status</th>\n",
       "      <th>rearrangement_status_VDJ</th>\n",
       "      <th>rearrangement_status_VJ</th>\n",
       "    </tr>\n",
       "  </thead>\n",
       "  <tbody>\n",
       "    <tr>\n",
       "      <th>AAACCTGTCATATCGG-1</th>\n",
       "      <td>B_VJ_98_1_2</td>\n",
       "      <td>6</td>\n",
       "      <td>None</td>\n",
       "      <td>IGK</td>\n",
       "      <td>None</td>\n",
       "      <td>True</td>\n",
       "      <td>None</td>\n",
       "      <td>None</td>\n",
       "      <td>None</td>\n",
       "      <td>IGKV1-8</td>\n",
       "      <td>...</td>\n",
       "      <td>None</td>\n",
       "      <td>None</td>\n",
       "      <td>IGKV1-8</td>\n",
       "      <td>IGKJ4</td>\n",
       "      <td>None</td>\n",
       "      <td>None</td>\n",
       "      <td>Orphan IGK</td>\n",
       "      <td>Orphan VJ</td>\n",
       "      <td>None</td>\n",
       "      <td>standard</td>\n",
       "    </tr>\n",
       "    <tr>\n",
       "      <th>AAACCTGTCCGTTGTC-1</th>\n",
       "      <td>B_VDJ_113_3_1_VJ_152_2_1</td>\n",
       "      <td>957</td>\n",
       "      <td>IGH</td>\n",
       "      <td>IGK</td>\n",
       "      <td>True</td>\n",
       "      <td>True</td>\n",
       "      <td>IGHV1-69D</td>\n",
       "      <td>IGHD3-22</td>\n",
       "      <td>IGHJ3</td>\n",
       "      <td>IGKV1-8</td>\n",
       "      <td>...</td>\n",
       "      <td>IGHD3-22</td>\n",
       "      <td>IGHJ3</td>\n",
       "      <td>IGKV1-8</td>\n",
       "      <td>IGKJ1</td>\n",
       "      <td>IgM</td>\n",
       "      <td>IgM</td>\n",
       "      <td>IGH + IGK</td>\n",
       "      <td>Single pair</td>\n",
       "      <td>standard</td>\n",
       "      <td>standard</td>\n",
       "    </tr>\n",
       "    <tr>\n",
       "      <th>AAACCTGTCGAGAACG-1</th>\n",
       "      <td>B_VDJ_107_4_1_VJ_162_1_1</td>\n",
       "      <td>773</td>\n",
       "      <td>IGH</td>\n",
       "      <td>IGL</td>\n",
       "      <td>True</td>\n",
       "      <td>True</td>\n",
       "      <td>IGHV1-2</td>\n",
       "      <td>nan</td>\n",
       "      <td>IGHJ3</td>\n",
       "      <td>IGLV5-45</td>\n",
       "      <td>...</td>\n",
       "      <td>nan</td>\n",
       "      <td>IGHJ3</td>\n",
       "      <td>IGLV5-45</td>\n",
       "      <td>IGLJ3</td>\n",
       "      <td>IgM</td>\n",
       "      <td>IgM</td>\n",
       "      <td>IGH + IGL</td>\n",
       "      <td>Single pair</td>\n",
       "      <td>standard</td>\n",
       "      <td>standard</td>\n",
       "    </tr>\n",
       "    <tr>\n",
       "      <th>AAACCTGTCTTGAGAC-1</th>\n",
       "      <td>B_VDJ_157_1_1_VJ_4_1_1</td>\n",
       "      <td>772</td>\n",
       "      <td>IGH</td>\n",
       "      <td>IGK</td>\n",
       "      <td>True</td>\n",
       "      <td>True</td>\n",
       "      <td>IGHV5-51</td>\n",
       "      <td>nan</td>\n",
       "      <td>IGHJ3</td>\n",
       "      <td>IGKV1D-8</td>\n",
       "      <td>...</td>\n",
       "      <td>nan</td>\n",
       "      <td>IGHJ3</td>\n",
       "      <td>IGKV1D-8</td>\n",
       "      <td>IGKJ2</td>\n",
       "      <td>IgM</td>\n",
       "      <td>IgM</td>\n",
       "      <td>IGH + IGK</td>\n",
       "      <td>Single pair</td>\n",
       "      <td>standard</td>\n",
       "      <td>standard</td>\n",
       "    </tr>\n",
       "    <tr>\n",
       "      <th>AAACGGGAGCGACGTA-1</th>\n",
       "      <td>B_VDJ_98_1_2_VJ_63_2_3</td>\n",
       "      <td>771</td>\n",
       "      <td>IGH</td>\n",
       "      <td>IGL</td>\n",
       "      <td>True</td>\n",
       "      <td>True</td>\n",
       "      <td>IGHV4-59</td>\n",
       "      <td>nan</td>\n",
       "      <td>IGHJ3</td>\n",
       "      <td>IGLV3-19</td>\n",
       "      <td>...</td>\n",
       "      <td>nan</td>\n",
       "      <td>IGHJ3</td>\n",
       "      <td>IGLV3-19</td>\n",
       "      <td>IGLJ2</td>\n",
       "      <td>IgM</td>\n",
       "      <td>IgM</td>\n",
       "      <td>IGH + IGL</td>\n",
       "      <td>Single pair</td>\n",
       "      <td>standard</td>\n",
       "      <td>standard</td>\n",
       "    </tr>\n",
       "    <tr>\n",
       "      <th>...</th>\n",
       "      <td>...</td>\n",
       "      <td>...</td>\n",
       "      <td>...</td>\n",
       "      <td>...</td>\n",
       "      <td>...</td>\n",
       "      <td>...</td>\n",
       "      <td>...</td>\n",
       "      <td>...</td>\n",
       "      <td>...</td>\n",
       "      <td>...</td>\n",
       "      <td>...</td>\n",
       "      <td>...</td>\n",
       "      <td>...</td>\n",
       "      <td>...</td>\n",
       "      <td>...</td>\n",
       "      <td>...</td>\n",
       "      <td>...</td>\n",
       "      <td>...</td>\n",
       "      <td>...</td>\n",
       "      <td>...</td>\n",
       "      <td>...</td>\n",
       "    </tr>\n",
       "    <tr>\n",
       "      <th>TTTGCGCTCTAACGGT-1</th>\n",
       "      <td>B_VDJ_88_3_1_VJ_122_1_2</td>\n",
       "      <td>386</td>\n",
       "      <td>IGH</td>\n",
       "      <td>IGL</td>\n",
       "      <td>True</td>\n",
       "      <td>True</td>\n",
       "      <td>IGHV3-43</td>\n",
       "      <td>nan</td>\n",
       "      <td>IGHJ6</td>\n",
       "      <td>IGLV2-8</td>\n",
       "      <td>...</td>\n",
       "      <td>nan</td>\n",
       "      <td>IGHJ6</td>\n",
       "      <td>IGLV2-8</td>\n",
       "      <td>IGLJ3</td>\n",
       "      <td>IgM</td>\n",
       "      <td>IgM</td>\n",
       "      <td>IGH + IGL</td>\n",
       "      <td>Single pair</td>\n",
       "      <td>standard</td>\n",
       "      <td>standard</td>\n",
       "    </tr>\n",
       "    <tr>\n",
       "      <th>TTTGGTTGTAGCCTAT-1</th>\n",
       "      <td>B_VDJ_40_1_1_VJ_112_2_1</td>\n",
       "      <td>385</td>\n",
       "      <td>IGH</td>\n",
       "      <td>IGK</td>\n",
       "      <td>True</td>\n",
       "      <td>True</td>\n",
       "      <td>IGHV4-39</td>\n",
       "      <td>nan</td>\n",
       "      <td>IGHJ2</td>\n",
       "      <td>IGKV6-21</td>\n",
       "      <td>...</td>\n",
       "      <td>nan</td>\n",
       "      <td>IGHJ2</td>\n",
       "      <td>IGKV6-21</td>\n",
       "      <td>IGKJ4</td>\n",
       "      <td>IgM</td>\n",
       "      <td>IgM</td>\n",
       "      <td>IGH + IGK</td>\n",
       "      <td>Single pair</td>\n",
       "      <td>standard</td>\n",
       "      <td>standard</td>\n",
       "    </tr>\n",
       "    <tr>\n",
       "      <th>TTTGGTTTCAGAGCTT-1</th>\n",
       "      <td>B_VDJ_102_5_2_VJ_153_1_1</td>\n",
       "      <td>384</td>\n",
       "      <td>IGH</td>\n",
       "      <td>IGK</td>\n",
       "      <td>True</td>\n",
       "      <td>True</td>\n",
       "      <td>IGHV7-4-1</td>\n",
       "      <td>IGHD3-10</td>\n",
       "      <td>IGHJ4</td>\n",
       "      <td>IGKV3-11</td>\n",
       "      <td>...</td>\n",
       "      <td>IGHD3-10</td>\n",
       "      <td>IGHJ4</td>\n",
       "      <td>IGKV3-11</td>\n",
       "      <td>IGKJ5</td>\n",
       "      <td>IgM</td>\n",
       "      <td>IgM</td>\n",
       "      <td>IGH + IGK</td>\n",
       "      <td>Single pair</td>\n",
       "      <td>standard</td>\n",
       "      <td>standard</td>\n",
       "    </tr>\n",
       "    <tr>\n",
       "      <th>TTTGGTTTCAGTGTTG-1</th>\n",
       "      <td>B_VDJ_114_1_1_VJ_1_2_1</td>\n",
       "      <td>383</td>\n",
       "      <td>IGH</td>\n",
       "      <td>IGL</td>\n",
       "      <td>True</td>\n",
       "      <td>True</td>\n",
       "      <td>IGHV2-5</td>\n",
       "      <td>nan</td>\n",
       "      <td>IGHJ4</td>\n",
       "      <td>IGLV2-23</td>\n",
       "      <td>...</td>\n",
       "      <td>nan</td>\n",
       "      <td>IGHJ4</td>\n",
       "      <td>IGLV2-23</td>\n",
       "      <td>IGLJ2</td>\n",
       "      <td>IgM</td>\n",
       "      <td>IgM</td>\n",
       "      <td>IGH + IGL</td>\n",
       "      <td>Single pair</td>\n",
       "      <td>standard</td>\n",
       "      <td>standard</td>\n",
       "    </tr>\n",
       "    <tr>\n",
       "      <th>TTTGGTTTCGGTGTCG-1</th>\n",
       "      <td>B_VDJ_131_1_1_VJ_158_3_1</td>\n",
       "      <td>1149</td>\n",
       "      <td>IGH</td>\n",
       "      <td>IGK</td>\n",
       "      <td>True</td>\n",
       "      <td>True</td>\n",
       "      <td>IGHV3-21</td>\n",
       "      <td>nan</td>\n",
       "      <td>IGHJ2</td>\n",
       "      <td>IGKV3-11</td>\n",
       "      <td>...</td>\n",
       "      <td>nan</td>\n",
       "      <td>IGHJ2</td>\n",
       "      <td>IGKV3-11</td>\n",
       "      <td>IGKJ4</td>\n",
       "      <td>IgM</td>\n",
       "      <td>IgM</td>\n",
       "      <td>IGH + IGK</td>\n",
       "      <td>Single pair</td>\n",
       "      <td>standard</td>\n",
       "      <td>standard</td>\n",
       "    </tr>\n",
       "  </tbody>\n",
       "</table>\n",
       "<p>984 rows × 46 columns</p>\n",
       "</div>"
      ],
      "text/plain": [
       "                                    clone_id clone_id_by_size locus_VDJ   \n",
       "AAACCTGTCATATCGG-1               B_VJ_98_1_2                6      None  \\\n",
       "AAACCTGTCCGTTGTC-1  B_VDJ_113_3_1_VJ_152_2_1              957       IGH   \n",
       "AAACCTGTCGAGAACG-1  B_VDJ_107_4_1_VJ_162_1_1              773       IGH   \n",
       "AAACCTGTCTTGAGAC-1    B_VDJ_157_1_1_VJ_4_1_1              772       IGH   \n",
       "AAACGGGAGCGACGTA-1    B_VDJ_98_1_2_VJ_63_2_3              771       IGH   \n",
       "...                                      ...              ...       ...   \n",
       "TTTGCGCTCTAACGGT-1   B_VDJ_88_3_1_VJ_122_1_2              386       IGH   \n",
       "TTTGGTTGTAGCCTAT-1   B_VDJ_40_1_1_VJ_112_2_1              385       IGH   \n",
       "TTTGGTTTCAGAGCTT-1  B_VDJ_102_5_2_VJ_153_1_1              384       IGH   \n",
       "TTTGGTTTCAGTGTTG-1    B_VDJ_114_1_1_VJ_1_2_1              383       IGH   \n",
       "TTTGGTTTCGGTGTCG-1  B_VDJ_131_1_1_VJ_158_3_1             1149       IGH   \n",
       "\n",
       "                   locus_VJ productive_VDJ productive_VJ v_call_VDJ   \n",
       "AAACCTGTCATATCGG-1      IGK           None          True       None  \\\n",
       "AAACCTGTCCGTTGTC-1      IGK           True          True  IGHV1-69D   \n",
       "AAACCTGTCGAGAACG-1      IGL           True          True    IGHV1-2   \n",
       "AAACCTGTCTTGAGAC-1      IGK           True          True   IGHV5-51   \n",
       "AAACGGGAGCGACGTA-1      IGL           True          True   IGHV4-59   \n",
       "...                     ...            ...           ...        ...   \n",
       "TTTGCGCTCTAACGGT-1      IGL           True          True   IGHV3-43   \n",
       "TTTGGTTGTAGCCTAT-1      IGK           True          True   IGHV4-39   \n",
       "TTTGGTTTCAGAGCTT-1      IGK           True          True  IGHV7-4-1   \n",
       "TTTGGTTTCAGTGTTG-1      IGL           True          True    IGHV2-5   \n",
       "TTTGGTTTCGGTGTCG-1      IGK           True          True   IGHV3-21   \n",
       "\n",
       "                   d_call_VDJ j_call_VDJ v_call_VJ  ... d_call_B_VDJ_main   \n",
       "AAACCTGTCATATCGG-1       None       None   IGKV1-8  ...              None  \\\n",
       "AAACCTGTCCGTTGTC-1   IGHD3-22      IGHJ3   IGKV1-8  ...          IGHD3-22   \n",
       "AAACCTGTCGAGAACG-1        nan      IGHJ3  IGLV5-45  ...               nan   \n",
       "AAACCTGTCTTGAGAC-1        nan      IGHJ3  IGKV1D-8  ...               nan   \n",
       "AAACGGGAGCGACGTA-1        nan      IGHJ3  IGLV3-19  ...               nan   \n",
       "...                       ...        ...       ...  ...               ...   \n",
       "TTTGCGCTCTAACGGT-1        nan      IGHJ6   IGLV2-8  ...               nan   \n",
       "TTTGGTTGTAGCCTAT-1        nan      IGHJ2  IGKV6-21  ...               nan   \n",
       "TTTGGTTTCAGAGCTT-1   IGHD3-10      IGHJ4  IGKV3-11  ...          IGHD3-10   \n",
       "TTTGGTTTCAGTGTTG-1        nan      IGHJ4  IGLV2-23  ...               nan   \n",
       "TTTGGTTTCGGTGTCG-1        nan      IGHJ2  IGKV3-11  ...               nan   \n",
       "\n",
       "                   j_call_B_VDJ_main v_call_B_VJ_main j_call_B_VJ_main   \n",
       "AAACCTGTCATATCGG-1              None          IGKV1-8            IGKJ4  \\\n",
       "AAACCTGTCCGTTGTC-1             IGHJ3          IGKV1-8            IGKJ1   \n",
       "AAACCTGTCGAGAACG-1             IGHJ3         IGLV5-45            IGLJ3   \n",
       "AAACCTGTCTTGAGAC-1             IGHJ3         IGKV1D-8            IGKJ2   \n",
       "AAACGGGAGCGACGTA-1             IGHJ3         IGLV3-19            IGLJ2   \n",
       "...                              ...              ...              ...   \n",
       "TTTGCGCTCTAACGGT-1             IGHJ6          IGLV2-8            IGLJ3   \n",
       "TTTGGTTGTAGCCTAT-1             IGHJ2         IGKV6-21            IGKJ4   \n",
       "TTTGGTTTCAGAGCTT-1             IGHJ4         IGKV3-11            IGKJ5   \n",
       "TTTGGTTTCAGTGTTG-1             IGHJ4         IGLV2-23            IGLJ2   \n",
       "TTTGGTTTCGGTGTCG-1             IGHJ2         IGKV3-11            IGKJ4   \n",
       "\n",
       "                   isotype isotype_status locus_status chain_status   \n",
       "AAACCTGTCATATCGG-1    None           None   Orphan IGK    Orphan VJ  \\\n",
       "AAACCTGTCCGTTGTC-1     IgM            IgM    IGH + IGK  Single pair   \n",
       "AAACCTGTCGAGAACG-1     IgM            IgM    IGH + IGL  Single pair   \n",
       "AAACCTGTCTTGAGAC-1     IgM            IgM    IGH + IGK  Single pair   \n",
       "AAACGGGAGCGACGTA-1     IgM            IgM    IGH + IGL  Single pair   \n",
       "...                    ...            ...          ...          ...   \n",
       "TTTGCGCTCTAACGGT-1     IgM            IgM    IGH + IGL  Single pair   \n",
       "TTTGGTTGTAGCCTAT-1     IgM            IgM    IGH + IGK  Single pair   \n",
       "TTTGGTTTCAGAGCTT-1     IgM            IgM    IGH + IGK  Single pair   \n",
       "TTTGGTTTCAGTGTTG-1     IgM            IgM    IGH + IGL  Single pair   \n",
       "TTTGGTTTCGGTGTCG-1     IgM            IgM    IGH + IGK  Single pair   \n",
       "\n",
       "                   rearrangement_status_VDJ rearrangement_status_VJ  \n",
       "AAACCTGTCATATCGG-1                     None                standard  \n",
       "AAACCTGTCCGTTGTC-1                 standard                standard  \n",
       "AAACCTGTCGAGAACG-1                 standard                standard  \n",
       "AAACCTGTCTTGAGAC-1                 standard                standard  \n",
       "AAACGGGAGCGACGTA-1                 standard                standard  \n",
       "...                                     ...                     ...  \n",
       "TTTGCGCTCTAACGGT-1                 standard                standard  \n",
       "TTTGGTTGTAGCCTAT-1                 standard                standard  \n",
       "TTTGGTTTCAGAGCTT-1                 standard                standard  \n",
       "TTTGGTTTCAGTGTTG-1                 standard                standard  \n",
       "TTTGGTTTCGGTGTCG-1                 standard                standard  \n",
       "\n",
       "[984 rows x 46 columns]"
      ]
     },
     "execution_count": 15,
     "metadata": {},
     "output_type": "execute_result"
    }
   ],
   "source": [
    "vdjx.metadata"
   ]
  },
  {
   "cell_type": "markdown",
   "metadata": {},
   "source": [
    "This time, find clones with `scirpy`'s method."
   ]
  },
  {
   "cell_type": "code",
   "execution_count": 16,
   "metadata": {
    "scrolled": true
   },
   "outputs": [
    {
     "data": {
      "application/vnd.jupyter.widget-view+json": {
       "model_id": "4f23fa8b81764969a9dc33b218f0ab93",
       "version_major": 2,
       "version_minor": 0
      },
      "text/plain": [
       "  0%|          | 0/105 [00:00<?, ?it/s]"
      ]
     },
     "metadata": {},
     "output_type": "display_data"
    },
    {
     "data": {
      "application/vnd.jupyter.widget-view+json": {
       "model_id": "dec827b20f074fc78b786cecb4ecb051",
       "version_major": 2,
       "version_minor": 0
      },
      "text/plain": [
       "  0%|          | 0/231 [00:00<?, ?it/s]"
      ]
     },
     "metadata": {},
     "output_type": "display_data"
    },
    {
     "data": {
      "application/vnd.jupyter.widget-view+json": {
       "model_id": "7f0e009aad054268a9e32a88a09eb12c",
       "version_major": 2,
       "version_minor": 0
      },
      "text/plain": [
       "  0%|          | 0/980 [00:00<?, ?it/s]"
      ]
     },
     "metadata": {},
     "output_type": "display_data"
    },
    {
     "data": {
      "text/plain": [
       "AnnData object with n_obs × n_vars = 984 × 36601\n",
       "    obs: 'receptor_type', 'receptor_subtype', 'chain_pairing', 'clone_id', 'clone_id_size'\n",
       "    var: 'gene_ids', 'feature_types', 'genome'\n",
       "    uns: 'chain_indices', 'ir_dist_aa_hamming', 'ir_dist_nt_identity', 'clone_id'\n",
       "    obsm: 'airr', 'chain_indices'"
      ]
     },
     "execution_count": 16,
     "metadata": {},
     "output_type": "execute_result"
    }
   ],
   "source": [
    "ir.tl.chain_qc(irdata)\n",
    "ir.pp.ir_dist(irdata, metric=\"hamming\", sequence=\"aa\")\n",
    "ir.tl.define_clonotypes(irdata)\n",
    "irdata"
   ]
  },
  {
   "cell_type": "markdown",
   "metadata": {},
   "source": [
    "### Visualising with `scirpy`'s plotting tools\n",
    "\n",
    "You can now also plot `dandelion` networks using `scirpy`'s functions."
   ]
  },
  {
   "cell_type": "code",
   "execution_count": 17,
   "metadata": {},
   "outputs": [
    {
     "name": "stderr",
     "output_type": "stream",
     "text": [
      "Setting up data: 2093it [00:00, 21322.38it/s]\n",
      "Calculating distances : 100%|██████████| 1154/1154 [00:00<00:00, 11734.08it/s]\n",
      "Aggregating distances : 100%|██████████| 4/4 [00:00<00:00, 381.53it/s]\n",
      "Sorting into clusters : 100%|██████████| 1154/1154 [00:00<00:00, 4742.88it/s]\n",
      "Calculating minimum spanning tree : 100%|██████████| 8/8 [00:00<00:00, 1173.89it/s]\n",
      "Generating edge list : 100%|██████████| 8/8 [00:00<00:00, 4087.52it/s]\n",
      "Computing overlap : 100%|██████████| 1154/1154 [00:00<00:00, 3972.95it/s]\n",
      "Adjust overlap : 100%|██████████| 82/82 [00:00<00:00, 3896.20it/s]\n",
      "Linking edges : 100%|██████████| 984/984 [00:00<00:00, 93606.29it/s]\n"
     ]
    },
    {
     "name": "stdout",
     "output_type": "stream",
     "text": [
      "Computing network layout\n",
      "Computing expanded network layout\n"
     ]
    }
   ],
   "source": [
    "ddl.tl.generate_network(vdj, key=\"junction\")"
   ]
  },
  {
   "cell_type": "code",
   "execution_count": 18,
   "metadata": {},
   "outputs": [],
   "source": [
    "irdata.obs[\"scirpy_clone_id\"] = irdata.obs[\"clone_id\"]  # stash it\n",
    "ddl.tl.transfer(\n",
    "    irdata, vdj, overwrite=True\n",
    ")  # overwrite scirpy's clone_id definition"
   ]
  },
  {
   "cell_type": "code",
   "execution_count": 19,
   "metadata": {},
   "outputs": [
    {
     "data": {
      "text/plain": [
       "<Axes: >"
      ]
     },
     "execution_count": 19,
     "metadata": {},
     "output_type": "execute_result"
    },
    {
     "data": {
      "image/png": "[encoded data removed]",
      "text/plain": [
       "<Figure size 950x700 with 4 Axes>"
      ]
     },
     "metadata": {},
     "output_type": "display_data"
    }
   ],
   "source": [
    "ir.tl.clonotype_network(irdata, min_cells=2)\n",
    "ir.pl.clonotype_network(irdata, color=\"clone_id\", panel_size=(7, 7))"
   ]
  },
  {
   "cell_type": "markdown",
   "metadata": {},
   "source": [
    "to swap to a shorter clone_id name (ordered by size)"
   ]
  },
  {
   "cell_type": "code",
   "execution_count": 20,
   "metadata": {},
   "outputs": [
    {
     "data": {
      "text/plain": [
       "<Axes: >"
      ]
     },
     "execution_count": 20,
     "metadata": {},
     "output_type": "execute_result"
    },
    {
     "data": {
      "image/png": "[encoded data removed]",
      "text/plain": [
       "<Figure size 950x700 with 4 Axes>"
      ]
     },
     "metadata": {},
     "output_type": "display_data"
    }
   ],
   "source": [
    "ddl.tl.transfer(irdata, vdj, clone_key=\"clone_id_by_size\")\n",
    "ir.tl.clonotype_network(irdata, clonotype_key=\"clone_id_by_size\", min_cells=2)\n",
    "ir.pl.clonotype_network(irdata, color=\"clone_id_by_size\", panel_size=(7, 7))"
   ]
  },
  {
   "cell_type": "markdown",
   "metadata": {},
   "source": [
    "you can also collapse the networks to a single node and plot by size"
   ]
  },
  {
   "cell_type": "code",
   "execution_count": 21,
   "metadata": {},
   "outputs": [
    {
     "data": {
      "text/plain": [
       "<Axes: >"
      ]
     },
     "execution_count": 21,
     "metadata": {},
     "output_type": "execute_result"
    },
    {
     "data": {
      "image/png": "[encoded data removed]",
      "text/plain": [
       "<Figure size 950x700 with 4 Axes>"
      ]
     },
     "metadata": {},
     "output_type": "display_data"
    }
   ],
   "source": [
    "ddl.tl.transfer(irdata, vdj, clone_key=\"clone_id_by_size\", collapse_nodes=True)\n",
    "ir.tl.clonotype_network(irdata, clonotype_key=\"clone_id_by_size\", min_cells=2)\n",
    "ir.pl.clonotype_network(irdata, color=\"scirpy_clone_id\", panel_size=(7, 7))"
   ]
  },
  {
   "cell_type": "code",
   "execution_count": null,
   "metadata": {},
   "outputs": [],
   "source": []
  }
 ],
 "metadata": {
  "kernelspec": {
   "display_name": "Python 3 (ipykernel)",
   "language": "python",
   "name": "python3"
  },
  "language_info": {
   "codemirror_mode": {
    "name": "ipython",
    "version": 3
   },
   "file_extension": ".py",
   "mimetype": "text/x-python",
   "name": "python",
   "nbconvert_exporter": "python",
   "pygments_lexer": "ipython3",
   "version": "3.11.5"
  }
 },
 "nbformat": 4,
 "nbformat_minor": 4
}
