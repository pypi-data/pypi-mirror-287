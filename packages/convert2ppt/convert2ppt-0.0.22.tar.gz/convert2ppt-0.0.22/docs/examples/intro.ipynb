{
 "cells": [
  {
   "cell_type": "code",
   "execution_count": null,
   "metadata": {},
   "outputs": [],
   "source": [
    "import convert2ppt\n",
    "from convert2ppt.generate_json import generate_json\n",
    "from convert2ppt.load_pdfs import load_pdfs\n",
    "from convert2ppt.generate_ppt import create_presentations\n",
    "import sys\n",
    "\n",
    "\n",
    "def main():\n",
    "\n",
    "    print(\"Welcome to convert2ppt!\")\n",
    "    # Generate text content from PDFs\n",
    "    data_dir = r\".\\data\"\n",
    "    load_pdfs(data_dir)\n",
    "\n",
    "    # Generate JSON content from text content\n",
    "    generate_json(data_dir)\n",
    "\n",
    "    # Generate PowerPoint presentations from JSON content\n",
    "    create_presentations(data_dir)"
   ]
  }
 ],
 "metadata": {
  "language_info": {
   "name": "python"
  },
  "orig_nbformat": 4
 },
 "nbformat": 4,
 "nbformat_minor": 2
}
