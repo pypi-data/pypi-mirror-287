{
 "cells": [
  {
   "attachments": {},
   "cell_type": "markdown",
   "metadata": {},
   "source": [
    "# CorALS - Documentation"
   ]
  },
  {
   "attachments": {},
   "cell_type": "markdown",
   "metadata": {},
   "source": [
    "## Prepare parallelization\n",
    "\n",
    "Before running anything, we make sure that `numpy` will not  oversubscribe CPUs and slow things down.\n",
    "Note that this has to be executed **before importing `numpy`**.\n",
    "\n",
    "* For full correlation matrix calculation, setting `n_threads > 1` can be used to parallelize the calculation.\n",
    "* For the top-k approaches, setting `n_threads=1` makes the most sense, since parallelization is specified separately."
   ]
  },
  {
   "cell_type": "code",
   "execution_count": null,
   "metadata": {},
   "outputs": [],
   "source": [
    "from corals.threads import set_threads_for_external_libraries\n",
    "set_threads_for_external_libraries(n_threads=1)"
   ]
  },
  {
   "cell_type": "markdown",
   "metadata": {},
   "source": [
    "## Load data"
   ]
  },
  {
   "cell_type": "code",
   "execution_count": null,
   "metadata": {},
   "outputs": [],
   "source": [
    "import numpy as np\n",
    "\n",
    "# create random data\n",
    "n_features = 20000\n",
    "n_samples = 50\n",
    "X = np.random.random((n_samples, n_features))"
   ]
  },
  {
   "cell_type": "markdown",
   "metadata": {},
   "source": [
    "## Full correlation matrix computation"
   ]
  },
  {
   "cell_type": "code",
   "execution_count": null,
   "metadata": {},
   "outputs": [],
   "source": [
    "# runtime: ~2 sec\n",
    "from corals.correlation.full.default import cor_full\n",
    "cor_values = cor_full(X)"
   ]
  },
  {
   "cell_type": "markdown",
   "metadata": {},
   "source": [
    "### Sanity Check"
   ]
  },
  {
   "cell_type": "markdown",
   "metadata": {},
   "source": [
    "Also see: `tests/test_correlation_full.py`"
   ]
  },
  {
   "cell_type": "code",
   "execution_count": null,
   "metadata": {},
   "outputs": [],
   "source": [
    "np.random.seed(42)\n",
    "\n",
    "# data\n",
    "XX = np.random.random((5, 10))\n",
    "\n",
    "# reference values\n",
    "cor_default_values = np.corrcoef(XX, rowvar=False)\n",
    "\n",
    "# CorALS\n",
    "cor_test_values = cor_full(XX)\n",
    "\n",
    "assert np.allclose(cor_default_values, cor_test_values)"
   ]
  },
  {
   "cell_type": "markdown",
   "metadata": {},
   "source": [
    "## Top-k correlation matrix computation using Spearman correlation"
   ]
  },
  {
   "cell_type": "code",
   "execution_count": null,
   "metadata": {},
   "outputs": [],
   "source": [
    "# runtime: ~5 sec with `n_jobs=8`\n",
    "from corals.correlation.topk.default import cor_topk\n",
    "cor_topk_result = cor_topk(X, k=0.001, correlation_type=\"spearman\", n_jobs=8)"
   ]
  },
  {
   "cell_type": "markdown",
   "metadata": {},
   "source": [
    "### Sanity check"
   ]
  },
  {
   "cell_type": "markdown",
   "metadata": {},
   "source": [
    "Also see: `test_correlation_topk.py`"
   ]
  },
  {
   "cell_type": "code",
   "execution_count": null,
   "metadata": {},
   "outputs": [],
   "source": [
    "np.random.seed(42)\n",
    "k = 15\n",
    "\n",
    "# data\n",
    "XX = np.random.random((5, 10))\n",
    "\n",
    "# ref\n",
    "cor = np.corrcoef(XX, rowvar=False).flatten()\n",
    "topk_order = np.argsort(-np.abs(cor))[:k]\n",
    "topk_values = cor[topk_order]\n",
    "val_ref, idx_ref = topk_values, np.unravel_index(topk_order, (X.shape[1], X.shape[1]))\n",
    "\n",
    "# CorALS\n",
    "val, idx = cor_topk(XX, k=k)\n",
    "\n",
    "# check\n",
    "assert np.allclose(val, val_ref)"
   ]
  },
  {
   "cell_type": "markdown",
   "metadata": {},
   "source": [
    "## Top-k differential correlation matrix computation using Spearman correlation"
   ]
  },
  {
   "cell_type": "code",
   "execution_count": null,
   "metadata": {},
   "outputs": [],
   "source": [
    "# generate some more data\n",
    "X1 = X\n",
    "X2 = np.random.random((n_samples, n_features))"
   ]
  },
  {
   "cell_type": "code",
   "execution_count": null,
   "metadata": {},
   "outputs": [],
   "source": [
    "from corals.correlation.topkdiff.default import cor_topkdiff\n",
    "cor_topkdiff_result = cor_topkdiff(X1, X2, k=0.001, correlation_type=\"spearman\", n_jobs=8)"
   ]
  },
  {
   "cell_type": "markdown",
   "metadata": {},
   "source": [
    "### Sanity check"
   ]
  },
  {
   "cell_type": "markdown",
   "metadata": {},
   "source": [
    "Also see: `tests/test_correlation_topkdiff.py`"
   ]
  },
  {
   "cell_type": "code",
   "execution_count": null,
   "metadata": {},
   "outputs": [],
   "source": [
    "np.random.seed(42)\n",
    "m,n = 20, 10\n",
    "k = 15\n",
    "\n",
    "# data\n",
    "m1 = (np.random.random((m,n)) - 0.5) * 10\n",
    "m2 = (np.random.random((m,n)) - 0.5) * 10\n",
    "\n",
    "# reference values\n",
    "cm1 = np.corrcoef(m1, rowvar=False)\n",
    "cm2 = np.corrcoef(m2, rowvar=False)\n",
    "m_diff = cm1 - cm2\n",
    "v_diff = m_diff.flatten()\n",
    "order = np.argsort(-np.abs(v_diff))\n",
    "\n",
    "# CorALS\n",
    "topkdiff, _ = cor_topkdiff(m1, m2, k=k, correlation_type=\"pearson\", n_jobs=8)\n",
    "\n",
    "# check\n",
    "assert np.allclose(np.abs(v_diff[order])[:k], np.abs(topkdiff))"
   ]
  },
  {
   "cell_type": "markdown",
   "metadata": {},
   "source": [
    "## Calculating p-values"
   ]
  },
  {
   "cell_type": "code",
   "execution_count": null,
   "metadata": {},
   "outputs": [],
   "source": [
    "# reusing correlation from the top-k example\n",
    "# runtime: ~5 sec with `n_jobs=8`\n",
    "from corals.correlation.topk.default import cor_topk\n",
    "cor_topk_values, cor_topk_coo = cor_topk(X, correlation_type=\"spearman\", k=0.001, n_jobs=8)\n",
    "\n",
    "from corals.correlation.utils import derive_pvalues, multiple_test_correction\n",
    "n_samples = X.shape[0]\n",
    "n_features = X.shape[1]\n",
    "\n",
    "# calculate p-values\n",
    "pvalues = derive_pvalues(cor_topk_values, n_samples)\n",
    "\n",
    "# multiple hypothesis correction\n",
    "pvalues_corrected = multiple_test_correction(pvalues, n_features, method=\"fdr_bh\")"
   ]
  },
  {
   "cell_type": "markdown",
   "metadata": {},
   "source": [
    "### Sanity check"
   ]
  },
  {
   "cell_type": "markdown",
   "metadata": {},
   "source": [
    "Also see: `tests/test_utils.py`."
   ]
  },
  {
   "cell_type": "code",
   "execution_count": null,
   "metadata": {},
   "outputs": [],
   "source": [
    "import scipy.stats\n",
    "\n",
    "# data\n",
    "XX = np.random.random((10, 5))\n",
    "\n",
    "# reference values\n",
    "correlations = []\n",
    "pvalues = []\n",
    "for i in range(XX.shape[1]):\n",
    "    for j in range(XX.shape[1]):\n",
    "        r, p = scipy.stats.pearsonr(XX[:,i], XX[:,j])\n",
    "        correlations.append(r)\n",
    "        pvalues.append(p)\n",
    "correlations = np.asarray(correlations)\n",
    "pvalues = np.asarray(pvalues)\n",
    "\n",
    "# CorALS\n",
    "derived_pvalues = derive_pvalues(correlations, XX.shape[0])\n",
    "\n",
    "# check\n",
    "assert np.all(np.isclose(pvalues, derived_pvalues))"
   ]
  },
  {
   "cell_type": "code",
   "execution_count": null,
   "metadata": {},
   "outputs": [],
   "source": [
    "# NOTE: requires `statsmodels` which is not part of the required packages of CorALS\n",
    "import statsmodels.stats.multitest\n",
    "rnd = np.random.RandomState(42)\n",
    "\n",
    "# data\n",
    "pvalues = rnd.random(4 * 4) / 10\n",
    "\n",
    "# data\n",
    "_, pvalues_bonferroni, _, _ = statsmodels.stats.multitest.multipletests(pvalues, method=\"bonferroni\")\n",
    "_, pvalues_fdr_bh, _, _ = statsmodels.stats.multitest.multipletests(pvalues, method=\"fdr_bh\")\n",
    "\n",
    "# CorALS\n",
    "pvalues_bonferroni_test = multiple_test_correction(pvalues.flatten(), 4, \"bonferroni\", minimal_pvalues=False)\n",
    "pvalues_fdr_bh_test = multiple_test_correction(pvalues.flatten(), 4, \"fdr_bh\", minimal_pvalues=False)\n",
    "\n",
    "# check\n",
    "assert np.array_equiv(pvalues_bonferroni, pvalues_bonferroni_test)\n",
    "assert np.array_equiv(pvalues_fdr_bh, pvalues_fdr_bh_test)"
   ]
  },
  {
   "attachments": {},
   "cell_type": "markdown",
   "metadata": {},
   "source": [
    "\n",
    "## Recommendations\n",
    "\n",
    "### Full correlation matrix calculation\n",
    "\n",
    "CorALS generally outperforms comparable full correlation matrix methods like `numpy.corrcoef`.\n",
    "Thus, we generally recommend using *CorALS* for full correlation matrix estimation as long as the final matrix fits into memory.\n",
    "Otherwise, top-k estimation may be a better choice.\n",
    "\n",
    "### Top-k correlation discovery\n",
    "\n",
    "For top-k correlation search, we recommend using the basic CorALS implementation (referred to as matrix in Table 3) as long as the full correlation matrix fits into memory, independent of the number of samples.\n",
    "\n",
    "However, as the number of features increases, memory issues will make this approach impossible to use. When this is the case, switching to the index based CorALS implementation is the best option.\n",
    "\n",
    "**Note 1**: With increasing sample numbers, CorALS becomes slower, which may warrant other heuristics such as dimensionality reduction such as locality sensitive hashing or random projections. However, this exploration is left for future work.\n",
    "\n",
    "**Note2**:  Note that, by default, the top-k approximation approach does not guarantee symmetric results, i.e., even if `cor(x, y)` is returned, `cor(y, x)` may be missing. This can be addressed by various post-processing steps, e.g., by adding missing values. CorALS provides the option to enable this feature."
   ]
  }
 ],
 "metadata": {
  "kernelspec": {
   "display_name": "Python 3",
   "language": "python",
   "name": "python3"
  },
  "language_info": {
   "name": "python",
   "version": "3.11.1"
  },
  "orig_nbformat": 4,
  "vscode": {
   "interpreter": {
    "hash": "e7370f93d1d0cde622a1f8e1c04877d8463912d04d973331ad4851f04de6915a"
   }
  }
 },
 "nbformat": 4,
 "nbformat_minor": 2
}
