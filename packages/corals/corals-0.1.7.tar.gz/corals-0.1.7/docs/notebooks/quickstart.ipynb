{
 "cells": [
  {
   "attachments": {},
   "cell_type": "markdown",
   "metadata": {},
   "source": [
    "# CorALS - Quickstart"
   ]
  },
  {
   "cell_type": "markdown",
   "metadata": {},
   "source": [
    "## Prepare parallelization\n",
    "\n",
    "Before running anything, we make sure that `numpy` will not  oversubscribe CPUs and slow things down.\n",
    "Note that this has to be executed **before importing `numpy`**.\n",
    "\n",
    "* For full correlation matrix calculation, setting `n_threads > 1` can be used to parallelize the calculation.\n",
    "* For the top-k approaches, setting `n_threads=1` makes the most sense, since parallelization is specified separately."
   ]
  },
  {
   "cell_type": "code",
   "execution_count": 1,
   "metadata": {},
   "outputs": [],
   "source": [
    "from corals.threads import set_threads_for_external_libraries\n",
    "set_threads_for_external_libraries(n_threads=1)"
   ]
  },
  {
   "cell_type": "markdown",
   "metadata": {},
   "source": [
    "## Load data"
   ]
  },
  {
   "cell_type": "code",
   "execution_count": 2,
   "metadata": {},
   "outputs": [],
   "source": [
    "import numpy as np\n",
    "\n",
    "# create random data\n",
    "n_features = 20000\n",
    "n_samples = 50\n",
    "X = np.random.random((n_samples, n_features))"
   ]
  },
  {
   "cell_type": "markdown",
   "metadata": {},
   "source": [
    "## Full correlation matrix computation"
   ]
  },
  {
   "cell_type": "code",
   "execution_count": 3,
   "metadata": {},
   "outputs": [],
   "source": [
    "# runtime: ~2 sec\n",
    "from corals.correlation.full.default import cor_full\n",
    "cor_values = cor_full(X)"
   ]
  },
  {
   "cell_type": "markdown",
   "metadata": {},
   "source": [
    "## Top-k correlation matrix computation using Spearman correlation"
   ]
  },
  {
   "cell_type": "code",
   "execution_count": 4,
   "metadata": {},
   "outputs": [],
   "source": [
    "# runtime: ~20 sec with `n_jobs=8`\n",
    "from corals.correlation.topk.default import cor_topk\n",
    "cor_topk_result = cor_topk(X, k=0.001, correlation_type=\"spearman\", n_jobs=8)"
   ]
  },
  {
   "cell_type": "markdown",
   "metadata": {},
   "source": [
    "## Top-k differential correlation matrix computation using Spearman correlation"
   ]
  },
  {
   "cell_type": "code",
   "execution_count": null,
   "metadata": {},
   "outputs": [],
   "source": [
    "# generate some more data\n",
    "X1 = X\n",
    "X2 = np.random.random((n_samples, n_features))"
   ]
  },
  {
   "cell_type": "code",
   "execution_count": null,
   "metadata": {},
   "outputs": [],
   "source": [
    "from corals.correlation.topkdiff.default import cor_topkdiff\n",
    "cor_topkdiff_result = cor_topkdiff(X1, X2, k=0.001, correlation_type=\"spearman\", n_jobs=8)"
   ]
  },
  {
   "cell_type": "markdown",
   "metadata": {},
   "source": [
    "## Calculating p-values"
   ]
  },
  {
   "cell_type": "code",
   "execution_count": null,
   "metadata": {},
   "outputs": [],
   "source": [
    "\n",
    "# reusing correlation from the top-k example\n",
    "# runtime: ~5 sec with `n_jobs=8`\n",
    "from corals.correlation.topk.default import cor_topk\n",
    "cor_topk_values, cor_topk_coo = cor_topk(X, correlation_type=\"spearman\", k=0.001, n_jobs=8)\n",
    "\n",
    "from corals.correlation.utils import derive_pvalues, multiple_test_correction\n",
    "n_samples = X.shape[0]\n",
    "n_features = X.shape[1]\n",
    "\n",
    "# calculate p-values\n",
    "pvalues = derive_pvalues(cor_topk_values, n_samples)\n",
    "\n",
    "# multiple hypothesis correction\n",
    "pvalues_corrected = multiple_test_correction(pvalues, n_features, method=\"fdr_bh\")"
   ]
  }
 ],
 "metadata": {
  "kernelspec": {
   "display_name": "Python 3",
   "language": "python",
   "name": "python3"
  },
  "language_info": {
   "codemirror_mode": {
    "name": "ipython",
    "version": 3
   },
   "file_extension": ".py",
   "mimetype": "text/x-python",
   "name": "python",
   "nbconvert_exporter": "python",
   "pygments_lexer": "ipython3",
   "version": "3.9.1"
  },
  "vscode": {
   "interpreter": {
    "hash": "e7370f93d1d0cde622a1f8e1c04877d8463912d04d973331ad4851f04de6915a"
   }
  }
 },
 "nbformat": 4,
 "nbformat_minor": 4
}
