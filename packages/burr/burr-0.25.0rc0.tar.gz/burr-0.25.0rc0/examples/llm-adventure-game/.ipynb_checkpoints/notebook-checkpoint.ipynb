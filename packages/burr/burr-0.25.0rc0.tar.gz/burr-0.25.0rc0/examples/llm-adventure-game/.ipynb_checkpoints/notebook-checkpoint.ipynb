{
 "cells": [
  {
   "cell_type": "code",
   "source": [
    "!pip install burr"
   ],
   "metadata": {
    "collapsed": false
   },
   "id": "4f3d7770f0dd01d8",
   "execution_count": null,
   "outputs": []
  },
  {
   "cell_type": "markdown",
   "source": [
    "# LLM-based adventure game\n",
    "\n",
    "This is a simple example of an LLM-based adventure game. You can see the code in [application.py](application.py)."
   ],
   "metadata": {},
   "id": "00d77a51-a6ec-40d6-ae20-01f5ab2e6981"
  },
  {
   "cell_type": "code",
   "execution_count": 1,
   "id": "d6c1f3b5-620c-46f6-bf11-dac98b80ce10",
   "metadata": {},
   "source": [
    "from application import application as llm_adventure_game_app"
   ],
   "outputs": []
  },
  {
   "cell_type": "code",
   "execution_count": 2,
   "id": "a4320dc7-2232-4d78-b197-b18c2d51b002",
   "metadata": {},
   "source": [
    "app = llm_adventure_game_app()\n",
    "app.visualize(include_conditions=True)"
   ],
   "outputs": []
  },
  {
   "cell_type": "code",
   "execution_count": null,
   "id": "7a0081cb-1574-44ad-8b0e-8ecbe062eefc",
   "metadata": {},
   "source": [
    "app.run(halt_after=['win'])"
   ],
   "outputs": []
  }
 ],
 "metadata": {
  "kernelspec": {
   "display_name": "Python 3 (ipykernel)",
   "language": "python",
   "name": "python3"
  },
  "language_info": {
   "codemirror_mode": {
    "name": "ipython",
    "version": 3
   },
   "file_extension": ".py",
   "mimetype": "text/x-python",
   "name": "python",
   "nbconvert_exporter": "python",
   "pygments_lexer": "ipython3",
   "version": "3.11.6"
  }
 },
 "nbformat": 4,
 "nbformat_minor": 5
}
