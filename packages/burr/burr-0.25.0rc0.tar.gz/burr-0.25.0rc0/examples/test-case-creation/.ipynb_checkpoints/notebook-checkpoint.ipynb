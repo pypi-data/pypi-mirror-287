{
 "cells": [
  {
   "cell_type": "code",
   "execution_count": null,
   "id": "af165506-cc16-485c-8875-f1ec55dd94b5",
   "metadata": {},
   "source": [
    "!pip install burr"
   ],
   "outputs": []
  },
  {
   "cell_type": "code",
   "execution_count": 1,
   "id": "5cc77bd80999b2a2",
   "metadata": {
    "ExecuteTime": {
     "end_time": "2024-04-01T05:29:38.960440Z",
     "start_time": "2024-04-01T05:29:37.926490Z"
    },
    "collapsed": false,
    "jupyter": {
     "outputs_hidden": false
    }
   },
   "source": [
    "%%sh \n",
    "burr-test-case create --help"
   ],
   "outputs": []
  },
  {
   "cell_type": "markdown",
   "id": "944a988132d19779",
   "metadata": {
    "collapsed": false,
    "jupyter": {
     "outputs_hidden": false
    }
   },
   "source": [
    "# Create a test case\n",
    "\n",
    "Find the data you want to create a test case with in the UI."
   ]
  },
  {
   "cell_type": "code",
   "execution_count": 4,
   "id": "586bcb0bdb5dde8b",
   "metadata": {
    "ExecuteTime": {
     "end_time": "2024-04-01T06:16:19.392833Z",
     "start_time": "2024-04-01T06:16:18.000721Z"
    },
    "collapsed": false,
    "jupyter": {
     "outputs_hidden": false
    }
   },
   "source": [
    "%%sh\n",
    "burr-test-case create \\\n",
    "     --project-name \"SOME_PROJECT\" \n",
    "     --partition-key \"SOME_KEY\" \\\n",
    "     --app-id \"SOME_ID\" \\\n",
    "     --sequence-id 0 \\\n",
    "     --target-file-name /tmp/test-case.json"
   ],
   "outputs": []
  },
  {
   "cell_type": "markdown",
   "id": "3ac9d600d0807fc8",
   "metadata": {
    "collapsed": false,
    "jupyter": {
     "outputs_hidden": false
    }
   },
   "source": [
    "# What's next?\n",
    " \n",
    "## See `test_application.py` for code that enables you to run the test case like this.\n",
    "\n",
    "## Fill in the expected state part of the JSON\n",
    "The expected state part of the JSON is empty. You need to fill it in with the expected state of the application after the test case has been run. Once you've\n",
    "done that, you've got your test case!\n"
   ]
  },
  {
   "cell_type": "code",
   "execution_count": null,
   "id": "a727cdc01303cd39",
   "metadata": {
    "collapsed": false,
    "jupyter": {
     "outputs_hidden": false
    }
   },
   "source": [],
   "outputs": []
  }
 ],
 "metadata": {
  "kernelspec": {
   "display_name": "Python 3 (ipykernel)",
   "language": "python",
   "name": "python3"
  },
  "language_info": {
   "codemirror_mode": {
    "name": "ipython",
    "version": 3
   },
   "file_extension": ".py",
   "mimetype": "text/x-python",
   "name": "python",
   "nbconvert_exporter": "python",
   "pygments_lexer": "ipython3",
   "version": "3.10.4"
  }
 },
 "nbformat": 4,
 "nbformat_minor": 5
}
