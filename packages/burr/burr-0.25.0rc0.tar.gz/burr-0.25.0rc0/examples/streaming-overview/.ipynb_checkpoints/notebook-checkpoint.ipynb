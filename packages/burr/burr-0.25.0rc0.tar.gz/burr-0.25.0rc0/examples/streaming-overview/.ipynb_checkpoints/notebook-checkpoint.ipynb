{
 "cells": [
  {
   "cell_type": "code",
   "execution_count": null,
   "id": "1ce738e6-14b4-4892-9f2d-a1db94cfb29a",
   "metadata": {},
   "source": [
    "!pip install burr"
   ],
   "outputs": []
  },
  {
   "cell_type": "markdown",
   "id": "2118a2f4-d969-4771-81d3-156b432d1dc8",
   "metadata": {},
   "source": [
    "# Streaming applications\n",
    "\n",
    "This shows how one goes about working with a streaming response with Burr. \n",
    "The code for implementation is in [application.py](application.py)."
   ]
  },
  {
   "cell_type": "code",
   "execution_count": 4,
   "id": "5b53de32-86af-475f-8976-e88a08986e34",
   "metadata": {},
   "source": [
    "from application import application as streaming_application\n",
    "from application import TERMINAL_ACTIONS"
   ],
   "outputs": []
  },
  {
   "cell_type": "code",
   "execution_count": 2,
   "id": "f2525edd-9f0c-45c3-84c0-d97512620eb8",
   "metadata": {},
   "source": [
    "app = streaming_application()"
   ],
   "outputs": []
  },
  {
   "cell_type": "code",
   "execution_count": 3,
   "id": "81799877-8f0f-4572-9a96-f6ce6c430d9a",
   "metadata": {},
   "source": [
    "app.visualize()"
   ],
   "outputs": []
  },
  {
   "cell_type": "code",
   "execution_count": 7,
   "id": "f6b7a4cd-a7f8-45db-952c-2cbf0f88e1ae",
   "metadata": {},
   "source": [
    "print(\"all terminal actions: \", TERMINAL_ACTIONS)"
   ],
   "outputs": []
  },
  {
   "cell_type": "markdown",
   "id": "6f57c117-8951-4f98-86eb-ea1eac16347b",
   "metadata": {},
   "source": [
    "# Calling the application\n",
    "\n",
    "With streaming, we get back a `StreamingResultContainer`. This allows us to get partial results, while also allowing us to get the full result.\n",
    "In the following case, we just "
   ]
  },
  {
   "cell_type": "code",
   "execution_count": 14,
   "id": "eeb23b59-e207-47b1-b500-b60d431396f8",
   "metadata": {},
   "source": [
    "action, streaming_container = app.stream_result(\n",
    "    halt_after=TERMINAL_ACTIONS, inputs={\"prompt\": \"What is the longest sentence you can think of that isn't a run-on?\"}\n",
    ")\n",
    "if action.streaming:\n",
    "    for item in streaming_container:\n",
    "        print(item['response']['content'])\n",
    "    print(streaming_container.get())\n",
    "else:\n",
    "    print(streaming_container.get()[0][\"response\"])"
   ],
   "outputs": []
  }
 ],
 "metadata": {
  "kernelspec": {
   "display_name": "Python 3 (ipykernel)",
   "language": "python",
   "name": "python3"
  },
  "language_info": {
   "codemirror_mode": {
    "name": "ipython",
    "version": 3
   },
   "file_extension": ".py",
   "mimetype": "text/x-python",
   "name": "python",
   "nbconvert_exporter": "python",
   "pygments_lexer": "ipython3",
   "version": "3.10.4"
  }
 },
 "nbformat": 4,
 "nbformat_minor": 5
}
