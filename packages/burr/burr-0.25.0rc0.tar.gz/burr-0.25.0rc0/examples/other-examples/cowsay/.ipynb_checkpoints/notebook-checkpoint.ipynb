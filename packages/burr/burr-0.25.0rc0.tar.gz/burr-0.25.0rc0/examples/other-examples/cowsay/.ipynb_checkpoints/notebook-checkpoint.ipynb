{
 "cells": [
  {
   "cell_type": "code",
   "execution_count": null,
   "id": "f514e2d9-b31a-42bb-94c8-4476e4abb305",
   "metadata": {},
   "source": [
    "!pip install burr"
   ],
   "outputs": []
  },
  {
   "cell_type": "code",
   "execution_count": 1,
   "id": "initial_id",
   "metadata": {
    "ExecuteTime": {
     "end_time": "2024-03-27T00:12:50.561804Z",
     "start_time": "2024-03-27T00:12:50.531039Z"
    },
    "collapsed": true,
    "jupyter": {
     "outputs_hidden": true
    }
   },
   "source": [
    "import random\n",
    "import time\n",
    "from typing import Tuple\n",
    "\n",
    "import cowsay\n",
    "\n",
    "from burr.core import Action, Application, ApplicationBuilder, State, default, expr\n",
    "from burr.core.action import action\n",
    "from burr.lifecycle import PostRunStepHook"
   ],
   "outputs": []
  },
  {
   "cell_type": "code",
   "execution_count": 3,
   "id": "9f5b9bfc78851a59",
   "metadata": {
    "ExecuteTime": {
     "end_time": "2024-03-27T00:13:03.529875Z",
     "start_time": "2024-03-27T00:13:03.524449Z"
    },
    "collapsed": false,
    "jupyter": {
     "outputs_hidden": false
    }
   },
   "source": [
    "# create some hooks!\n",
    "class PrintWhatTheCowSaid(PostRunStepHook):\n",
    "    def post_run_step(self, *, state: \"State\", action: \"Action\", **future_kwargs):\n",
    "        if action.name != \"cow_should_say\" and state[\"cow_said\"] is not None:\n",
    "            print(state[\"cow_said\"])\n",
    "\n",
    "\n",
    "class CowCantSpeakFast(PostRunStepHook):\n",
    "    def __init__(self, sleep_time: float):\n",
    "        super(PostRunStepHook, self).__init__()\n",
    "        self.sleep_time = sleep_time\n",
    "\n",
    "    def post_run_step(self, *, state: \"State\", action: \"Action\", **future_kwargs):\n",
    "        if action.name != \"cow_should_say\":  # no need to print if we're not saying anything\n",
    "            time.sleep(self.sleep_time)"
   ],
   "outputs": []
  },
  {
   "cell_type": "code",
   "execution_count": 4,
   "id": "5b29e9de2ca536b9",
   "metadata": {
    "ExecuteTime": {
     "end_time": "2024-03-27T00:13:12.756137Z",
     "start_time": "2024-03-27T00:13:12.750764Z"
    },
    "collapsed": false,
    "jupyter": {
     "outputs_hidden": false
    }
   },
   "source": [
    "# instantiate actions\n",
    "@action(reads=[], writes=[\"cow_said\"])\n",
    "def cow_said(state: State, say_what: list[str]) -> Tuple[dict, State]:\n",
    "    said = random.choice(say_what)\n",
    "    result = {\"cow_said\": cowsay.get_output_string(\"cow\", said) if say_what is not None else None}\n",
    "    return result, state.update(**result)\n",
    "\n",
    "\n",
    "@action(reads=[], writes=[\"cow_should_speak\"])\n",
    "def cow_should_speak(state: State) -> Tuple[dict, State]:\n",
    "    result = {\"cow_should_speak\": random.randint(0, 3) == 0}\n",
    "    return result, state.update(**result)\n"
   ],
   "outputs": []
  },
  {
   "cell_type": "code",
   "execution_count": 5,
   "id": "271b868317fbbdf4",
   "metadata": {
    "ExecuteTime": {
     "end_time": "2024-03-27T00:14:10.836543Z",
     "start_time": "2024-03-27T00:14:10.829258Z"
    },
    "collapsed": false,
    "jupyter": {
     "outputs_hidden": false
    }
   },
   "source": [
    "# build application\n",
    "hooks = [\n",
    "    PrintWhatTheCowSaid(),\n",
    "    CowCantSpeakFast(sleep_time=2.0),\n",
    "]\n",
    "        \n",
    "app = (ApplicationBuilder()\n",
    "    .with_state(cow_said=None)\n",
    "    .with_actions(\n",
    "        say_nothing=cow_said.bind(say_what=None),\n",
    "        say_hello=cow_said.bind(\n",
    "            say_what=[\"Hello world!\", \"What's up?\", \"Are you Aaron Burr, sir?\"]\n",
    "        ),\n",
    "        cow_should_speak=cow_should_speak,\n",
    "    )\n",
    "    .with_transitions(\n",
    "        (\"cow_should_speak\", \"say_hello\", expr(\"cow_should_speak\")),\n",
    "        (\"say_hello\", \"cow_should_speak\", default),\n",
    "        (\"cow_should_speak\", \"say_nothing\", expr(\"not cow_should_speak\")),\n",
    "        (\"say_nothing\", \"cow_should_speak\", default),\n",
    "    )\n",
    "    .with_entrypoint(\"cow_should_speak\")\n",
    "    .with_hooks(*hooks)\n",
    "    .build()\n",
    ")"
   ],
   "outputs": []
  },
  {
   "cell_type": "code",
   "execution_count": 6,
   "id": "794bc0abda9e48ad",
   "metadata": {
    "ExecuteTime": {
     "end_time": "2024-03-27T00:14:29.829383Z",
     "start_time": "2024-03-27T00:14:29.511355Z"
    },
    "collapsed": false,
    "jupyter": {
     "outputs_hidden": false
    }
   },
   "source": [
    "app.visualize(include_conditions=True)"
   ],
   "outputs": []
  },
  {
   "cell_type": "code",
   "execution_count": 11,
   "id": "2facfb753233cd7d",
   "metadata": {
    "ExecuteTime": {
     "end_time": "2024-03-27T00:16:40.234406Z",
     "start_time": "2024-03-27T00:16:32.211734Z"
    },
    "collapsed": false,
    "jupyter": {
     "outputs_hidden": false
    }
   },
   "source": [
    "# run things!\n",
    "for i in range(0, 4):\n",
    "    # step through 4 times\n",
    "    a_obj, result, state = app.step()"
   ],
   "outputs": []
  },
  {
   "cell_type": "code",
   "execution_count": 16,
   "id": "fed65721e7cc457a",
   "metadata": {
    "ExecuteTime": {
     "end_time": "2024-03-27T00:17:18.640978Z",
     "start_time": "2024-03-27T00:17:10.619878Z"
    },
    "collapsed": false,
    "jupyter": {
     "outputs_hidden": false
    }
   },
   "source": [
    "# Run some more\n",
    "for i in range(0, 4):\n",
    "    # step through 4 times\n",
    "    a_obj, result, state = app.step()"
   ],
   "outputs": []
  },
  {
   "cell_type": "code",
   "execution_count": null,
   "id": "19095ae96e98fd83",
   "metadata": {
    "collapsed": false,
    "jupyter": {
     "outputs_hidden": false
    }
   },
   "source": [],
   "outputs": []
  }
 ],
 "metadata": {
  "kernelspec": {
   "display_name": "Python 3 (ipykernel)",
   "language": "python",
   "name": "python3"
  },
  "language_info": {
   "codemirror_mode": {
    "name": "ipython",
    "version": 3
   },
   "file_extension": ".py",
   "mimetype": "text/x-python",
   "name": "python",
   "nbconvert_exporter": "python",
   "pygments_lexer": "ipython3",
   "version": "3.10.4"
  }
 },
 "nbformat": 4,
 "nbformat_minor": 5
}
