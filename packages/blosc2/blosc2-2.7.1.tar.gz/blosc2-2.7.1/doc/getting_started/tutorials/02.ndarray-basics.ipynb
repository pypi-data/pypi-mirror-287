{
 "cells": [
  {
   "cell_type": "markdown",
   "metadata": {},
   "source": [
    "# NDArray: mutidimensional SChunk\n",
    "\n",
    "NDArray functions let users perform different operations with NDArray arrays like setting, copying or slicing them.\n",
    "In this section, we are going to see how to create and manipulate a NDArray array in a simple way.\n"
   ]
  },
  {
   "cell_type": "code",
   "execution_count": 1,
   "metadata": {
    "ExecuteTime": {
     "end_time": "2024-02-01T13:48:41.426033Z",
     "start_time": "2024-02-01T13:48:39.730441Z"
    }
   },
   "outputs": [],
   "source": [
    "import blosc2\n",
    "import numpy as np"
   ]
  },
  {
   "cell_type": "markdown",
   "metadata": {},
   "source": [
    "## Creating an array\n",
    "First, we create an array, with zeros being used as the default value for uninitialized portions of the array.\n"
   ]
  },
  {
   "cell_type": "code",
   "execution_count": 2,
   "metadata": {
    "ExecuteTime": {
     "end_time": "2024-02-01T13:48:41.445534Z",
     "start_time": "2024-02-01T13:48:41.438272Z"
    }
   },
   "outputs": [
    {
     "name": "stdout",
     "output_type": "stream",
     "text": [
      "type    : NDArray\n",
      "shape   : (10000, 10000)\n",
      "chunks  : (512, 1024)\n",
      "blocks  : (128, 256)\n",
      "dtype   : int32\n",
      "cratio  : 65536.00\n",
      "cparams : {'blocksize': 131072,\n",
      " 'clevel': 1,\n",
      " 'codec': <Codec.ZSTD: 5>,\n",
      " 'codec_meta': 0,\n",
      " 'filters': [<Filter.NOFILTER: 0>,\n",
      "             <Filter.NOFILTER: 0>,\n",
      "             <Filter.NOFILTER: 0>,\n",
      "             <Filter.NOFILTER: 0>,\n",
      "             <Filter.NOFILTER: 0>,\n",
      "             <Filter.SHUFFLE: 1>],\n",
      " 'filters_meta': [0, 0, 0, 0, 0, 0],\n",
      " 'nthreads': 6,\n",
      " 'splitmode': <SplitMode.ALWAYS_SPLIT: 1>,\n",
      " 'typesize': 4,\n",
      " 'use_dict': 0}\n",
      "dparams : {'nthreads': 6}\n"
     ]
    }
   ],
   "source": [
    "array = blosc2.zeros((10000, 10000), dtype=np.int32)\n",
    "print(array.info)"
   ]
  },
  {
   "cell_type": "markdown",
   "metadata": {},
   "source": [
    "Note that all the compression and decompression parameters, as well as the chunks and blocks shapes are set to the default.\n",
    "\n",
    "## Reading and writing data\n",
    "We can access and edit NDArray arrays using NumPy."
   ]
  },
  {
   "cell_type": "code",
   "execution_count": 3,
   "metadata": {
    "ExecuteTime": {
     "end_time": "2024-02-01T13:48:41.497932Z",
     "start_time": "2024-02-01T13:48:41.459032Z"
    }
   },
   "outputs": [],
   "source": [
    "array[0, :] = np.arange(10000, dtype=array.dtype)\n",
    "array[:, 0] = np.arange(10000, dtype=array.dtype)"
   ]
  },
  {
   "cell_type": "code",
   "execution_count": 4,
   "metadata": {
    "ExecuteTime": {
     "end_time": "2024-02-01T13:48:41.499948Z",
     "start_time": "2024-02-01T13:48:41.473018Z"
    }
   },
   "outputs": [
    {
     "data": {
      "text/plain": "array(0, dtype=int32)"
     },
     "execution_count": 4,
     "metadata": {},
     "output_type": "execute_result"
    }
   ],
   "source": [
    "array[0, 0]"
   ]
  },
  {
   "cell_type": "code",
   "execution_count": 5,
   "metadata": {
    "ExecuteTime": {
     "end_time": "2024-02-01T13:48:41.540871Z",
     "start_time": "2024-02-01T13:48:41.484602Z"
    }
   },
   "outputs": [
    {
     "data": {
      "text/plain": "array([   0,    1,    2, ..., 9997, 9998, 9999], dtype=int32)"
     },
     "execution_count": 5,
     "metadata": {},
     "output_type": "execute_result"
    }
   ],
   "source": [
    "array[0, :]"
   ]
  },
  {
   "cell_type": "code",
   "execution_count": 6,
   "metadata": {
    "ExecuteTime": {
     "end_time": "2024-02-01T13:48:41.541970Z",
     "start_time": "2024-02-01T13:48:41.494320Z"
    }
   },
   "outputs": [
    {
     "data": {
      "text/plain": "array([   0,    1,    2, ..., 9997, 9998, 9999], dtype=int32)"
     },
     "execution_count": 6,
     "metadata": {},
     "output_type": "execute_result"
    }
   ],
   "source": [
    "array[:, 0]"
   ]
  },
  {
   "cell_type": "markdown",
   "metadata": {},
   "source": [
    "## Persistent data\n",
    "As in the SChunk, when we create a NDArray array, we can specify where it will be stored. Indeed, we can specify all the compression/decompression parameters that we can specify in a SChunk.\n",
    "So as in the SChunk, to store an array on-disk we only have to specify a `urlpath` where to store the new array.\n"
   ]
  },
  {
   "cell_type": "code",
   "execution_count": 7,
   "metadata": {
    "ExecuteTime": {
     "end_time": "2024-02-01T13:48:41.592610Z",
     "start_time": "2024-02-01T13:48:41.581711Z"
    }
   },
   "outputs": [
    {
     "name": "stdout",
     "output_type": "stream",
     "text": [
      "type    : NDArray\n",
      "shape   : (1000, 1000)\n",
      "chunks  : (100, 100)\n",
      "blocks  : (50, 50)\n",
      "dtype   : |S4\n",
      "cratio  : 1111.11\n",
      "cparams : {'blocksize': 10000,\n",
      " 'clevel': 1,\n",
      " 'codec': <Codec.ZSTD: 5>,\n",
      " 'codec_meta': 0,\n",
      " 'filters': [<Filter.NOFILTER: 0>,\n",
      "             <Filter.NOFILTER: 0>,\n",
      "             <Filter.NOFILTER: 0>,\n",
      "             <Filter.NOFILTER: 0>,\n",
      "             <Filter.NOFILTER: 0>,\n",
      "             <Filter.SHUFFLE: 1>],\n",
      " 'filters_meta': [0, 0, 0, 0, 0, 0],\n",
      " 'nthreads': 6,\n",
      " 'splitmode': <SplitMode.ALWAYS_SPLIT: 1>,\n",
      " 'typesize': 4,\n",
      " 'use_dict': 0}\n",
      "dparams : {'nthreads': 6}\n"
     ]
    }
   ],
   "source": [
    "array = blosc2.full((1000, 1000), fill_value=b\"pepe\", chunks=(100, 100), blocks=(50, 50),\n",
    "             urlpath=\"ndarray_tutorial.b2nd\", mode=\"w\")\n",
    "print(array.info)"
   ]
  },
  {
   "cell_type": "markdown",
   "metadata": {},
   "source": [
    "This time we even set the chunks and blocks shapes. You can now open it with modes `w`, `a` or `r`."
   ]
  },
  {
   "cell_type": "code",
   "execution_count": 8,
   "metadata": {
    "ExecuteTime": {
     "end_time": "2024-02-01T13:48:41.593734Z",
     "start_time": "2024-02-01T13:48:41.586251Z"
    }
   },
   "outputs": [
    {
     "name": "stdout",
     "output_type": "stream",
     "text": [
      "type    : NDArray\n",
      "shape   : (1000, 1000)\n",
      "chunks  : (100, 100)\n",
      "blocks  : (50, 50)\n",
      "dtype   : |S4\n",
      "cratio  : 1111.11\n",
      "cparams : {'blocksize': 10000,\n",
      " 'clevel': 1,\n",
      " 'codec': <Codec.ZSTD: 5>,\n",
      " 'codec_meta': 0,\n",
      " 'filters': [<Filter.NOFILTER: 0>,\n",
      "             <Filter.NOFILTER: 0>,\n",
      "             <Filter.NOFILTER: 0>,\n",
      "             <Filter.NOFILTER: 0>,\n",
      "             <Filter.NOFILTER: 0>,\n",
      "             <Filter.SHUFFLE: 1>],\n",
      " 'filters_meta': [0, 0, 0, 0, 0, 0],\n",
      " 'nthreads': 6,\n",
      " 'splitmode': <SplitMode.ALWAYS_SPLIT: 1>,\n",
      " 'typesize': 4,\n",
      " 'use_dict': 0}\n",
      "dparams : {'nthreads': 6}\n"
     ]
    }
   ],
   "source": [
    "array2 = blosc2.open(\"ndarray_tutorial.b2nd\")\n",
    "print(array2.info)"
   ]
  },
  {
   "cell_type": "markdown",
   "metadata": {},
   "source": [
    "## Compression params\n",
    "Here we can see how when we make a copy of a NDArray array we can change its compression parameters in an easy way."
   ]
  },
  {
   "cell_type": "code",
   "execution_count": 9,
   "metadata": {
    "ExecuteTime": {
     "end_time": "2024-02-01T13:48:41.679224Z",
     "start_time": "2024-02-01T13:48:41.591484Z"
    }
   },
   "outputs": [
    {
     "name": "stdout",
     "output_type": "stream",
     "text": [
      "type    : NDArray\n",
      "shape   : (1000, 1000)\n",
      "chunks  : (500, 10)\n",
      "blocks  : (50, 10)\n",
      "dtype   : int64\n",
      "cratio  : 7.45\n",
      "cparams : {'blocksize': 4000,\n",
      " 'clevel': 1,\n",
      " 'codec': <Codec.ZSTD: 5>,\n",
      " 'codec_meta': 0,\n",
      " 'filters': [<Filter.NOFILTER: 0>,\n",
      "             <Filter.NOFILTER: 0>,\n",
      "             <Filter.NOFILTER: 0>,\n",
      "             <Filter.NOFILTER: 0>,\n",
      "             <Filter.NOFILTER: 0>,\n",
      "             <Filter.SHUFFLE: 1>],\n",
      " 'filters_meta': [0, 0, 0, 0, 0, 0],\n",
      " 'nthreads': 6,\n",
      " 'splitmode': <SplitMode.ALWAYS_SPLIT: 1>,\n",
      " 'typesize': 8,\n",
      " 'use_dict': 0}\n",
      "dparams : {'nthreads': 6}\n"
     ]
    }
   ],
   "source": [
    "b = np.arange(1000000).tobytes()\n",
    "array1 = blosc2.frombuffer(b, shape=(1000, 1000), dtype=np.int64, chunks=(500, 10), blocks=(50, 10))\n",
    "print(array1.info)"
   ]
  },
  {
   "cell_type": "code",
   "execution_count": 10,
   "metadata": {
    "ExecuteTime": {
     "end_time": "2024-02-01T13:48:42.618064Z",
     "start_time": "2024-02-01T13:48:42.598309Z"
    }
   },
   "outputs": [
    {
     "name": "stdout",
     "output_type": "stream",
     "text": [
      "type    : NDArray\n",
      "shape   : (1000, 1000)\n",
      "chunks  : (500, 10)\n",
      "blocks  : (50, 10)\n",
      "dtype   : int64\n",
      "cratio  : 13.94\n",
      "cparams : {'blocksize': 4000,\n",
      " 'clevel': 9,\n",
      " 'codec': <Codec.ZSTD: 5>,\n",
      " 'codec_meta': 0,\n",
      " 'filters': [<Filter.BITSHUFFLE: 2>,\n",
      "             <Filter.NOFILTER: 0>,\n",
      "             <Filter.NOFILTER: 0>,\n",
      "             <Filter.NOFILTER: 0>,\n",
      "             <Filter.NOFILTER: 0>,\n",
      "             <Filter.NOFILTER: 0>],\n",
      " 'filters_meta': [0, 0, 0, 0, 0, 0],\n",
      " 'nthreads': 6,\n",
      " 'splitmode': <SplitMode.ALWAYS_SPLIT: 1>,\n",
      " 'typesize': 8,\n",
      " 'use_dict': 0}\n",
      "dparams : {'nthreads': 6}\n"
     ]
    }
   ],
   "source": [
    "cparams = {\n",
    "    \"codec\": blosc2.Codec.ZSTD,\n",
    "    \"clevel\": 9,\n",
    "    \"filters\": [blosc2.Filter.BITSHUFFLE],\n",
    "    \"filters_meta\": [0]\n",
    "}\n",
    "\n",
    "array2 = array1.copy(chunks=(500, 10), blocks=(50, 10), cparams=cparams)\n",
    "print(array2.info)"
   ]
  },
  {
   "cell_type": "markdown",
   "metadata": {},
   "source": [
    "## Metalayers and variable length metalayers\n",
    "\n",
    "We have seen that you can pass to the NDArray constructor any compression or decompression parameters that you may pass to a SChunk. Indeed, you can also pass the metalayer dict. Metalayers are small metadata for informing about the properties of data that is stored on a container. As explained in [the SChunk basics](00.schunk-basics.html), there are two kinds. The first one (`meta`), cannot be deleted, must be added at construction time and can only be updated with values that have the same bytes size as the old value. They are easy to access and edit by users:"
   ]
  },
  {
   "cell_type": "code",
   "execution_count": 11,
   "metadata": {
    "ExecuteTime": {
     "end_time": "2024-02-01T13:48:42.619267Z",
     "start_time": "2024-02-01T13:48:42.608433Z"
    }
   },
   "outputs": [],
   "source": [
    "meta = {\n",
    "    \"dtype\": \"i8\",\n",
    "    \"coords\": [5.14, 23.]\n",
    "}\n",
    "array = blosc2.zeros((1000, 1000), dtype=np.int16, chunks=(100, 100), blocks=(50, 50), meta=meta)"
   ]
  },
  {
   "cell_type": "markdown",
   "metadata": {},
   "source": [
    "You can work with them like if you were working with a dictionary. To access this dictionary you will use the SChunk attribute that an NDArray has."
   ]
  },
  {
   "cell_type": "code",
   "execution_count": 12,
   "metadata": {
    "ExecuteTime": {
     "end_time": "2024-02-01T13:48:42.690125Z",
     "start_time": "2024-02-01T13:48:42.617894Z"
    }
   },
   "outputs": [
    {
     "data": {
      "text/plain": "<blosc2.schunk.Meta at 0x10cdff800>"
     },
     "execution_count": 12,
     "metadata": {},
     "output_type": "execute_result"
    }
   ],
   "source": [
    "array.schunk.meta"
   ]
  },
  {
   "cell_type": "code",
   "execution_count": 13,
   "metadata": {
    "ExecuteTime": {
     "end_time": "2024-02-01T13:48:42.691496Z",
     "start_time": "2024-02-01T13:48:42.627564Z"
    }
   },
   "outputs": [
    {
     "data": {
      "text/plain": "['b2nd', 'dtype', 'coords']"
     },
     "execution_count": 13,
     "metadata": {},
     "output_type": "execute_result"
    }
   ],
   "source": [
    "array.schunk.meta.keys()"
   ]
  },
  {
   "cell_type": "markdown",
   "metadata": {},
   "source": [
    "As you can see, Blosc2 internally uses these metalayers to store shapes, ndim, dtype, etc, and retrieve this data when needed in the `b2nd` metalayer."
   ]
  },
  {
   "cell_type": "code",
   "execution_count": 14,
   "metadata": {
    "ExecuteTime": {
     "end_time": "2024-02-01T13:48:42.694278Z",
     "start_time": "2024-02-01T13:48:42.635275Z"
    }
   },
   "outputs": [
    {
     "data": {
      "text/plain": "[0, 2, [1000, 1000], [100, 100], [50, 50], 0, '<i2']"
     },
     "execution_count": 14,
     "metadata": {},
     "output_type": "execute_result"
    }
   ],
   "source": [
    "array.schunk.meta[\"b2nd\"]"
   ]
  },
  {
   "cell_type": "code",
   "execution_count": 15,
   "metadata": {
    "ExecuteTime": {
     "end_time": "2024-02-01T13:48:42.712810Z",
     "start_time": "2024-02-01T13:48:42.643393Z"
    }
   },
   "outputs": [
    {
     "data": {
      "text/plain": "[5.14, 23.0]"
     },
     "execution_count": 15,
     "metadata": {},
     "output_type": "execute_result"
    }
   ],
   "source": [
    "array.schunk.meta[\"coords\"]"
   ]
  },
  {
   "cell_type": "markdown",
   "metadata": {},
   "source": [
    "To add a metalayer after the creation or a variable length metalayer, you can use the `vlmeta` accessor from the SChunk. As well as the `meta`, it works similarly to a dictionary."
   ]
  },
  {
   "cell_type": "code",
   "execution_count": 16,
   "metadata": {
    "ExecuteTime": {
     "end_time": "2024-02-01T13:48:42.802674Z",
     "start_time": "2024-02-01T13:48:42.649615Z"
    }
   },
   "outputs": [
    {
     "name": "stdout",
     "output_type": "stream",
     "text": [
      "{}\n"
     ]
    },
    {
     "data": {
      "text/plain": "{b'info1': 'This is an example', b'info2': 'of user meta handling'}"
     },
     "execution_count": 16,
     "metadata": {},
     "output_type": "execute_result"
    }
   ],
   "source": [
    "print(array.schunk.vlmeta.getall())\n",
    "array.schunk.vlmeta[\"info1\"] = \"This is an example\"\n",
    "array.schunk.vlmeta[\"info2\"] = \"of user meta handling\"\n",
    "array.schunk.vlmeta.getall()"
   ]
  },
  {
   "cell_type": "markdown",
   "metadata": {},
   "source": [
    "You can update them with a value larger than the original one:"
   ]
  },
  {
   "cell_type": "code",
   "execution_count": 17,
   "metadata": {
    "ExecuteTime": {
     "end_time": "2024-02-01T13:48:42.803564Z",
     "start_time": "2024-02-01T13:48:42.654680Z"
    }
   },
   "outputs": [
    {
     "data": {
      "text/plain": "{b'info1': 'This is a larger example', b'info2': 'of user meta handling'}"
     },
     "execution_count": 17,
     "metadata": {},
     "output_type": "execute_result"
    }
   ],
   "source": [
    "array.schunk.vlmeta[\"info1\"] = \"This is a larger example\"\n",
    "array.schunk.vlmeta.getall()"
   ]
  },
  {
   "cell_type": "markdown",
   "source": [
    "## Creating a NDArray from a NumPy array\n",
    "\n",
    "Let's create a NDArray from a NumPy array using the `asarray` constructor:"
   ],
   "metadata": {
    "collapsed": false
   }
  },
  {
   "cell_type": "code",
   "execution_count": 18,
   "outputs": [
    {
     "name": "stdout",
     "output_type": "stream",
     "text": [
      "type    : NDArray\n",
      "shape   : (100, 100, 100)\n",
      "chunks  : (64, 64, 100)\n",
      "blocks  : (32, 32, 32)\n",
      "dtype   : float64\n",
      "cratio  : 15.99\n",
      "cparams : {'blocksize': 262144,\n",
      " 'clevel': 1,\n",
      " 'codec': <Codec.ZSTD: 5>,\n",
      " 'codec_meta': 0,\n",
      " 'filters': [<Filter.NOFILTER: 0>,\n",
      "             <Filter.NOFILTER: 0>,\n",
      "             <Filter.NOFILTER: 0>,\n",
      "             <Filter.NOFILTER: 0>,\n",
      "             <Filter.NOFILTER: 0>,\n",
      "             <Filter.SHUFFLE: 1>],\n",
      " 'filters_meta': [0, 0, 0, 0, 0, 0],\n",
      " 'nthreads': 6,\n",
      " 'splitmode': <SplitMode.ALWAYS_SPLIT: 1>,\n",
      " 'typesize': 8,\n",
      " 'use_dict': 0}\n",
      "dparams : {'nthreads': 6}\n"
     ]
    }
   ],
   "source": [
    "shape = (100, 100, 100)\n",
    "dtype = np.float64\n",
    "nparray = np.linspace(0, 100, np.prod(shape), dtype=dtype).reshape(shape)\n",
    "b2ndarray = blosc2.asarray(nparray)\n",
    "print(b2ndarray.info)"
   ],
   "metadata": {
    "collapsed": false,
    "ExecuteTime": {
     "end_time": "2024-02-01T13:48:42.821726Z",
     "start_time": "2024-02-01T13:48:42.659936Z"
    }
   }
  },
  {
   "cell_type": "markdown",
   "source": [
    "## Building a NDArray from a buffer\n",
    "\n",
    "Furthermore, you can create a NDArray filled with data from a buffer:"
   ],
   "metadata": {
    "collapsed": false
   }
  },
  {
   "cell_type": "code",
   "execution_count": 19,
   "outputs": [
    {
     "name": "stdout",
     "output_type": "stream",
     "text": [
      "Compression ratio: 2.346534664543712\n"
     ]
    },
    {
     "data": {
      "text/plain": "array([[[ 5.42196142e+00,  2.73411248e-01, -8.16705224e-01,\n          1.37387920e+00,  4.67745267e+00],\n        [-9.74870871e+00,  5.84935129e+00,  9.58553390e+00,\n         -2.83529450e-01,  7.53172473e+00],\n        [ 1.49656577e+00,  5.17716640e+00,  7.88381029e+00,\n          6.98547347e-01, -4.22113557e+00],\n        [ 3.26899881e+00, -1.82539905e+00, -6.64803980e+00,\n          2.26750920e+00, -8.04904893e+00],\n        [ 1.25639643e+01,  6.13877785e+00,  8.36071977e-01,\n          4.61057570e+00,  1.48929362e+01]],\n\n       [[ 3.35584136e+00,  1.99526803e-01, -1.83173110e+01,\n         -9.23138847e+00, -1.16172733e+00],\n        [-5.03933967e+00, -1.12041458e+01,  4.03284196e+00,\n          1.00896486e+01,  1.66993503e+00],\n        [-1.18575679e+01, -4.75050150e+00,  2.18309491e+00,\n          7.96693815e+00, -1.08675195e+01],\n        [-8.88867651e+00,  2.61614522e+00, -1.21496391e+00,\n         -1.07405006e+01, -1.62225644e+01],\n        [-8.06054293e+00,  1.41019810e+01,  3.73009613e+00,\n          1.94280930e+00, -4.03920319e-01]],\n\n       [[ 7.11325574e+00,  1.81344216e+00, -1.31212523e+01,\n          7.53794442e+00,  6.05015875e+00],\n        [-3.72363480e+00,  1.51570884e+01, -2.04563128e-01,\n          2.48303234e+00, -2.40123746e+00],\n        [-6.54960604e+00, -9.95287318e+00, -5.29298162e+00,\n          8.24236836e+00,  7.44135682e+00],\n        [ 2.93987926e+00, -6.38440848e+00, -1.14590714e+00,\n          2.02831822e+00,  2.50627016e-03],\n        [ 4.39693638e+00,  7.14526714e+00, -1.83301102e+00,\n          8.41598861e+00, -4.57312873e+00]],\n\n       [[ 1.72690846e+01,  6.30828920e+00, -5.30917037e+00,\n          7.52455436e+00,  1.19643440e+01],\n        [ 9.12355405e+00,  1.67975018e+00,  2.93640941e+00,\n         -7.64215452e+00,  1.62410350e+00],\n        [-1.55437404e+00,  9.49132288e-01,  8.92834289e+00,\n         -1.37456729e+01,  9.86778010e+00],\n        [-7.21853497e+00, -4.47973496e+00,  3.25376041e+00,\n         -6.51526389e+00,  8.59162340e+00],\n        [-9.83341081e+00,  9.25969121e+00, -1.36367239e+01,\n          8.07390571e+00,  6.14360462e-01]],\n\n       [[ 4.65602528e+00, -1.48217159e+01,  7.67247150e+00,\n         -1.41809697e+01,  8.29187072e+00],\n        [-2.09188110e+01, -1.21744141e+01, -1.23980307e+00,\n         -1.67901253e+01, -1.11255548e+01],\n        [-1.71639719e+00,  8.41005260e+00, -9.16336234e+00,\n         -9.91380613e+00, -9.34633040e-01],\n        [-7.14082014e+00, -3.63309930e+00,  5.40634385e+00,\n         -1.65522254e+00,  5.61551645e+00],\n        [-6.91584808e-01,  1.46205820e+01, -6.56466213e+00,\n         -3.79375418e+00,  6.82807996e+00]]])"
     },
     "execution_count": 19,
     "metadata": {},
     "output_type": "execute_result"
    }
   ],
   "source": [
    "buffer = bytes(np.random.normal(0, 1, np.prod(shape)) * 8)\n",
    "b2ndarray = blosc2.frombuffer(buffer, shape, dtype=dtype)\n",
    "print(\"Compression ratio:\", b2ndarray.schunk.cratio)\n",
    "b2ndarray[:5, :5, :5]"
   ],
   "metadata": {
    "collapsed": false,
    "ExecuteTime": {
     "end_time": "2024-02-01T13:48:42.826284Z",
     "start_time": "2024-02-01T13:48:42.704044Z"
    }
   }
  },
  {
   "cell_type": "markdown",
   "metadata": {},
   "source": [
    "That's all for now.  There are more examples in the [examples directory of the git repository](https://github.com/Blosc/python-blosc2/tree/main/examples/) for you to explore.  Enjoy!"
   ]
  }
 ],
 "metadata": {
  "kernelspec": {
   "display_name": "Python 3 (ipykernel)",
   "language": "python",
   "name": "python3"
  },
  "language_info": {
   "codemirror_mode": {
    "name": "ipython",
    "version": 3
   },
   "file_extension": ".py",
   "mimetype": "text/x-python",
   "name": "python",
   "nbconvert_exporter": "python",
   "pygments_lexer": "ipython3",
   "version": "3.9.7"
  }
 },
 "nbformat": 4,
 "nbformat_minor": 1
}
