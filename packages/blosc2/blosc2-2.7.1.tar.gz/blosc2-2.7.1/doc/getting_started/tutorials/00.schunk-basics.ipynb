{
 "cells": [
  {
   "cell_type": "markdown",
   "metadata": {},
   "source": [
    "# Basics: compressing data with the SChunk class\n",
    "\n",
    "Python-Blosc2 is a thin wrapper for the C-Blosc2 format and compression library.  It allows to easily and quickly create, append, insert, update and delete data and metadata in a super-chunk container (SChunk class)."
   ]
  },
  {
   "cell_type": "code",
   "execution_count": 1,
   "metadata": {
    "ExecuteTime": {
     "end_time": "2023-06-20T08:56:06.847395Z",
     "start_time": "2023-06-20T08:56:04.891386Z"
    }
   },
   "outputs": [],
   "source": [
    "import blosc2\n",
    "import numpy as np"
   ]
  },
  {
   "cell_type": "markdown",
   "metadata": {},
   "source": [
    "## Create a new SChunk instance\n",
    "\n",
    "Let's configure the parameters that are different from defaults:"
   ]
  },
  {
   "cell_type": "code",
   "execution_count": 2,
   "metadata": {
    "ExecuteTime": {
     "end_time": "2023-06-20T08:56:35.213472Z",
     "start_time": "2023-06-20T08:56:35.185848Z"
    }
   },
   "outputs": [],
   "source": [
    "cparams = {\n",
    "    \"codec\": blosc2.Codec.BLOSCLZ,\n",
    "    \"typesize\": 4,\n",
    "    \"nthreads\": 8,\n",
    "}\n",
    "\n",
    "dparams = {\n",
    "    \"nthreads\": 16,\n",
    "}\n",
    "\n",
    "storage = {\n",
    "    \"contiguous\": True,\n",
    "    \"urlpath\": \"myfile.b2frame\",\n",
    "    \"mode\": \"w\",  # create a new file\n",
    "    \"cparams\": cparams,\n",
    "    \"dparams\": dparams,\n",
    "}"
   ]
  },
  {
   "cell_type": "markdown",
   "metadata": {},
   "source": [
    "Now, we can already create a SChunk instance:"
   ]
  },
  {
   "cell_type": "code",
   "execution_count": 3,
   "metadata": {
    "ExecuteTime": {
     "end_time": "2023-06-20T08:56:39.138571Z",
     "start_time": "2023-06-20T08:56:39.094692Z"
    }
   },
   "outputs": [
    {
     "data": {
      "text/plain": "<blosc2.schunk.SChunk at 0x7f9d94a0bc80>"
     },
     "execution_count": 3,
     "metadata": {},
     "output_type": "execute_result"
    }
   ],
   "source": [
    "schunk = blosc2.SChunk(chunksize=10_000_000, **storage)\n",
    "schunk"
   ]
  },
  {
   "cell_type": "markdown",
   "metadata": {},
   "source": [
    "Great! So you have created your first super-chunk with your desired compression codec and typesize, that is going to be persistent on-disk."
   ]
  },
  {
   "cell_type": "markdown",
   "metadata": {},
   "source": [
    "## Append and read data\n",
    "\n",
    "We are going to add some data.  First, let's create the dataset (4 MB):"
   ]
  },
  {
   "cell_type": "code",
   "execution_count": 4,
   "metadata": {
    "ExecuteTime": {
     "end_time": "2023-06-20T08:57:12.225714Z",
     "start_time": "2023-06-20T08:57:11.198762Z"
    }
   },
   "outputs": [],
   "source": [
    "buffer = [i * np.arange(2_500_000, dtype=\"int32\") for i in range(100)]"
   ]
  },
  {
   "cell_type": "code",
   "execution_count": 5,
   "metadata": {
    "ExecuteTime": {
     "end_time": "2023-06-20T08:57:13.599134Z",
     "start_time": "2023-06-20T08:57:12.984832Z"
    }
   },
   "outputs": [
    {
     "name": "stdout",
     "output_type": "stream",
     "text": [
      "CPU times: user 737 ms, sys: 223 ms, total: 959 ms\n",
      "Wall time: 680 ms\n"
     ]
    }
   ],
   "source": [
    "%%time\n",
    "for i in range(100):\n",
    "    nchunks = schunk.append_data(buffer[i])\n",
    "    assert nchunks == (i + 1)"
   ]
  },
  {
   "cell_type": "code",
   "execution_count": 6,
   "metadata": {
    "ExecuteTime": {
     "end_time": "2023-06-20T08:57:15.168245Z",
     "start_time": "2023-06-20T08:57:15.005858Z"
    }
   },
   "outputs": [
    {
     "name": "stdout",
     "output_type": "stream",
     "text": [
      "-rw-r--r--  1 martaiborra  staff    53M Jun 20 10:57 myfile.b2frame\r\n"
     ]
    }
   ],
   "source": [
    "!ls -lh myfile.b2frame"
   ]
  },
  {
   "cell_type": "markdown",
   "metadata": {},
   "source": [
    "So, while we have added 100 chunks of 10 MB each, the data size of the frame on-disk is a little above 10 MB.  This is how compression is helping you to use less resources.\n",
    "\n",
    "Now, let's read the chunks from disk:"
   ]
  },
  {
   "cell_type": "code",
   "execution_count": 7,
   "metadata": {
    "ExecuteTime": {
     "end_time": "2023-06-20T08:57:30.996015Z",
     "start_time": "2023-06-20T08:57:30.983554Z"
    }
   },
   "outputs": [],
   "source": [
    "dest = np.empty(2_500_000, dtype=\"int32\")"
   ]
  },
  {
   "cell_type": "code",
   "execution_count": 8,
   "metadata": {
    "ExecuteTime": {
     "end_time": "2023-06-20T08:57:32.836926Z",
     "start_time": "2023-06-20T08:57:32.587284Z"
    }
   },
   "outputs": [
    {
     "name": "stdout",
     "output_type": "stream",
     "text": [
      "CPU times: user 325 ms, sys: 268 ms, total: 594 ms\n",
      "Wall time: 277 ms\n"
     ]
    }
   ],
   "source": [
    "%%time\n",
    "for i in range(100):\n",
    "    chunk = schunk.decompress_chunk(i, dest)"
   ]
  },
  {
   "cell_type": "code",
   "execution_count": 9,
   "metadata": {
    "ExecuteTime": {
     "end_time": "2023-06-20T08:57:35.151951Z",
     "start_time": "2023-06-20T08:57:34.608295Z"
    }
   },
   "outputs": [],
   "source": [
    "check = 99 * np.arange(2_500_000, dtype=\"int32\")\n",
    "np.testing.assert_equal(dest, check)"
   ]
  },
  {
   "cell_type": "markdown",
   "metadata": {},
   "source": [
    "## Updating and inserting\n",
    "\n",
    "First, let's update the first chunk:"
   ]
  },
  {
   "cell_type": "code",
   "execution_count": 10,
   "metadata": {
    "ExecuteTime": {
     "end_time": "2023-06-20T08:57:38.686069Z",
     "start_time": "2023-06-20T08:57:38.659828Z"
    }
   },
   "outputs": [],
   "source": [
    "data_up = np.arange(2_500_000, dtype=\"int32\")\n",
    "chunk = blosc2.compress2(data_up)"
   ]
  },
  {
   "cell_type": "code",
   "execution_count": 11,
   "metadata": {
    "ExecuteTime": {
     "end_time": "2023-06-20T08:57:40.609473Z",
     "start_time": "2023-06-20T08:57:40.573103Z"
    }
   },
   "outputs": [
    {
     "name": "stdout",
     "output_type": "stream",
     "text": [
      "CPU times: user 305 µs, sys: 1.14 ms, total: 1.45 ms\n",
      "Wall time: 1.36 ms\n"
     ]
    },
    {
     "data": {
      "text/plain": "100"
     },
     "execution_count": 11,
     "metadata": {},
     "output_type": "execute_result"
    }
   ],
   "source": [
    "%%time\n",
    "schunk.update_chunk(nchunk=0, chunk=chunk)"
   ]
  },
  {
   "cell_type": "markdown",
   "metadata": {},
   "source": [
    "And then, insert another one at position 4:"
   ]
  },
  {
   "cell_type": "code",
   "execution_count": 12,
   "metadata": {
    "ExecuteTime": {
     "end_time": "2023-06-20T08:57:43.390240Z",
     "start_time": "2023-06-20T08:57:43.342470Z"
    }
   },
   "outputs": [
    {
     "name": "stdout",
     "output_type": "stream",
     "text": [
      "CPU times: user 255 µs, sys: 1.13 ms, total: 1.38 ms\n",
      "Wall time: 2.54 ms\n"
     ]
    },
    {
     "data": {
      "text/plain": "101"
     },
     "execution_count": 12,
     "metadata": {},
     "output_type": "execute_result"
    }
   ],
   "source": [
    "%%time\n",
    "schunk.insert_chunk(nchunk=4, chunk=chunk)"
   ]
  },
  {
   "cell_type": "markdown",
   "metadata": {},
   "source": [
    "In this case the return value is the new number of chunks in the super-chunk."
   ]
  },
  {
   "cell_type": "markdown",
   "metadata": {},
   "source": [
    "## Add user meta info\n",
    "\n",
    "In Blosc2 there are to kind of meta information that you can add to a SChunk.\n",
    "One must be added during the creation of it, cannot be deleted and must always have the same bytes size. This one is known as `meta`, and works like a dictionary."
   ]
  },
  {
   "cell_type": "code",
   "execution_count": 17,
   "outputs": [
    {
     "data": {
      "text/plain": "['meta1']"
     },
     "execution_count": 17,
     "metadata": {},
     "output_type": "execute_result"
    }
   ],
   "source": [
    "schunk = blosc2.SChunk(meta={\"meta1\": 234})\n",
    "schunk.meta.keys()"
   ],
   "metadata": {
    "collapsed": false,
    "ExecuteTime": {
     "end_time": "2023-06-20T09:33:56.509580Z",
     "start_time": "2023-06-20T09:33:56.486725Z"
    }
   }
  },
  {
   "cell_type": "code",
   "execution_count": 19,
   "outputs": [
    {
     "data": {
      "text/plain": "234"
     },
     "execution_count": 19,
     "metadata": {},
     "output_type": "execute_result"
    }
   ],
   "source": [
    "schunk.meta[\"meta1\"]"
   ],
   "metadata": {
    "collapsed": false,
    "ExecuteTime": {
     "end_time": "2023-06-20T09:34:36.117828Z",
     "start_time": "2023-06-20T09:34:36.108260Z"
    }
   }
  },
  {
   "cell_type": "code",
   "execution_count": 20,
   "outputs": [
    {
     "data": {
      "text/plain": "235"
     },
     "execution_count": 20,
     "metadata": {},
     "output_type": "execute_result"
    }
   ],
   "source": [
    "schunk.meta[\"meta1\"] = 235\n",
    "schunk.meta[\"meta1\"]"
   ],
   "metadata": {
    "collapsed": false,
    "ExecuteTime": {
     "end_time": "2023-06-20T09:35:03.927788Z",
     "start_time": "2023-06-20T09:35:03.917223Z"
    }
   }
  },
  {
   "cell_type": "markdown",
   "source": [
    "The other one is known as `vlmeta`, which stands for \"variable length metadata\", and, as the name suggests, it is meant to store general, variable length data (incidentally, this is more flexible than what you can store as regular data, which is always the same `typesize`). You can add an entry after the creation of the SChunk, update it with a different bytes size value or delete it.\n",
    "\n",
    "`vlmeta` follows the dictionary interface, so adding info is as easy as:"
   ],
   "metadata": {
    "collapsed": false
   }
  },
  {
   "cell_type": "code",
   "execution_count": 13,
   "metadata": {
    "ExecuteTime": {
     "end_time": "2023-06-20T08:58:10.944357Z",
     "start_time": "2023-06-20T08:58:10.899490Z"
    }
   },
   "outputs": [
    {
     "data": {
      "text/plain": "{b'info1': 'This is an example', b'info2': 'of user meta handling'}"
     },
     "execution_count": 13,
     "metadata": {},
     "output_type": "execute_result"
    }
   ],
   "source": [
    "schunk.vlmeta[\"info1\"] = \"This is an example\"\n",
    "schunk.vlmeta[\"info2\"] = \"of user meta handling\"\n",
    "schunk.vlmeta.getall()"
   ]
  },
  {
   "cell_type": "markdown",
   "metadata": {},
   "source": [
    "You can also delete an entry as you would do with a dictionary:"
   ]
  },
  {
   "cell_type": "code",
   "execution_count": 14,
   "metadata": {
    "ExecuteTime": {
     "end_time": "2023-06-20T08:58:19.331481Z",
     "start_time": "2023-06-20T08:58:19.295516Z"
    }
   },
   "outputs": [
    {
     "data": {
      "text/plain": "{b'info2': 'of user meta handling'}"
     },
     "execution_count": 14,
     "metadata": {},
     "output_type": "execute_result"
    }
   ],
   "source": [
    "del schunk.vlmeta[\"info1\"]\n",
    "schunk.vlmeta.getall()"
   ]
  },
  {
   "cell_type": "markdown",
   "metadata": {},
   "source": [
    "That's all for now.  There are more examples in the [examples directory of the git repository](https://github.com/Blosc/python-blosc2/tree/main/examples) for you to explore.  Enjoy!"
   ]
  }
 ],
 "metadata": {
  "kernelspec": {
   "display_name": "Python 3 (ipykernel)",
   "language": "python",
   "name": "python3"
  },
  "language_info": {
   "codemirror_mode": {
    "name": "ipython",
    "version": 3
   },
   "file_extension": ".py",
   "mimetype": "text/x-python",
   "name": "python",
   "nbconvert_exporter": "python",
   "pygments_lexer": "ipython3",
   "version": "3.10.4"
  }
 },
 "nbformat": 4,
 "nbformat_minor": 1
}
